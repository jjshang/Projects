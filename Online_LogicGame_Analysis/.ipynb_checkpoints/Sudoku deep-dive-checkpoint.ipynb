{
 "cells": [
  {
   "cell_type": "code",
   "execution_count": 1,
   "metadata": {},
   "outputs": [],
   "source": [
    "import pandas as pd\n",
    "import numpy as np\n",
    "import matplotlib.pyplot as plt"
   ]
  },
  {
   "cell_type": "code",
   "execution_count": 2,
   "metadata": {},
   "outputs": [],
   "source": [
    "user = pd.read_csv(\"sudoku_user.csv\")"
   ]
  },
  {
   "cell_type": "code",
   "execution_count": 3,
   "metadata": {},
   "outputs": [],
   "source": [
    "num = pd.read_csv(\"sudoku_counts.csv\")"
   ]
  },
  {
   "cell_type": "code",
   "execution_count": 4,
   "metadata": {},
   "outputs": [
    {
     "data": {
      "text/html": [
       "<div>\n",
       "<style scoped>\n",
       "    .dataframe tbody tr th:only-of-type {\n",
       "        vertical-align: middle;\n",
       "    }\n",
       "\n",
       "    .dataframe tbody tr th {\n",
       "        vertical-align: top;\n",
       "    }\n",
       "\n",
       "    .dataframe thead th {\n",
       "        text-align: right;\n",
       "    }\n",
       "</style>\n",
       "<table border=\"1\" class=\"dataframe\">\n",
       "  <thead>\n",
       "    <tr style=\"text-align: right;\">\n",
       "      <th></th>\n",
       "      <th>User ID</th>\n",
       "      <th>Birth Year</th>\n",
       "      <th>Country</th>\n",
       "      <th>Country.1</th>\n",
       "      <th>US State</th>\n",
       "      <th>Gender</th>\n",
       "    </tr>\n",
       "  </thead>\n",
       "  <tbody>\n",
       "    <tr>\n",
       "      <th>0</th>\n",
       "      <td>1</td>\n",
       "      <td>1976</td>\n",
       "      <td>il</td>\n",
       "      <td>Israel</td>\n",
       "      <td>NaN</td>\n",
       "      <td>m</td>\n",
       "    </tr>\n",
       "    <tr>\n",
       "      <th>1</th>\n",
       "      <td>2</td>\n",
       "      <td>1950</td>\n",
       "      <td>il</td>\n",
       "      <td>Israel</td>\n",
       "      <td>NaN</td>\n",
       "      <td>f</td>\n",
       "    </tr>\n",
       "    <tr>\n",
       "      <th>2</th>\n",
       "      <td>3</td>\n",
       "      <td>0</td>\n",
       "      <td>NaN</td>\n",
       "      <td>NaN</td>\n",
       "      <td>TX</td>\n",
       "      <td>NaN</td>\n",
       "    </tr>\n",
       "    <tr>\n",
       "      <th>3</th>\n",
       "      <td>4</td>\n",
       "      <td>0</td>\n",
       "      <td>NaN</td>\n",
       "      <td>NaN</td>\n",
       "      <td>NaN</td>\n",
       "      <td>NaN</td>\n",
       "    </tr>\n",
       "    <tr>\n",
       "      <th>4</th>\n",
       "      <td>5</td>\n",
       "      <td>1949</td>\n",
       "      <td>us</td>\n",
       "      <td>United States</td>\n",
       "      <td>FL</td>\n",
       "      <td>m</td>\n",
       "    </tr>\n",
       "  </tbody>\n",
       "</table>\n",
       "</div>"
      ],
      "text/plain": [
       "   User ID  Birth Year Country      Country.1 US State Gender\n",
       "0        1        1976      il         Israel      NaN      m\n",
       "1        2        1950      il         Israel      NaN      f\n",
       "2        3           0     NaN            NaN       TX    NaN\n",
       "3        4           0     NaN            NaN      NaN    NaN\n",
       "4        5        1949      us  United States       FL      m"
      ]
     },
     "execution_count": 4,
     "metadata": {},
     "output_type": "execute_result"
    }
   ],
   "source": [
    "user.head()"
   ]
  },
  {
   "cell_type": "code",
   "execution_count": 5,
   "metadata": {},
   "outputs": [
    {
     "data": {
      "text/html": [
       "<div>\n",
       "<style scoped>\n",
       "    .dataframe tbody tr th:only-of-type {\n",
       "        vertical-align: middle;\n",
       "    }\n",
       "\n",
       "    .dataframe tbody tr th {\n",
       "        vertical-align: top;\n",
       "    }\n",
       "\n",
       "    .dataframe thead th {\n",
       "        text-align: right;\n",
       "    }\n",
       "</style>\n",
       "<table border=\"1\" class=\"dataframe\">\n",
       "  <thead>\n",
       "    <tr style=\"text-align: right;\">\n",
       "      <th></th>\n",
       "      <th>User ID</th>\n",
       "      <th>Puzzle Level</th>\n",
       "      <th>Best Time (s)</th>\n",
       "      <th>Puzzles Solved</th>\n",
       "      <th>Puzzle Solved w/o Errors</th>\n",
       "      <th>Puzzle Solved w/ Errors</th>\n",
       "      <th>Total Time (s) for all Puzzles Solved</th>\n",
       "      <th>Total of (time squared) for all puzzles solved</th>\n",
       "      <th>Birth_Year</th>\n",
       "      <th>Country</th>\n",
       "      <th>US_State</th>\n",
       "      <th>Gender</th>\n",
       "    </tr>\n",
       "  </thead>\n",
       "  <tbody>\n",
       "    <tr>\n",
       "      <th>0</th>\n",
       "      <td>1</td>\n",
       "      <td>1</td>\n",
       "      <td>506</td>\n",
       "      <td>1</td>\n",
       "      <td>1</td>\n",
       "      <td>0</td>\n",
       "      <td>506</td>\n",
       "      <td>256036</td>\n",
       "      <td>1976</td>\n",
       "      <td>Israel</td>\n",
       "      <td>0</td>\n",
       "      <td>m</td>\n",
       "    </tr>\n",
       "    <tr>\n",
       "      <th>1</th>\n",
       "      <td>2</td>\n",
       "      <td>1</td>\n",
       "      <td>79</td>\n",
       "      <td>12</td>\n",
       "      <td>11</td>\n",
       "      <td>1</td>\n",
       "      <td>2307</td>\n",
       "      <td>511683</td>\n",
       "      <td>1950</td>\n",
       "      <td>Israel</td>\n",
       "      <td>0</td>\n",
       "      <td>f</td>\n",
       "    </tr>\n",
       "    <tr>\n",
       "      <th>2</th>\n",
       "      <td>2</td>\n",
       "      <td>2</td>\n",
       "      <td>65</td>\n",
       "      <td>2</td>\n",
       "      <td>1</td>\n",
       "      <td>1</td>\n",
       "      <td>131</td>\n",
       "      <td>8581</td>\n",
       "      <td>1950</td>\n",
       "      <td>Israel</td>\n",
       "      <td>0</td>\n",
       "      <td>f</td>\n",
       "    </tr>\n",
       "    <tr>\n",
       "      <th>3</th>\n",
       "      <td>2</td>\n",
       "      <td>4</td>\n",
       "      <td>294</td>\n",
       "      <td>2</td>\n",
       "      <td>2</td>\n",
       "      <td>0</td>\n",
       "      <td>1556</td>\n",
       "      <td>1679080</td>\n",
       "      <td>1950</td>\n",
       "      <td>Israel</td>\n",
       "      <td>0</td>\n",
       "      <td>f</td>\n",
       "    </tr>\n",
       "    <tr>\n",
       "      <th>4</th>\n",
       "      <td>3</td>\n",
       "      <td>1</td>\n",
       "      <td>190</td>\n",
       "      <td>1</td>\n",
       "      <td>1</td>\n",
       "      <td>0</td>\n",
       "      <td>190</td>\n",
       "      <td>36100</td>\n",
       "      <td>0</td>\n",
       "      <td>NaN</td>\n",
       "      <td>TX</td>\n",
       "      <td>0</td>\n",
       "    </tr>\n",
       "  </tbody>\n",
       "</table>\n",
       "</div>"
      ],
      "text/plain": [
       "   User ID  Puzzle Level  Best Time (s)  Puzzles Solved  \\\n",
       "0        1             1            506               1   \n",
       "1        2             1             79              12   \n",
       "2        2             2             65               2   \n",
       "3        2             4            294               2   \n",
       "4        3             1            190               1   \n",
       "\n",
       "   Puzzle Solved w/o Errors  Puzzle Solved w/ Errors  \\\n",
       "0                         1                        0   \n",
       "1                        11                        1   \n",
       "2                         1                        1   \n",
       "3                         2                        0   \n",
       "4                         1                        0   \n",
       "\n",
       "   Total Time (s) for all Puzzles Solved  \\\n",
       "0                                    506   \n",
       "1                                   2307   \n",
       "2                                    131   \n",
       "3                                   1556   \n",
       "4                                    190   \n",
       "\n",
       "   Total of (time squared) for all puzzles solved  Birth_Year Country  \\\n",
       "0                                          256036        1976  Israel   \n",
       "1                                          511683        1950  Israel   \n",
       "2                                            8581        1950  Israel   \n",
       "3                                         1679080        1950  Israel   \n",
       "4                                           36100           0     NaN   \n",
       "\n",
       "  US_State Gender  \n",
       "0        0      m  \n",
       "1        0      f  \n",
       "2        0      f  \n",
       "3        0      f  \n",
       "4       TX      0  "
      ]
     },
     "execution_count": 5,
     "metadata": {},
     "output_type": "execute_result"
    }
   ],
   "source": [
    "num.head()"
   ]
  },
  {
   "cell_type": "markdown",
   "metadata": {},
   "source": [
    "## Look at Level = Easy"
   ]
  },
  {
   "cell_type": "code",
   "execution_count": 6,
   "metadata": {},
   "outputs": [],
   "source": [
    "num1 = num[num[\"Puzzle Level\"] == 1].reset_index()"
   ]
  },
  {
   "cell_type": "code",
   "execution_count": 7,
   "metadata": {},
   "outputs": [
    {
     "data": {
      "text/html": [
       "<div>\n",
       "<style scoped>\n",
       "    .dataframe tbody tr th:only-of-type {\n",
       "        vertical-align: middle;\n",
       "    }\n",
       "\n",
       "    .dataframe tbody tr th {\n",
       "        vertical-align: top;\n",
       "    }\n",
       "\n",
       "    .dataframe thead th {\n",
       "        text-align: right;\n",
       "    }\n",
       "</style>\n",
       "<table border=\"1\" class=\"dataframe\">\n",
       "  <thead>\n",
       "    <tr style=\"text-align: right;\">\n",
       "      <th></th>\n",
       "      <th>index</th>\n",
       "      <th>User ID</th>\n",
       "      <th>Puzzle Level</th>\n",
       "      <th>Best Time (s)</th>\n",
       "      <th>Puzzles Solved</th>\n",
       "      <th>Puzzle Solved w/o Errors</th>\n",
       "      <th>Puzzle Solved w/ Errors</th>\n",
       "      <th>Total Time (s) for all Puzzles Solved</th>\n",
       "      <th>Total of (time squared) for all puzzles solved</th>\n",
       "      <th>Birth_Year</th>\n",
       "      <th>Country</th>\n",
       "      <th>US_State</th>\n",
       "      <th>Gender</th>\n",
       "    </tr>\n",
       "  </thead>\n",
       "  <tbody>\n",
       "    <tr>\n",
       "      <th>0</th>\n",
       "      <td>0</td>\n",
       "      <td>1</td>\n",
       "      <td>1</td>\n",
       "      <td>506</td>\n",
       "      <td>1</td>\n",
       "      <td>1</td>\n",
       "      <td>0</td>\n",
       "      <td>506</td>\n",
       "      <td>256036</td>\n",
       "      <td>1976</td>\n",
       "      <td>Israel</td>\n",
       "      <td>0</td>\n",
       "      <td>m</td>\n",
       "    </tr>\n",
       "    <tr>\n",
       "      <th>1</th>\n",
       "      <td>1</td>\n",
       "      <td>2</td>\n",
       "      <td>1</td>\n",
       "      <td>79</td>\n",
       "      <td>12</td>\n",
       "      <td>11</td>\n",
       "      <td>1</td>\n",
       "      <td>2307</td>\n",
       "      <td>511683</td>\n",
       "      <td>1950</td>\n",
       "      <td>Israel</td>\n",
       "      <td>0</td>\n",
       "      <td>f</td>\n",
       "    </tr>\n",
       "    <tr>\n",
       "      <th>2</th>\n",
       "      <td>4</td>\n",
       "      <td>3</td>\n",
       "      <td>1</td>\n",
       "      <td>190</td>\n",
       "      <td>1</td>\n",
       "      <td>1</td>\n",
       "      <td>0</td>\n",
       "      <td>190</td>\n",
       "      <td>36100</td>\n",
       "      <td>0</td>\n",
       "      <td>NaN</td>\n",
       "      <td>TX</td>\n",
       "      <td>0</td>\n",
       "    </tr>\n",
       "    <tr>\n",
       "      <th>3</th>\n",
       "      <td>7</td>\n",
       "      <td>5</td>\n",
       "      <td>1</td>\n",
       "      <td>257</td>\n",
       "      <td>119</td>\n",
       "      <td>35</td>\n",
       "      <td>21</td>\n",
       "      <td>72691</td>\n",
       "      <td>53643653</td>\n",
       "      <td>1949</td>\n",
       "      <td>United States</td>\n",
       "      <td>FL</td>\n",
       "      <td>m</td>\n",
       "    </tr>\n",
       "    <tr>\n",
       "      <th>4</th>\n",
       "      <td>13</td>\n",
       "      <td>8</td>\n",
       "      <td>1</td>\n",
       "      <td>156</td>\n",
       "      <td>850</td>\n",
       "      <td>785</td>\n",
       "      <td>65</td>\n",
       "      <td>253451</td>\n",
       "      <td>115729295</td>\n",
       "      <td>1963</td>\n",
       "      <td>India</td>\n",
       "      <td>0</td>\n",
       "      <td>m</td>\n",
       "    </tr>\n",
       "  </tbody>\n",
       "</table>\n",
       "</div>"
      ],
      "text/plain": [
       "   index  User ID  Puzzle Level  Best Time (s)  Puzzles Solved  \\\n",
       "0      0        1             1            506               1   \n",
       "1      1        2             1             79              12   \n",
       "2      4        3             1            190               1   \n",
       "3      7        5             1            257             119   \n",
       "4     13        8             1            156             850   \n",
       "\n",
       "   Puzzle Solved w/o Errors  Puzzle Solved w/ Errors  \\\n",
       "0                         1                        0   \n",
       "1                        11                        1   \n",
       "2                         1                        0   \n",
       "3                        35                       21   \n",
       "4                       785                       65   \n",
       "\n",
       "   Total Time (s) for all Puzzles Solved  \\\n",
       "0                                    506   \n",
       "1                                   2307   \n",
       "2                                    190   \n",
       "3                                  72691   \n",
       "4                                 253451   \n",
       "\n",
       "   Total of (time squared) for all puzzles solved  Birth_Year        Country  \\\n",
       "0                                          256036        1976         Israel   \n",
       "1                                          511683        1950         Israel   \n",
       "2                                           36100           0            NaN   \n",
       "3                                        53643653        1949  United States   \n",
       "4                                       115729295        1963          India   \n",
       "\n",
       "  US_State Gender  \n",
       "0        0      m  \n",
       "1        0      f  \n",
       "2       TX      0  \n",
       "3       FL      m  \n",
       "4        0      m  "
      ]
     },
     "execution_count": 7,
     "metadata": {},
     "output_type": "execute_result"
    }
   ],
   "source": [
    "num1.head()"
   ]
  },
  {
   "cell_type": "code",
   "execution_count": 8,
   "metadata": {},
   "outputs": [],
   "source": [
    "num1[\"Gender_numeric\"] = num1[\"Gender\"].map({\"m\":1, \"f\":0})"
   ]
  },
  {
   "cell_type": "code",
   "execution_count": 9,
   "metadata": {},
   "outputs": [
    {
     "data": {
      "text/html": [
       "<div>\n",
       "<style scoped>\n",
       "    .dataframe tbody tr th:only-of-type {\n",
       "        vertical-align: middle;\n",
       "    }\n",
       "\n",
       "    .dataframe tbody tr th {\n",
       "        vertical-align: top;\n",
       "    }\n",
       "\n",
       "    .dataframe thead th {\n",
       "        text-align: right;\n",
       "    }\n",
       "</style>\n",
       "<table border=\"1\" class=\"dataframe\">\n",
       "  <thead>\n",
       "    <tr style=\"text-align: right;\">\n",
       "      <th></th>\n",
       "      <th>index</th>\n",
       "      <th>User ID</th>\n",
       "      <th>Puzzle Level</th>\n",
       "      <th>Best Time (s)</th>\n",
       "      <th>Puzzles Solved</th>\n",
       "      <th>Puzzle Solved w/o Errors</th>\n",
       "      <th>Puzzle Solved w/ Errors</th>\n",
       "      <th>Total Time (s) for all Puzzles Solved</th>\n",
       "      <th>Total of (time squared) for all puzzles solved</th>\n",
       "      <th>Birth_Year</th>\n",
       "      <th>Country</th>\n",
       "      <th>US_State</th>\n",
       "      <th>Gender</th>\n",
       "      <th>Gender_numeric</th>\n",
       "    </tr>\n",
       "  </thead>\n",
       "  <tbody>\n",
       "    <tr>\n",
       "      <th>0</th>\n",
       "      <td>0</td>\n",
       "      <td>1</td>\n",
       "      <td>1</td>\n",
       "      <td>506</td>\n",
       "      <td>1</td>\n",
       "      <td>1</td>\n",
       "      <td>0</td>\n",
       "      <td>506</td>\n",
       "      <td>256036</td>\n",
       "      <td>1976</td>\n",
       "      <td>Israel</td>\n",
       "      <td>0</td>\n",
       "      <td>m</td>\n",
       "      <td>1.0</td>\n",
       "    </tr>\n",
       "    <tr>\n",
       "      <th>1</th>\n",
       "      <td>1</td>\n",
       "      <td>2</td>\n",
       "      <td>1</td>\n",
       "      <td>79</td>\n",
       "      <td>12</td>\n",
       "      <td>11</td>\n",
       "      <td>1</td>\n",
       "      <td>2307</td>\n",
       "      <td>511683</td>\n",
       "      <td>1950</td>\n",
       "      <td>Israel</td>\n",
       "      <td>0</td>\n",
       "      <td>f</td>\n",
       "      <td>0.0</td>\n",
       "    </tr>\n",
       "    <tr>\n",
       "      <th>2</th>\n",
       "      <td>4</td>\n",
       "      <td>3</td>\n",
       "      <td>1</td>\n",
       "      <td>190</td>\n",
       "      <td>1</td>\n",
       "      <td>1</td>\n",
       "      <td>0</td>\n",
       "      <td>190</td>\n",
       "      <td>36100</td>\n",
       "      <td>0</td>\n",
       "      <td>NaN</td>\n",
       "      <td>TX</td>\n",
       "      <td>0</td>\n",
       "      <td>NaN</td>\n",
       "    </tr>\n",
       "    <tr>\n",
       "      <th>3</th>\n",
       "      <td>7</td>\n",
       "      <td>5</td>\n",
       "      <td>1</td>\n",
       "      <td>257</td>\n",
       "      <td>119</td>\n",
       "      <td>35</td>\n",
       "      <td>21</td>\n",
       "      <td>72691</td>\n",
       "      <td>53643653</td>\n",
       "      <td>1949</td>\n",
       "      <td>United States</td>\n",
       "      <td>FL</td>\n",
       "      <td>m</td>\n",
       "      <td>1.0</td>\n",
       "    </tr>\n",
       "    <tr>\n",
       "      <th>4</th>\n",
       "      <td>13</td>\n",
       "      <td>8</td>\n",
       "      <td>1</td>\n",
       "      <td>156</td>\n",
       "      <td>850</td>\n",
       "      <td>785</td>\n",
       "      <td>65</td>\n",
       "      <td>253451</td>\n",
       "      <td>115729295</td>\n",
       "      <td>1963</td>\n",
       "      <td>India</td>\n",
       "      <td>0</td>\n",
       "      <td>m</td>\n",
       "      <td>1.0</td>\n",
       "    </tr>\n",
       "  </tbody>\n",
       "</table>\n",
       "</div>"
      ],
      "text/plain": [
       "   index  User ID  Puzzle Level  Best Time (s)  Puzzles Solved  \\\n",
       "0      0        1             1            506               1   \n",
       "1      1        2             1             79              12   \n",
       "2      4        3             1            190               1   \n",
       "3      7        5             1            257             119   \n",
       "4     13        8             1            156             850   \n",
       "\n",
       "   Puzzle Solved w/o Errors  Puzzle Solved w/ Errors  \\\n",
       "0                         1                        0   \n",
       "1                        11                        1   \n",
       "2                         1                        0   \n",
       "3                        35                       21   \n",
       "4                       785                       65   \n",
       "\n",
       "   Total Time (s) for all Puzzles Solved  \\\n",
       "0                                    506   \n",
       "1                                   2307   \n",
       "2                                    190   \n",
       "3                                  72691   \n",
       "4                                 253451   \n",
       "\n",
       "   Total of (time squared) for all puzzles solved  Birth_Year        Country  \\\n",
       "0                                          256036        1976         Israel   \n",
       "1                                          511683        1950         Israel   \n",
       "2                                           36100           0            NaN   \n",
       "3                                        53643653        1949  United States   \n",
       "4                                       115729295        1963          India   \n",
       "\n",
       "  US_State Gender  Gender_numeric  \n",
       "0        0      m             1.0  \n",
       "1        0      f             0.0  \n",
       "2       TX      0             NaN  \n",
       "3       FL      m             1.0  \n",
       "4        0      m             1.0  "
      ]
     },
     "execution_count": 9,
     "metadata": {},
     "output_type": "execute_result"
    }
   ],
   "source": [
    "num1.head()"
   ]
  },
  {
   "cell_type": "code",
   "execution_count": 10,
   "metadata": {},
   "outputs": [
    {
     "data": {
      "text/plain": [
       "Country\n",
       "Afghanistan                                29.0\n",
       "Albania                                    93.0\n",
       "Algeria                                    44.0\n",
       "American Samoa                             21.0\n",
       "Andorra                                     5.0\n",
       "Angola                                      9.0\n",
       "Anguilla                                    1.0\n",
       "Antarctica                                 11.0\n",
       "Antigua and Barbuda                        10.0\n",
       "Argentina                                 146.0\n",
       "Armenia                                    16.0\n",
       "Aruba                                      11.0\n",
       "Australia                                1153.0\n",
       "Austria                                    39.0\n",
       "Azerbaijan                                 23.0\n",
       "Bahamas                                    13.0\n",
       "Bahrain                                    41.0\n",
       "Bangladesh                                183.0\n",
       "Barbados                                   17.0\n",
       "Belarus                                     5.0\n",
       "Belgium                                   217.0\n",
       "Belize                                     11.0\n",
       "Benin                                       0.0\n",
       "Bermuda                                     6.0\n",
       "Bhutan                                      2.0\n",
       "Bolivia, Plurinational State of            18.0\n",
       "Bosnia and Herzegovina                    114.0\n",
       "Botswana                                   11.0\n",
       "Bouvet Island                               1.0\n",
       "Brazil                                    523.0\n",
       "                                         ...   \n",
       "Taiwan, Province of China                  94.0\n",
       "Tanzania, United Republic of                9.0\n",
       "Thailand                                  278.0\n",
       "Timor-Leste                                 1.0\n",
       "Togo                                        0.0\n",
       "Tokelau                                     1.0\n",
       "Trinidad and Tobago                        32.0\n",
       "Tunisia                                    26.0\n",
       "Turkey                                    433.0\n",
       "Turkmenistan                                1.0\n",
       "Turks and Caicos Islands                    1.0\n",
       "Tuvalu                                      1.0\n",
       "Uganda                                     50.0\n",
       "Ukraine                                    40.0\n",
       "United Arab Emirates                      180.0\n",
       "United Kingdom                           4394.0\n",
       "United States                           19391.0\n",
       "United States Minor Outlying Islands       13.0\n",
       "Uruguay                                    11.0\n",
       "Uzbekistan                                  8.0\n",
       "Vanuatu                                     1.0\n",
       "Venezuela, Bolivarian Republic of         107.0\n",
       "Viet Nam                                  374.0\n",
       "Virgin Islands, British                     3.0\n",
       "Virgin Islands, U.S.                        4.0\n",
       "Wallis and Futuna                           2.0\n",
       "Yemen                                      19.0\n",
       "Zambia                                     12.0\n",
       "Zimbabwe                                   28.0\n",
       "√Öland Islands                              6.0\n",
       "Name: Gender_numeric, Length: 224, dtype: float64"
      ]
     },
     "execution_count": 10,
     "metadata": {},
     "output_type": "execute_result"
    }
   ],
   "source": [
    "num1.groupby([\"Country\"])[\"Gender_numeric\"].sum()"
   ]
  },
  {
   "cell_type": "code",
   "execution_count": 11,
   "metadata": {},
   "outputs": [
    {
     "data": {
      "text/plain": [
       "Country\n",
       "Afghanistan                                41\n",
       "Albania                                   136\n",
       "Algeria                                    52\n",
       "American Samoa                             45\n",
       "Andorra                                     7\n",
       "Angola                                     12\n",
       "Anguilla                                    6\n",
       "Antarctica                                 19\n",
       "Antigua and Barbuda                        12\n",
       "Argentina                                 216\n",
       "Armenia                                    30\n",
       "Aruba                                      27\n",
       "Australia                                2131\n",
       "Austria                                    55\n",
       "Azerbaijan                                 31\n",
       "Bahamas                                    31\n",
       "Bahrain                                    62\n",
       "Bangladesh                                232\n",
       "Barbados                                   32\n",
       "Belarus                                     9\n",
       "Belgium                                   303\n",
       "Belize                                     18\n",
       "Benin                                       3\n",
       "Bermuda                                    17\n",
       "Bhutan                                      5\n",
       "Bolivia, Plurinational State of            28\n",
       "Bosnia and Herzegovina                    170\n",
       "Botswana                                   26\n",
       "Bouvet Island                               1\n",
       "Brazil                                    705\n",
       "                                        ...  \n",
       "Taiwan, Province of China                 147\n",
       "Tanzania, United Republic of               13\n",
       "Thailand                                  497\n",
       "Timor-Leste                                 2\n",
       "Togo                                        1\n",
       "Tokelau                                     1\n",
       "Trinidad and Tobago                        73\n",
       "Tunisia                                    43\n",
       "Turkey                                    568\n",
       "Turkmenistan                                1\n",
       "Turks and Caicos Islands                    2\n",
       "Tuvalu                                      2\n",
       "Uganda                                     74\n",
       "Ukraine                                    59\n",
       "United Arab Emirates                      290\n",
       "United Kingdom                           7930\n",
       "United States                           40298\n",
       "United States Minor Outlying Islands       41\n",
       "Uruguay                                    21\n",
       "Uzbekistan                                 11\n",
       "Vanuatu                                     1\n",
       "Venezuela, Bolivarian Republic of         139\n",
       "Viet Nam                                  586\n",
       "Virgin Islands, British                     6\n",
       "Virgin Islands, U.S.                        7\n",
       "Wallis and Futuna                           2\n",
       "Yemen                                      19\n",
       "Zambia                                     16\n",
       "Zimbabwe                                   46\n",
       "√Öland Islands                             13\n",
       "Name: Gender_numeric, Length: 224, dtype: int64"
      ]
     },
     "execution_count": 11,
     "metadata": {},
     "output_type": "execute_result"
    }
   ],
   "source": [
    "num1.groupby([\"Country\"])[\"Gender_numeric\"].count()"
   ]
  },
  {
   "cell_type": "code",
   "execution_count": 12,
   "metadata": {},
   "outputs": [
    {
     "data": {
      "text/html": [
       "<div>\n",
       "<style scoped>\n",
       "    .dataframe tbody tr th:only-of-type {\n",
       "        vertical-align: middle;\n",
       "    }\n",
       "\n",
       "    .dataframe tbody tr th {\n",
       "        vertical-align: top;\n",
       "    }\n",
       "\n",
       "    .dataframe thead th {\n",
       "        text-align: right;\n",
       "    }\n",
       "</style>\n",
       "<table border=\"1\" class=\"dataframe\">\n",
       "  <thead>\n",
       "    <tr style=\"text-align: right;\">\n",
       "      <th></th>\n",
       "      <th>index</th>\n",
       "      <th>User ID</th>\n",
       "      <th>Puzzle Level</th>\n",
       "      <th>Best Time (s)</th>\n",
       "      <th>Puzzles Solved</th>\n",
       "      <th>Puzzle Solved w/o Errors</th>\n",
       "      <th>Puzzle Solved w/ Errors</th>\n",
       "      <th>Total Time (s) for all Puzzles Solved</th>\n",
       "      <th>Total of (time squared) for all puzzles solved</th>\n",
       "      <th>Birth_Year</th>\n",
       "    </tr>\n",
       "    <tr>\n",
       "      <th>Gender_numeric</th>\n",
       "      <th></th>\n",
       "      <th></th>\n",
       "      <th></th>\n",
       "      <th></th>\n",
       "      <th></th>\n",
       "      <th></th>\n",
       "      <th></th>\n",
       "      <th></th>\n",
       "      <th></th>\n",
       "      <th></th>\n",
       "    </tr>\n",
       "  </thead>\n",
       "  <tbody>\n",
       "    <tr>\n",
       "      <th>0.0</th>\n",
       "      <td>6375156808</td>\n",
       "      <td>4910181900</td>\n",
       "      <td>41794</td>\n",
       "      <td>24134248</td>\n",
       "      <td>1992887</td>\n",
       "      <td>1167633</td>\n",
       "      <td>316191</td>\n",
       "      <td>841485625</td>\n",
       "      <td>695173797895</td>\n",
       "      <td>77280668</td>\n",
       "    </tr>\n",
       "    <tr>\n",
       "      <th>1.0</th>\n",
       "      <td>8418280888</td>\n",
       "      <td>6489067081</td>\n",
       "      <td>54702</td>\n",
       "      <td>31955191</td>\n",
       "      <td>2756121</td>\n",
       "      <td>1787557</td>\n",
       "      <td>365287</td>\n",
       "      <td>1129413783</td>\n",
       "      <td>884145969988</td>\n",
       "      <td>103871882</td>\n",
       "    </tr>\n",
       "  </tbody>\n",
       "</table>\n",
       "</div>"
      ],
      "text/plain": [
       "                     index     User ID  Puzzle Level  Best Time (s)  \\\n",
       "Gender_numeric                                                        \n",
       "0.0             6375156808  4910181900         41794       24134248   \n",
       "1.0             8418280888  6489067081         54702       31955191   \n",
       "\n",
       "                Puzzles Solved  Puzzle Solved w/o Errors  \\\n",
       "Gender_numeric                                             \n",
       "0.0                    1992887                   1167633   \n",
       "1.0                    2756121                   1787557   \n",
       "\n",
       "                Puzzle Solved w/ Errors  \\\n",
       "Gender_numeric                            \n",
       "0.0                              316191   \n",
       "1.0                              365287   \n",
       "\n",
       "                Total Time (s) for all Puzzles Solved  \\\n",
       "Gender_numeric                                          \n",
       "0.0                                         841485625   \n",
       "1.0                                        1129413783   \n",
       "\n",
       "                Total of (time squared) for all puzzles solved  Birth_Year  \n",
       "Gender_numeric                                                              \n",
       "0.0                                               695173797895    77280668  \n",
       "1.0                                               884145969988   103871882  "
      ]
     },
     "execution_count": 12,
     "metadata": {},
     "output_type": "execute_result"
    }
   ],
   "source": [
    "num1.groupby(\"Gender_numeric\").sum()"
   ]
  },
  {
   "cell_type": "code",
   "execution_count": 13,
   "metadata": {},
   "outputs": [],
   "source": [
    "perc_num1 = num1.groupby([\"Country\"])[\"Gender_numeric\"].sum()/num1.groupby([\"Country\"])[\"Gender_numeric\"].count()"
   ]
  },
  {
   "cell_type": "code",
   "execution_count": 14,
   "metadata": {},
   "outputs": [
    {
     "data": {
      "text/plain": [
       "0.6287285108383015"
      ]
     },
     "execution_count": 14,
     "metadata": {},
     "output_type": "execute_result"
    }
   ],
   "source": [
    "perc_num1.mean()"
   ]
  },
  {
   "cell_type": "markdown",
   "metadata": {},
   "source": [
    "## Look at Level = Medium"
   ]
  },
  {
   "cell_type": "code",
   "execution_count": 15,
   "metadata": {},
   "outputs": [],
   "source": [
    "num2 = num[num[\"Puzzle Level\"] == 2].reset_index()"
   ]
  },
  {
   "cell_type": "code",
   "execution_count": 16,
   "metadata": {},
   "outputs": [],
   "source": [
    "num2[\"Gender_numeric\"] = num2[\"Gender\"].map({\"m\":1, \"f\":0})"
   ]
  },
  {
   "cell_type": "code",
   "execution_count": 17,
   "metadata": {},
   "outputs": [
    {
     "data": {
      "text/html": [
       "<div>\n",
       "<style scoped>\n",
       "    .dataframe tbody tr th:only-of-type {\n",
       "        vertical-align: middle;\n",
       "    }\n",
       "\n",
       "    .dataframe tbody tr th {\n",
       "        vertical-align: top;\n",
       "    }\n",
       "\n",
       "    .dataframe thead th {\n",
       "        text-align: right;\n",
       "    }\n",
       "</style>\n",
       "<table border=\"1\" class=\"dataframe\">\n",
       "  <thead>\n",
       "    <tr style=\"text-align: right;\">\n",
       "      <th></th>\n",
       "      <th>index</th>\n",
       "      <th>User ID</th>\n",
       "      <th>Puzzle Level</th>\n",
       "      <th>Best Time (s)</th>\n",
       "      <th>Puzzles Solved</th>\n",
       "      <th>Puzzle Solved w/o Errors</th>\n",
       "      <th>Puzzle Solved w/ Errors</th>\n",
       "      <th>Total Time (s) for all Puzzles Solved</th>\n",
       "      <th>Total of (time squared) for all puzzles solved</th>\n",
       "      <th>Birth_Year</th>\n",
       "      <th>Country</th>\n",
       "      <th>US_State</th>\n",
       "      <th>Gender</th>\n",
       "      <th>Gender_numeric</th>\n",
       "    </tr>\n",
       "  </thead>\n",
       "  <tbody>\n",
       "    <tr>\n",
       "      <th>0</th>\n",
       "      <td>2</td>\n",
       "      <td>2</td>\n",
       "      <td>2</td>\n",
       "      <td>65</td>\n",
       "      <td>2</td>\n",
       "      <td>1</td>\n",
       "      <td>1</td>\n",
       "      <td>131</td>\n",
       "      <td>8581</td>\n",
       "      <td>1950</td>\n",
       "      <td>Israel</td>\n",
       "      <td>0</td>\n",
       "      <td>f</td>\n",
       "      <td>0.0</td>\n",
       "    </tr>\n",
       "    <tr>\n",
       "      <th>1</th>\n",
       "      <td>5</td>\n",
       "      <td>4</td>\n",
       "      <td>2</td>\n",
       "      <td>202</td>\n",
       "      <td>874</td>\n",
       "      <td>2</td>\n",
       "      <td>0</td>\n",
       "      <td>405849</td>\n",
       "      <td>210093747</td>\n",
       "      <td>0</td>\n",
       "      <td>NaN</td>\n",
       "      <td>0</td>\n",
       "      <td>0</td>\n",
       "      <td>NaN</td>\n",
       "    </tr>\n",
       "    <tr>\n",
       "      <th>2</th>\n",
       "      <td>8</td>\n",
       "      <td>5</td>\n",
       "      <td>2</td>\n",
       "      <td>616</td>\n",
       "      <td>97</td>\n",
       "      <td>2</td>\n",
       "      <td>2</td>\n",
       "      <td>137276</td>\n",
       "      <td>218080970</td>\n",
       "      <td>1949</td>\n",
       "      <td>United States</td>\n",
       "      <td>FL</td>\n",
       "      <td>m</td>\n",
       "      <td>1.0</td>\n",
       "    </tr>\n",
       "    <tr>\n",
       "      <th>3</th>\n",
       "      <td>11</td>\n",
       "      <td>6</td>\n",
       "      <td>2</td>\n",
       "      <td>223</td>\n",
       "      <td>106</td>\n",
       "      <td>1</td>\n",
       "      <td>0</td>\n",
       "      <td>52033</td>\n",
       "      <td>28343177</td>\n",
       "      <td>0</td>\n",
       "      <td>NaN</td>\n",
       "      <td>0</td>\n",
       "      <td>0</td>\n",
       "      <td>NaN</td>\n",
       "    </tr>\n",
       "    <tr>\n",
       "      <th>4</th>\n",
       "      <td>12</td>\n",
       "      <td>7</td>\n",
       "      <td>2</td>\n",
       "      <td>409</td>\n",
       "      <td>7</td>\n",
       "      <td>2</td>\n",
       "      <td>3</td>\n",
       "      <td>7781</td>\n",
       "      <td>10452679</td>\n",
       "      <td>1958</td>\n",
       "      <td>United States</td>\n",
       "      <td>WA</td>\n",
       "      <td>f</td>\n",
       "      <td>0.0</td>\n",
       "    </tr>\n",
       "  </tbody>\n",
       "</table>\n",
       "</div>"
      ],
      "text/plain": [
       "   index  User ID  Puzzle Level  Best Time (s)  Puzzles Solved  \\\n",
       "0      2        2             2             65               2   \n",
       "1      5        4             2            202             874   \n",
       "2      8        5             2            616              97   \n",
       "3     11        6             2            223             106   \n",
       "4     12        7             2            409               7   \n",
       "\n",
       "   Puzzle Solved w/o Errors  Puzzle Solved w/ Errors  \\\n",
       "0                         1                        1   \n",
       "1                         2                        0   \n",
       "2                         2                        2   \n",
       "3                         1                        0   \n",
       "4                         2                        3   \n",
       "\n",
       "   Total Time (s) for all Puzzles Solved  \\\n",
       "0                                    131   \n",
       "1                                 405849   \n",
       "2                                 137276   \n",
       "3                                  52033   \n",
       "4                                   7781   \n",
       "\n",
       "   Total of (time squared) for all puzzles solved  Birth_Year        Country  \\\n",
       "0                                            8581        1950         Israel   \n",
       "1                                       210093747           0            NaN   \n",
       "2                                       218080970        1949  United States   \n",
       "3                                        28343177           0            NaN   \n",
       "4                                        10452679        1958  United States   \n",
       "\n",
       "  US_State Gender  Gender_numeric  \n",
       "0        0      f             0.0  \n",
       "1        0      0             NaN  \n",
       "2       FL      m             1.0  \n",
       "3        0      0             NaN  \n",
       "4       WA      f             0.0  "
      ]
     },
     "execution_count": 17,
     "metadata": {},
     "output_type": "execute_result"
    }
   ],
   "source": [
    "num2.head()"
   ]
  },
  {
   "cell_type": "code",
   "execution_count": 18,
   "metadata": {},
   "outputs": [],
   "source": [
    "perc_num2 = num2.groupby([\"Country\"])[\"Gender_numeric\"].sum()/num2.groupby([\"Country\"])[\"Gender_numeric\"].count()"
   ]
  },
  {
   "cell_type": "code",
   "execution_count": 19,
   "metadata": {},
   "outputs": [
    {
     "data": {
      "text/plain": [
       "0.6499114761129177"
      ]
     },
     "execution_count": 19,
     "metadata": {},
     "output_type": "execute_result"
    }
   ],
   "source": [
    "perc_num2.mean()"
   ]
  },
  {
   "cell_type": "markdown",
   "metadata": {},
   "source": [
    "## Look at Level = Hard"
   ]
  },
  {
   "cell_type": "code",
   "execution_count": 20,
   "metadata": {},
   "outputs": [],
   "source": [
    "num3 = num[num[\"Puzzle Level\"] == 3].reset_index()"
   ]
  },
  {
   "cell_type": "code",
   "execution_count": 21,
   "metadata": {},
   "outputs": [],
   "source": [
    "num3[\"Gender_numeric\"] = num3[\"Gender\"].map({\"m\":1, \"f\":0})"
   ]
  },
  {
   "cell_type": "code",
   "execution_count": 22,
   "metadata": {},
   "outputs": [],
   "source": [
    "perc_num3 = num3.groupby([\"Country\"])[\"Gender_numeric\"].sum()/num3.groupby([\"Country\"])[\"Gender_numeric\"].count()"
   ]
  },
  {
   "cell_type": "code",
   "execution_count": 23,
   "metadata": {},
   "outputs": [
    {
     "data": {
      "text/plain": [
       "0.6939850720783743"
      ]
     },
     "execution_count": 23,
     "metadata": {},
     "output_type": "execute_result"
    }
   ],
   "source": [
    "perc_num3.mean()"
   ]
  },
  {
   "cell_type": "markdown",
   "metadata": {},
   "source": [
    "## Look at Level = Expert"
   ]
  },
  {
   "cell_type": "code",
   "execution_count": 24,
   "metadata": {},
   "outputs": [],
   "source": [
    "num4 = num[num[\"Puzzle Level\"] == 4].reset_index()"
   ]
  },
  {
   "cell_type": "code",
   "execution_count": 25,
   "metadata": {},
   "outputs": [],
   "source": [
    "num4[\"Gender_numeric\"] = num4[\"Gender\"].map({\"m\":1, \"f\":0})"
   ]
  },
  {
   "cell_type": "code",
   "execution_count": 26,
   "metadata": {},
   "outputs": [
    {
     "data": {
      "text/html": [
       "<div>\n",
       "<style scoped>\n",
       "    .dataframe tbody tr th:only-of-type {\n",
       "        vertical-align: middle;\n",
       "    }\n",
       "\n",
       "    .dataframe tbody tr th {\n",
       "        vertical-align: top;\n",
       "    }\n",
       "\n",
       "    .dataframe thead th {\n",
       "        text-align: right;\n",
       "    }\n",
       "</style>\n",
       "<table border=\"1\" class=\"dataframe\">\n",
       "  <thead>\n",
       "    <tr style=\"text-align: right;\">\n",
       "      <th></th>\n",
       "      <th>index</th>\n",
       "      <th>User ID</th>\n",
       "      <th>Puzzle Level</th>\n",
       "      <th>Best Time (s)</th>\n",
       "      <th>Puzzles Solved</th>\n",
       "      <th>Puzzle Solved w/o Errors</th>\n",
       "      <th>Puzzle Solved w/ Errors</th>\n",
       "      <th>Total Time (s) for all Puzzles Solved</th>\n",
       "      <th>Total of (time squared) for all puzzles solved</th>\n",
       "      <th>Birth_Year</th>\n",
       "      <th>Country</th>\n",
       "      <th>US_State</th>\n",
       "      <th>Gender</th>\n",
       "      <th>Gender_numeric</th>\n",
       "    </tr>\n",
       "  </thead>\n",
       "  <tbody>\n",
       "    <tr>\n",
       "      <th>0</th>\n",
       "      <td>3</td>\n",
       "      <td>2</td>\n",
       "      <td>4</td>\n",
       "      <td>294</td>\n",
       "      <td>2</td>\n",
       "      <td>2</td>\n",
       "      <td>0</td>\n",
       "      <td>1556</td>\n",
       "      <td>1679080</td>\n",
       "      <td>1950</td>\n",
       "      <td>Israel</td>\n",
       "      <td>0</td>\n",
       "      <td>f</td>\n",
       "      <td>0.0</td>\n",
       "    </tr>\n",
       "    <tr>\n",
       "      <th>1</th>\n",
       "      <td>10</td>\n",
       "      <td>5</td>\n",
       "      <td>4</td>\n",
       "      <td>3360</td>\n",
       "      <td>1</td>\n",
       "      <td>0</td>\n",
       "      <td>0</td>\n",
       "      <td>3360</td>\n",
       "      <td>11289600</td>\n",
       "      <td>1949</td>\n",
       "      <td>United States</td>\n",
       "      <td>FL</td>\n",
       "      <td>m</td>\n",
       "      <td>1.0</td>\n",
       "    </tr>\n",
       "    <tr>\n",
       "      <th>2</th>\n",
       "      <td>16</td>\n",
       "      <td>8</td>\n",
       "      <td>4</td>\n",
       "      <td>339</td>\n",
       "      <td>825</td>\n",
       "      <td>125</td>\n",
       "      <td>700</td>\n",
       "      <td>658827</td>\n",
       "      <td>624195239</td>\n",
       "      <td>1963</td>\n",
       "      <td>India</td>\n",
       "      <td>0</td>\n",
       "      <td>m</td>\n",
       "      <td>1.0</td>\n",
       "    </tr>\n",
       "    <tr>\n",
       "      <th>3</th>\n",
       "      <td>18</td>\n",
       "      <td>11</td>\n",
       "      <td>4</td>\n",
       "      <td>836</td>\n",
       "      <td>976</td>\n",
       "      <td>972</td>\n",
       "      <td>4</td>\n",
       "      <td>1789891</td>\n",
       "      <td>3533206483</td>\n",
       "      <td>1943</td>\n",
       "      <td>United States</td>\n",
       "      <td>TX</td>\n",
       "      <td>m</td>\n",
       "      <td>1.0</td>\n",
       "    </tr>\n",
       "    <tr>\n",
       "      <th>4</th>\n",
       "      <td>26</td>\n",
       "      <td>14</td>\n",
       "      <td>4</td>\n",
       "      <td>430</td>\n",
       "      <td>168</td>\n",
       "      <td>23</td>\n",
       "      <td>138</td>\n",
       "      <td>124293</td>\n",
       "      <td>95880567</td>\n",
       "      <td>1965</td>\n",
       "      <td>Egypt</td>\n",
       "      <td>0</td>\n",
       "      <td>m</td>\n",
       "      <td>1.0</td>\n",
       "    </tr>\n",
       "  </tbody>\n",
       "</table>\n",
       "</div>"
      ],
      "text/plain": [
       "   index  User ID  Puzzle Level  Best Time (s)  Puzzles Solved  \\\n",
       "0      3        2             4            294               2   \n",
       "1     10        5             4           3360               1   \n",
       "2     16        8             4            339             825   \n",
       "3     18       11             4            836             976   \n",
       "4     26       14             4            430             168   \n",
       "\n",
       "   Puzzle Solved w/o Errors  Puzzle Solved w/ Errors  \\\n",
       "0                         2                        0   \n",
       "1                         0                        0   \n",
       "2                       125                      700   \n",
       "3                       972                        4   \n",
       "4                        23                      138   \n",
       "\n",
       "   Total Time (s) for all Puzzles Solved  \\\n",
       "0                                   1556   \n",
       "1                                   3360   \n",
       "2                                 658827   \n",
       "3                                1789891   \n",
       "4                                 124293   \n",
       "\n",
       "   Total of (time squared) for all puzzles solved  Birth_Year        Country  \\\n",
       "0                                         1679080        1950         Israel   \n",
       "1                                        11289600        1949  United States   \n",
       "2                                       624195239        1963          India   \n",
       "3                                      3533206483        1943  United States   \n",
       "4                                        95880567        1965          Egypt   \n",
       "\n",
       "  US_State Gender  Gender_numeric  \n",
       "0        0      f             0.0  \n",
       "1       FL      m             1.0  \n",
       "2        0      m             1.0  \n",
       "3       TX      m             1.0  \n",
       "4        0      m             1.0  "
      ]
     },
     "execution_count": 26,
     "metadata": {},
     "output_type": "execute_result"
    }
   ],
   "source": [
    "num4.head()"
   ]
  },
  {
   "cell_type": "code",
   "execution_count": 27,
   "metadata": {},
   "outputs": [],
   "source": [
    "perc_num4 = num4.groupby([\"Country\"])[\"Gender_numeric\"].sum()/num4.groupby([\"Country\"])[\"Gender_numeric\"].count()"
   ]
  },
  {
   "cell_type": "code",
   "execution_count": 28,
   "metadata": {},
   "outputs": [
    {
     "data": {
      "text/plain": [
       "0.7414804862722212"
      ]
     },
     "execution_count": 28,
     "metadata": {},
     "output_type": "execute_result"
    }
   ],
   "source": [
    "perc_num4.mean()"
   ]
  },
  {
   "cell_type": "markdown",
   "metadata": {},
   "source": [
    "## From the proportions, we can see that as level gets harder, there are less proportion of female players"
   ]
  },
  {
   "cell_type": "code",
   "execution_count": 29,
   "metadata": {},
   "outputs": [],
   "source": [
    "prop = {\"Level\":[\"Easy\", \"Medium\", \"Hard\", \"Expert\"], \"Proportion of Male\":[perc_num1.mean(), perc_num2.mean(), perc_num3.mean(), perc_num4.mean()]}"
   ]
  },
  {
   "cell_type": "code",
   "execution_count": 30,
   "metadata": {},
   "outputs": [],
   "source": [
    "prop = pd.DataFrame(prop)"
   ]
  },
  {
   "cell_type": "code",
   "execution_count": 31,
   "metadata": {},
   "outputs": [
    {
     "data": {
      "text/html": [
       "<div>\n",
       "<style scoped>\n",
       "    .dataframe tbody tr th:only-of-type {\n",
       "        vertical-align: middle;\n",
       "    }\n",
       "\n",
       "    .dataframe tbody tr th {\n",
       "        vertical-align: top;\n",
       "    }\n",
       "\n",
       "    .dataframe thead th {\n",
       "        text-align: right;\n",
       "    }\n",
       "</style>\n",
       "<table border=\"1\" class=\"dataframe\">\n",
       "  <thead>\n",
       "    <tr style=\"text-align: right;\">\n",
       "      <th></th>\n",
       "      <th>Level</th>\n",
       "      <th>Proportion of Male</th>\n",
       "    </tr>\n",
       "  </thead>\n",
       "  <tbody>\n",
       "    <tr>\n",
       "      <th>0</th>\n",
       "      <td>Easy</td>\n",
       "      <td>0.628729</td>\n",
       "    </tr>\n",
       "    <tr>\n",
       "      <th>1</th>\n",
       "      <td>Medium</td>\n",
       "      <td>0.649911</td>\n",
       "    </tr>\n",
       "    <tr>\n",
       "      <th>2</th>\n",
       "      <td>Hard</td>\n",
       "      <td>0.693985</td>\n",
       "    </tr>\n",
       "    <tr>\n",
       "      <th>3</th>\n",
       "      <td>Expert</td>\n",
       "      <td>0.741480</td>\n",
       "    </tr>\n",
       "  </tbody>\n",
       "</table>\n",
       "</div>"
      ],
      "text/plain": [
       "    Level  Proportion of Male\n",
       "0    Easy            0.628729\n",
       "1  Medium            0.649911\n",
       "2    Hard            0.693985\n",
       "3  Expert            0.741480"
      ]
     },
     "execution_count": 31,
     "metadata": {},
     "output_type": "execute_result"
    }
   ],
   "source": [
    "prop"
   ]
  },
  {
   "cell_type": "markdown",
   "metadata": {},
   "source": [
    "## Let's explore proportion by country and see if there is a difference"
   ]
  },
  {
   "cell_type": "code",
   "execution_count": 32,
   "metadata": {},
   "outputs": [],
   "source": [
    "## For US Players\n",
    "lvl1_us = num[num[\"Puzzle Level\"] == 1].reset_index()\n",
    "lvl1_us = lvl1_us[lvl1_us[\"Country\"] == \"United States\"].reset_index()"
   ]
  },
  {
   "cell_type": "code",
   "execution_count": 33,
   "metadata": {},
   "outputs": [],
   "source": [
    "lvl1_us[\"Gender_numeric\"] = lvl1_us[\"Gender\"].map({\"m\":1, \"f\":0})"
   ]
  },
  {
   "cell_type": "code",
   "execution_count": 34,
   "metadata": {},
   "outputs": [
    {
     "data": {
      "text/html": [
       "<div>\n",
       "<style scoped>\n",
       "    .dataframe tbody tr th:only-of-type {\n",
       "        vertical-align: middle;\n",
       "    }\n",
       "\n",
       "    .dataframe tbody tr th {\n",
       "        vertical-align: top;\n",
       "    }\n",
       "\n",
       "    .dataframe thead th {\n",
       "        text-align: right;\n",
       "    }\n",
       "</style>\n",
       "<table border=\"1\" class=\"dataframe\">\n",
       "  <thead>\n",
       "    <tr style=\"text-align: right;\">\n",
       "      <th></th>\n",
       "      <th>level_0</th>\n",
       "      <th>index</th>\n",
       "      <th>User ID</th>\n",
       "      <th>Puzzle Level</th>\n",
       "      <th>Best Time (s)</th>\n",
       "      <th>Puzzles Solved</th>\n",
       "      <th>Puzzle Solved w/o Errors</th>\n",
       "      <th>Puzzle Solved w/ Errors</th>\n",
       "      <th>Total Time (s) for all Puzzles Solved</th>\n",
       "      <th>Total of (time squared) for all puzzles solved</th>\n",
       "      <th>Birth_Year</th>\n",
       "      <th>Country</th>\n",
       "      <th>US_State</th>\n",
       "      <th>Gender</th>\n",
       "      <th>Gender_numeric</th>\n",
       "    </tr>\n",
       "  </thead>\n",
       "  <tbody>\n",
       "    <tr>\n",
       "      <th>0</th>\n",
       "      <td>3</td>\n",
       "      <td>7</td>\n",
       "      <td>5</td>\n",
       "      <td>1</td>\n",
       "      <td>257</td>\n",
       "      <td>119</td>\n",
       "      <td>35</td>\n",
       "      <td>21</td>\n",
       "      <td>72691</td>\n",
       "      <td>53643653</td>\n",
       "      <td>1949</td>\n",
       "      <td>United States</td>\n",
       "      <td>FL</td>\n",
       "      <td>m</td>\n",
       "      <td>1.0</td>\n",
       "    </tr>\n",
       "    <tr>\n",
       "      <th>1</th>\n",
       "      <td>6</td>\n",
       "      <td>22</td>\n",
       "      <td>13</td>\n",
       "      <td>1</td>\n",
       "      <td>234</td>\n",
       "      <td>1</td>\n",
       "      <td>0</td>\n",
       "      <td>0</td>\n",
       "      <td>234</td>\n",
       "      <td>54756</td>\n",
       "      <td>1974</td>\n",
       "      <td>United States</td>\n",
       "      <td>VA</td>\n",
       "      <td>m</td>\n",
       "      <td>1.0</td>\n",
       "    </tr>\n",
       "    <tr>\n",
       "      <th>2</th>\n",
       "      <td>14</td>\n",
       "      <td>44</td>\n",
       "      <td>26</td>\n",
       "      <td>1</td>\n",
       "      <td>80</td>\n",
       "      <td>37</td>\n",
       "      <td>36</td>\n",
       "      <td>0</td>\n",
       "      <td>4225</td>\n",
       "      <td>494419</td>\n",
       "      <td>1979</td>\n",
       "      <td>United States</td>\n",
       "      <td>TX</td>\n",
       "      <td>m</td>\n",
       "      <td>1.0</td>\n",
       "    </tr>\n",
       "    <tr>\n",
       "      <th>3</th>\n",
       "      <td>16</td>\n",
       "      <td>52</td>\n",
       "      <td>28</td>\n",
       "      <td>1</td>\n",
       "      <td>362</td>\n",
       "      <td>17</td>\n",
       "      <td>13</td>\n",
       "      <td>3</td>\n",
       "      <td>10640</td>\n",
       "      <td>7282048</td>\n",
       "      <td>1955</td>\n",
       "      <td>United States</td>\n",
       "      <td>OR</td>\n",
       "      <td>m</td>\n",
       "      <td>1.0</td>\n",
       "    </tr>\n",
       "    <tr>\n",
       "      <th>4</th>\n",
       "      <td>21</td>\n",
       "      <td>67</td>\n",
       "      <td>35</td>\n",
       "      <td>1</td>\n",
       "      <td>438</td>\n",
       "      <td>1</td>\n",
       "      <td>0</td>\n",
       "      <td>1</td>\n",
       "      <td>438</td>\n",
       "      <td>191844</td>\n",
       "      <td>1961</td>\n",
       "      <td>United States</td>\n",
       "      <td>0</td>\n",
       "      <td>f</td>\n",
       "      <td>0.0</td>\n",
       "    </tr>\n",
       "  </tbody>\n",
       "</table>\n",
       "</div>"
      ],
      "text/plain": [
       "   level_0  index  User ID  Puzzle Level  Best Time (s)  Puzzles Solved  \\\n",
       "0        3      7        5             1            257             119   \n",
       "1        6     22       13             1            234               1   \n",
       "2       14     44       26             1             80              37   \n",
       "3       16     52       28             1            362              17   \n",
       "4       21     67       35             1            438               1   \n",
       "\n",
       "   Puzzle Solved w/o Errors  Puzzle Solved w/ Errors  \\\n",
       "0                        35                       21   \n",
       "1                         0                        0   \n",
       "2                        36                        0   \n",
       "3                        13                        3   \n",
       "4                         0                        1   \n",
       "\n",
       "   Total Time (s) for all Puzzles Solved  \\\n",
       "0                                  72691   \n",
       "1                                    234   \n",
       "2                                   4225   \n",
       "3                                  10640   \n",
       "4                                    438   \n",
       "\n",
       "   Total of (time squared) for all puzzles solved  Birth_Year        Country  \\\n",
       "0                                        53643653        1949  United States   \n",
       "1                                           54756        1974  United States   \n",
       "2                                          494419        1979  United States   \n",
       "3                                         7282048        1955  United States   \n",
       "4                                          191844        1961  United States   \n",
       "\n",
       "  US_State Gender  Gender_numeric  \n",
       "0       FL      m             1.0  \n",
       "1       VA      m             1.0  \n",
       "2       TX      m             1.0  \n",
       "3       OR      m             1.0  \n",
       "4        0      f             0.0  "
      ]
     },
     "execution_count": 34,
     "metadata": {},
     "output_type": "execute_result"
    }
   ],
   "source": [
    "lvl1_us.head()"
   ]
  },
  {
   "cell_type": "code",
   "execution_count": 35,
   "metadata": {},
   "outputs": [
    {
     "data": {
      "text/plain": [
       "0.48119013350538486"
      ]
     },
     "execution_count": 35,
     "metadata": {},
     "output_type": "execute_result"
    }
   ],
   "source": [
    "lvl1_us[\"Gender_numeric\"].sum()/lvl1_us[\"Gender_numeric\"].count()"
   ]
  },
  {
   "cell_type": "code",
   "execution_count": 36,
   "metadata": {},
   "outputs": [],
   "source": [
    "lvl2_us = num[num[\"Puzzle Level\"] == 2].reset_index()\n",
    "lvl2_us = lvl2_us[lvl2_us[\"Country\"] == \"United States\"].reset_index()"
   ]
  },
  {
   "cell_type": "code",
   "execution_count": 37,
   "metadata": {},
   "outputs": [],
   "source": [
    "lvl2_us[\"Gender_numeric\"] = lvl2_us[\"Gender\"].map({\"m\":1, \"f\":0})"
   ]
  },
  {
   "cell_type": "code",
   "execution_count": 38,
   "metadata": {},
   "outputs": [
    {
     "data": {
      "text/plain": [
       "0.549079754601227"
      ]
     },
     "execution_count": 38,
     "metadata": {},
     "output_type": "execute_result"
    }
   ],
   "source": [
    "lvl2_us[\"Gender_numeric\"].sum()/lvl2_us[\"Gender_numeric\"].count()"
   ]
  },
  {
   "cell_type": "code",
   "execution_count": 39,
   "metadata": {},
   "outputs": [],
   "source": [
    "lvl3_us = num[num[\"Puzzle Level\"] == 3].reset_index()\n",
    "lvl3_us = lvl3_us[lvl3_us[\"Country\"] == \"United States\"].reset_index()"
   ]
  },
  {
   "cell_type": "code",
   "execution_count": 40,
   "metadata": {},
   "outputs": [],
   "source": [
    "lvl3_us[\"Gender_numeric\"] = lvl3_us[\"Gender\"].map({\"m\":1, \"f\":0})"
   ]
  },
  {
   "cell_type": "code",
   "execution_count": 41,
   "metadata": {},
   "outputs": [
    {
     "data": {
      "text/plain": [
       "0.6274859972400357"
      ]
     },
     "execution_count": 41,
     "metadata": {},
     "output_type": "execute_result"
    }
   ],
   "source": [
    "lvl3_us[\"Gender_numeric\"].sum()/lvl3_us[\"Gender_numeric\"].count()"
   ]
  },
  {
   "cell_type": "code",
   "execution_count": 42,
   "metadata": {},
   "outputs": [],
   "source": [
    "lvl4_us = num[num[\"Puzzle Level\"] == 4].reset_index()\n",
    "lvl4_us = lvl4_us[lvl4_us[\"Country\"] == \"United States\"].reset_index()"
   ]
  },
  {
   "cell_type": "code",
   "execution_count": 43,
   "metadata": {},
   "outputs": [],
   "source": [
    "lvl4_us[\"Gender_numeric\"] = lvl4_us[\"Gender\"].map({\"m\":1, \"f\":0})"
   ]
  },
  {
   "cell_type": "code",
   "execution_count": 44,
   "metadata": {},
   "outputs": [
    {
     "data": {
      "text/plain": [
       "0.6434108527131783"
      ]
     },
     "execution_count": 44,
     "metadata": {},
     "output_type": "execute_result"
    }
   ],
   "source": [
    "lvl4_us[\"Gender_numeric\"].sum()/lvl4_us[\"Gender_numeric\"].count()"
   ]
  },
  {
   "cell_type": "markdown",
   "metadata": {},
   "source": [
    "## For all difficulty levels, the proportion of US male is below average"
   ]
  },
  {
   "cell_type": "code",
   "execution_count": 46,
   "metadata": {},
   "outputs": [],
   "source": [
    "## For India Players:\n",
    "### Level 1\n",
    "lvl1_india = num[num[\"Puzzle Level\"] == 1].reset_index()\n",
    "lvl1_india = lvl1_india[lvl1_india[\"Country\"] == \"India\"].reset_index()"
   ]
  },
  {
   "cell_type": "code",
   "execution_count": 47,
   "metadata": {},
   "outputs": [],
   "source": [
    "lvl1_india[\"Gender_numeric\"] = lvl1_india[\"Gender\"].map({\"m\":1, \"f\":0})"
   ]
  },
  {
   "cell_type": "code",
   "execution_count": 48,
   "metadata": {},
   "outputs": [
    {
     "data": {
      "text/plain": [
       "0.7795250320924262"
      ]
     },
     "execution_count": 48,
     "metadata": {},
     "output_type": "execute_result"
    }
   ],
   "source": [
    "lvl1_india[\"Gender_numeric\"].sum()/lvl1_india[\"Gender_numeric\"].count()"
   ]
  },
  {
   "cell_type": "code",
   "execution_count": 49,
   "metadata": {},
   "outputs": [],
   "source": [
    "## Level 2\n",
    "lvl2_india = num[num[\"Puzzle Level\"] == 2].reset_index()\n",
    "lvl2_india = lvl2_india[lvl2_india[\"Country\"] == \"India\"].reset_index()"
   ]
  },
  {
   "cell_type": "code",
   "execution_count": 50,
   "metadata": {},
   "outputs": [],
   "source": [
    "lvl2_india[\"Gender_numeric\"] = lvl2_india[\"Gender\"].map({\"m\":1, \"f\":0})"
   ]
  },
  {
   "cell_type": "code",
   "execution_count": 51,
   "metadata": {},
   "outputs": [
    {
     "data": {
      "text/plain": [
       "0.799764982373678"
      ]
     },
     "execution_count": 51,
     "metadata": {},
     "output_type": "execute_result"
    }
   ],
   "source": [
    "lvl2_india[\"Gender_numeric\"].sum()/lvl2_india[\"Gender_numeric\"].count()"
   ]
  },
  {
   "cell_type": "code",
   "execution_count": 52,
   "metadata": {},
   "outputs": [],
   "source": [
    "## Level 3\n",
    "lvl3_india = num[num[\"Puzzle Level\"] == 3].reset_index()\n",
    "lvl3_india = lvl3_india[lvl3_india[\"Country\"] == \"India\"].reset_index()"
   ]
  },
  {
   "cell_type": "code",
   "execution_count": 53,
   "metadata": {},
   "outputs": [],
   "source": [
    "lvl3_india[\"Gender_numeric\"] = lvl3_india[\"Gender\"].map({\"m\":1, \"f\":0})"
   ]
  },
  {
   "cell_type": "code",
   "execution_count": 54,
   "metadata": {},
   "outputs": [
    {
     "data": {
      "text/plain": [
       "0.8284485076633503"
      ]
     },
     "execution_count": 54,
     "metadata": {},
     "output_type": "execute_result"
    }
   ],
   "source": [
    "lvl3_india[\"Gender_numeric\"].sum()/lvl3_india[\"Gender_numeric\"].count()"
   ]
  },
  {
   "cell_type": "code",
   "execution_count": 55,
   "metadata": {},
   "outputs": [],
   "source": [
    "## Level 4\n",
    "lvl4_india = num[num[\"Puzzle Level\"] == 4].reset_index()\n",
    "lvl4_india = lvl4_india[lvl4_india[\"Country\"] == \"India\"].reset_index()"
   ]
  },
  {
   "cell_type": "code",
   "execution_count": 56,
   "metadata": {},
   "outputs": [],
   "source": [
    "lvl4_india[\"Gender_numeric\"] = lvl4_india[\"Gender\"].map({\"m\":1, \"f\":0})"
   ]
  },
  {
   "cell_type": "code",
   "execution_count": 57,
   "metadata": {},
   "outputs": [
    {
     "data": {
      "text/plain": [
       "0.8478011472275334"
      ]
     },
     "execution_count": 57,
     "metadata": {},
     "output_type": "execute_result"
    }
   ],
   "source": [
    "lvl4_india[\"Gender_numeric\"].sum()/lvl4_india[\"Gender_numeric\"].count()"
   ]
  },
  {
   "cell_type": "markdown",
   "metadata": {},
   "source": [
    "## The proportion of male players from India is significantly higher than average"
   ]
  },
  {
   "cell_type": "markdown",
   "metadata": {},
   "source": [
    "### -----------------------------------------------------------------"
   ]
  },
  {
   "cell_type": "code",
   "execution_count": 63,
   "metadata": {},
   "outputs": [],
   "source": [
    "## Create a new column with their age information\n",
    "import datetime as dt\n",
    "num[\"Age\"] = int(dt.datetime.today().strftime(\"%Y\")) - num[\"Birth_Year\"]"
   ]
  },
  {
   "cell_type": "code",
   "execution_count": 68,
   "metadata": {},
   "outputs": [],
   "source": [
    "## Remove the entries with null birth_year because that will skew the distribution\n",
    "num = num.drop(num[num.Birth_Year == 0].index).reset_index()"
   ]
  },
  {
   "cell_type": "code",
   "execution_count": 69,
   "metadata": {},
   "outputs": [
    {
     "data": {
      "text/html": [
       "<div>\n",
       "<style scoped>\n",
       "    .dataframe tbody tr th:only-of-type {\n",
       "        vertical-align: middle;\n",
       "    }\n",
       "\n",
       "    .dataframe tbody tr th {\n",
       "        vertical-align: top;\n",
       "    }\n",
       "\n",
       "    .dataframe thead th {\n",
       "        text-align: right;\n",
       "    }\n",
       "</style>\n",
       "<table border=\"1\" class=\"dataframe\">\n",
       "  <thead>\n",
       "    <tr style=\"text-align: right;\">\n",
       "      <th></th>\n",
       "      <th>index</th>\n",
       "      <th>User ID</th>\n",
       "      <th>Puzzle Level</th>\n",
       "      <th>Best Time (s)</th>\n",
       "      <th>Puzzles Solved</th>\n",
       "      <th>Puzzle Solved w/o Errors</th>\n",
       "      <th>Puzzle Solved w/ Errors</th>\n",
       "      <th>Total Time (s) for all Puzzles Solved</th>\n",
       "      <th>Total of (time squared) for all puzzles solved</th>\n",
       "      <th>Birth_Year</th>\n",
       "      <th>Country</th>\n",
       "      <th>US_State</th>\n",
       "      <th>Gender</th>\n",
       "      <th>Age</th>\n",
       "    </tr>\n",
       "  </thead>\n",
       "  <tbody>\n",
       "    <tr>\n",
       "      <th>0</th>\n",
       "      <td>0</td>\n",
       "      <td>1</td>\n",
       "      <td>1</td>\n",
       "      <td>506</td>\n",
       "      <td>1</td>\n",
       "      <td>1</td>\n",
       "      <td>0</td>\n",
       "      <td>506</td>\n",
       "      <td>256036</td>\n",
       "      <td>1976</td>\n",
       "      <td>Israel</td>\n",
       "      <td>0</td>\n",
       "      <td>m</td>\n",
       "      <td>43</td>\n",
       "    </tr>\n",
       "    <tr>\n",
       "      <th>1</th>\n",
       "      <td>1</td>\n",
       "      <td>2</td>\n",
       "      <td>1</td>\n",
       "      <td>79</td>\n",
       "      <td>12</td>\n",
       "      <td>11</td>\n",
       "      <td>1</td>\n",
       "      <td>2307</td>\n",
       "      <td>511683</td>\n",
       "      <td>1950</td>\n",
       "      <td>Israel</td>\n",
       "      <td>0</td>\n",
       "      <td>f</td>\n",
       "      <td>69</td>\n",
       "    </tr>\n",
       "    <tr>\n",
       "      <th>2</th>\n",
       "      <td>2</td>\n",
       "      <td>2</td>\n",
       "      <td>2</td>\n",
       "      <td>65</td>\n",
       "      <td>2</td>\n",
       "      <td>1</td>\n",
       "      <td>1</td>\n",
       "      <td>131</td>\n",
       "      <td>8581</td>\n",
       "      <td>1950</td>\n",
       "      <td>Israel</td>\n",
       "      <td>0</td>\n",
       "      <td>f</td>\n",
       "      <td>69</td>\n",
       "    </tr>\n",
       "    <tr>\n",
       "      <th>3</th>\n",
       "      <td>3</td>\n",
       "      <td>2</td>\n",
       "      <td>4</td>\n",
       "      <td>294</td>\n",
       "      <td>2</td>\n",
       "      <td>2</td>\n",
       "      <td>0</td>\n",
       "      <td>1556</td>\n",
       "      <td>1679080</td>\n",
       "      <td>1950</td>\n",
       "      <td>Israel</td>\n",
       "      <td>0</td>\n",
       "      <td>f</td>\n",
       "      <td>69</td>\n",
       "    </tr>\n",
       "    <tr>\n",
       "      <th>4</th>\n",
       "      <td>7</td>\n",
       "      <td>5</td>\n",
       "      <td>1</td>\n",
       "      <td>257</td>\n",
       "      <td>119</td>\n",
       "      <td>35</td>\n",
       "      <td>21</td>\n",
       "      <td>72691</td>\n",
       "      <td>53643653</td>\n",
       "      <td>1949</td>\n",
       "      <td>United States</td>\n",
       "      <td>FL</td>\n",
       "      <td>m</td>\n",
       "      <td>70</td>\n",
       "    </tr>\n",
       "  </tbody>\n",
       "</table>\n",
       "</div>"
      ],
      "text/plain": [
       "   index  User ID  Puzzle Level  Best Time (s)  Puzzles Solved  \\\n",
       "0      0        1             1            506               1   \n",
       "1      1        2             1             79              12   \n",
       "2      2        2             2             65               2   \n",
       "3      3        2             4            294               2   \n",
       "4      7        5             1            257             119   \n",
       "\n",
       "   Puzzle Solved w/o Errors  Puzzle Solved w/ Errors  \\\n",
       "0                         1                        0   \n",
       "1                        11                        1   \n",
       "2                         1                        1   \n",
       "3                         2                        0   \n",
       "4                        35                       21   \n",
       "\n",
       "   Total Time (s) for all Puzzles Solved  \\\n",
       "0                                    506   \n",
       "1                                   2307   \n",
       "2                                    131   \n",
       "3                                   1556   \n",
       "4                                  72691   \n",
       "\n",
       "   Total of (time squared) for all puzzles solved  Birth_Year        Country  \\\n",
       "0                                          256036        1976         Israel   \n",
       "1                                          511683        1950         Israel   \n",
       "2                                            8581        1950         Israel   \n",
       "3                                         1679080        1950         Israel   \n",
       "4                                        53643653        1949  United States   \n",
       "\n",
       "  US_State Gender  Age  \n",
       "0        0      m   43  \n",
       "1        0      f   69  \n",
       "2        0      f   69  \n",
       "3        0      f   69  \n",
       "4       FL      m   70  "
      ]
     },
     "execution_count": 69,
     "metadata": {},
     "output_type": "execute_result"
    }
   ],
   "source": [
    "num.head()"
   ]
  },
  {
   "cell_type": "code",
   "execution_count": null,
   "metadata": {},
   "outputs": [],
   "source": []
  }
 ],
 "metadata": {
  "kernelspec": {
   "display_name": "Python 3",
   "language": "python",
   "name": "python3"
  },
  "language_info": {
   "codemirror_mode": {
    "name": "ipython",
    "version": 3
   },
   "file_extension": ".py",
   "mimetype": "text/x-python",
   "name": "python",
   "nbconvert_exporter": "python",
   "pygments_lexer": "ipython3",
   "version": "3.7.3"
  }
 },
 "nbformat": 4,
 "nbformat_minor": 2
}
