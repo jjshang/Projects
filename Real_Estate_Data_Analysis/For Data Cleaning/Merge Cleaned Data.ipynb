{
 "cells": [
  {
   "cell_type": "code",
   "execution_count": 1,
   "metadata": {},
   "outputs": [],
   "source": [
    "import pandas as pd\n",
    "import numpy as np\n",
    "import matplotlib.pyplot as plt\n",
    "import seaborn as sns"
   ]
  },
  {
   "cell_type": "code",
   "execution_count": 2,
   "metadata": {},
   "outputs": [
    {
     "data": {
      "text/html": [
       "<div>\n",
       "<style scoped>\n",
       "    .dataframe tbody tr th:only-of-type {\n",
       "        vertical-align: middle;\n",
       "    }\n",
       "\n",
       "    .dataframe tbody tr th {\n",
       "        vertical-align: top;\n",
       "    }\n",
       "\n",
       "    .dataframe thead th {\n",
       "        text-align: right;\n",
       "    }\n",
       "</style>\n",
       "<table border=\"1\" class=\"dataframe\">\n",
       "  <thead>\n",
       "    <tr style=\"text-align: right;\">\n",
       "      <th></th>\n",
       "      <th>DATE</th>\n",
       "      <th>DGS10</th>\n",
       "    </tr>\n",
       "  </thead>\n",
       "  <tbody>\n",
       "    <tr>\n",
       "      <th>0</th>\n",
       "      <td>1962-01-02</td>\n",
       "      <td>4.06</td>\n",
       "    </tr>\n",
       "    <tr>\n",
       "      <th>1</th>\n",
       "      <td>1962-01-03</td>\n",
       "      <td>4.03</td>\n",
       "    </tr>\n",
       "    <tr>\n",
       "      <th>2</th>\n",
       "      <td>1962-01-04</td>\n",
       "      <td>3.99</td>\n",
       "    </tr>\n",
       "    <tr>\n",
       "      <th>3</th>\n",
       "      <td>1962-01-05</td>\n",
       "      <td>4.02</td>\n",
       "    </tr>\n",
       "    <tr>\n",
       "      <th>4</th>\n",
       "      <td>1962-01-08</td>\n",
       "      <td>4.03</td>\n",
       "    </tr>\n",
       "  </tbody>\n",
       "</table>\n",
       "</div>"
      ],
      "text/plain": [
       "         DATE DGS10\n",
       "0  1962-01-02  4.06\n",
       "1  1962-01-03  4.03\n",
       "2  1962-01-04  3.99\n",
       "3  1962-01-05  4.02\n",
       "4  1962-01-08  4.03"
      ]
     },
     "execution_count": 2,
     "metadata": {},
     "output_type": "execute_result"
    }
   ],
   "source": [
    "## Import interest rate data\n",
    "rate = pd.read_csv(\"DGS10.csv\")\n",
    "rate.head()"
   ]
  },
  {
   "cell_type": "code",
   "execution_count": 3,
   "metadata": {},
   "outputs": [],
   "source": [
    "rate = rate.rename(columns = {\"DATE\":\"Sale_date\", \"DGS10\":\"10_yr_treasury_rate\"})\n"
   ]
  },
  {
   "cell_type": "code",
   "execution_count": 4,
   "metadata": {},
   "outputs": [],
   "source": [
    "rate.Sale_date = pd.to_datetime(rate.Sale_date)"
   ]
  },
  {
   "cell_type": "code",
   "execution_count": 5,
   "metadata": {},
   "outputs": [],
   "source": [
    "sales = pd.read_csv(\"Sales_data_cleaned.csv\")"
   ]
  },
  {
   "cell_type": "markdown",
   "metadata": {},
   "source": [
    "## Florida"
   ]
  },
  {
   "cell_type": "code",
   "execution_count": 6,
   "metadata": {},
   "outputs": [
    {
     "data": {
      "text/html": [
       "<div>\n",
       "<style scoped>\n",
       "    .dataframe tbody tr th:only-of-type {\n",
       "        vertical-align: middle;\n",
       "    }\n",
       "\n",
       "    .dataframe tbody tr th {\n",
       "        vertical-align: top;\n",
       "    }\n",
       "\n",
       "    .dataframe thead th {\n",
       "        text-align: right;\n",
       "    }\n",
       "</style>\n",
       "<table border=\"1\" class=\"dataframe\">\n",
       "  <thead>\n",
       "    <tr style=\"text-align: right;\">\n",
       "      <th></th>\n",
       "      <th>SCAPN</th>\n",
       "      <th>SCSitus_NumNam</th>\n",
       "      <th>PropID</th>\n",
       "      <th>Star_rating</th>\n",
       "      <th>City</th>\n",
       "      <th>State</th>\n",
       "      <th>Zip</th>\n",
       "      <th>County</th>\n",
       "      <th>For_sale_price</th>\n",
       "      <th>For_sale_status</th>\n",
       "      <th>...</th>\n",
       "      <th>Num_4_bed</th>\n",
       "      <th>4_bed_rent_sqft</th>\n",
       "      <th>4_bed_avg_sqft</th>\n",
       "      <th>4_bed_concession_%</th>\n",
       "      <th>4_bed_vacancy_%</th>\n",
       "      <th>2010_Avg_age</th>\n",
       "      <th>2019_Avg_age</th>\n",
       "      <th>2019_Pop_25_39</th>\n",
       "      <th>2024_Avg_age</th>\n",
       "      <th>2024_Pop_25_39</th>\n",
       "    </tr>\n",
       "  </thead>\n",
       "  <tbody>\n",
       "    <tr>\n",
       "      <th>0</th>\n",
       "      <td>FL Pinellas 34-29-15-50256-001-0010</td>\n",
       "      <td>FL Pinellas600 Bay Dr</td>\n",
       "      <td>P2828</td>\n",
       "      <td>4</td>\n",
       "      <td>Largo</td>\n",
       "      <td>FL</td>\n",
       "      <td>337703328</td>\n",
       "      <td>Pinellas</td>\n",
       "      <td>NaN</td>\n",
       "      <td>NaN</td>\n",
       "      <td>...</td>\n",
       "      <td>NaN</td>\n",
       "      <td>NaN</td>\n",
       "      <td>NaN</td>\n",
       "      <td>NaN</td>\n",
       "      <td>NaN</td>\n",
       "      <td>44.8</td>\n",
       "      <td>44.5</td>\n",
       "      <td>3406.0</td>\n",
       "      <td>44.5</td>\n",
       "      <td>3475.0</td>\n",
       "    </tr>\n",
       "    <tr>\n",
       "      <th>1</th>\n",
       "      <td>FL Pinellas 24-31-16-29718-013-0150</td>\n",
       "      <td>FL Pinellas1601 Central Ave</td>\n",
       "      <td>P2829</td>\n",
       "      <td>4</td>\n",
       "      <td>Saint Petersburg</td>\n",
       "      <td>FL</td>\n",
       "      <td>337138934</td>\n",
       "      <td>Pinellas</td>\n",
       "      <td>NaN</td>\n",
       "      <td>NaN</td>\n",
       "      <td>...</td>\n",
       "      <td>NaN</td>\n",
       "      <td>NaN</td>\n",
       "      <td>NaN</td>\n",
       "      <td>NaN</td>\n",
       "      <td>NaN</td>\n",
       "      <td>39.8</td>\n",
       "      <td>41.7</td>\n",
       "      <td>4022.0</td>\n",
       "      <td>42.4</td>\n",
       "      <td>3831.0</td>\n",
       "    </tr>\n",
       "  </tbody>\n",
       "</table>\n",
       "<p>2 rows × 56 columns</p>\n",
       "</div>"
      ],
      "text/plain": [
       "                                 SCAPN               SCSitus_NumNam PropID  \\\n",
       "0  FL Pinellas 34-29-15-50256-001-0010        FL Pinellas600 Bay Dr  P2828   \n",
       "1  FL Pinellas 24-31-16-29718-013-0150  FL Pinellas1601 Central Ave  P2829   \n",
       "\n",
       "   Star_rating              City State        Zip    County For_sale_price  \\\n",
       "0            4             Largo    FL  337703328  Pinellas            NaN   \n",
       "1            4  Saint Petersburg    FL  337138934  Pinellas            NaN   \n",
       "\n",
       "  For_sale_status  ...  Num_4_bed  4_bed_rent_sqft  4_bed_avg_sqft  \\\n",
       "0             NaN  ...        NaN              NaN             NaN   \n",
       "1             NaN  ...        NaN              NaN             NaN   \n",
       "\n",
       "   4_bed_concession_%  4_bed_vacancy_%  2010_Avg_age  2019_Avg_age  \\\n",
       "0                 NaN              NaN          44.8          44.5   \n",
       "1                 NaN              NaN          39.8          41.7   \n",
       "\n",
       "   2019_Pop_25_39 2024_Avg_age  2024_Pop_25_39  \n",
       "0          3406.0         44.5          3475.0  \n",
       "1          4022.0         42.4          3831.0  \n",
       "\n",
       "[2 rows x 56 columns]"
      ]
     },
     "execution_count": 6,
     "metadata": {},
     "output_type": "execute_result"
    }
   ],
   "source": [
    "florida = pd.read_csv(\"Property_FL.csv\", index_col = 0)\n",
    "florida.head(2)"
   ]
  },
  {
   "cell_type": "code",
   "execution_count": 7,
   "metadata": {},
   "outputs": [],
   "source": [
    "# Merge Florida data\n",
    "florida_merge = pd.merge(florida, sales, how = 'left', on = [\"SCAPN\"])"
   ]
  },
  {
   "cell_type": "code",
   "execution_count": 8,
   "metadata": {},
   "outputs": [
    {
     "data": {
      "text/plain": [
       "(6597, 72)"
      ]
     },
     "execution_count": 8,
     "metadata": {},
     "output_type": "execute_result"
    }
   ],
   "source": [
    "florida_merge.shape\n",
    "## There are more entries in this file than the florida property file because some entries are duplicated as they\n",
    "## were sold multiple times"
   ]
  },
  {
   "cell_type": "code",
   "execution_count": 9,
   "metadata": {},
   "outputs": [
    {
     "data": {
      "text/plain": [
       "(5315, 56)"
      ]
     },
     "execution_count": 9,
     "metadata": {},
     "output_type": "execute_result"
    }
   ],
   "source": [
    "florida.shape"
   ]
  },
  {
   "cell_type": "code",
   "execution_count": 10,
   "metadata": {},
   "outputs": [
    {
     "data": {
      "text/plain": [
       "(24527, 17)"
      ]
     },
     "execution_count": 10,
     "metadata": {},
     "output_type": "execute_result"
    }
   ],
   "source": [
    "sales.shape"
   ]
  },
  {
   "cell_type": "code",
   "execution_count": 11,
   "metadata": {},
   "outputs": [],
   "source": [
    "florida_merge[\"Sale_date\"] = pd.to_datetime(florida_merge[\"Sale_date\"])"
   ]
  },
  {
   "cell_type": "code",
   "execution_count": 12,
   "metadata": {},
   "outputs": [],
   "source": [
    "florida_merge = pd.merge(florida_merge, rate, how = \"left\", on = \"Sale_date\")"
   ]
  },
  {
   "cell_type": "code",
   "execution_count": 13,
   "metadata": {},
   "outputs": [
    {
     "data": {
      "text/html": [
       "<div>\n",
       "<style scoped>\n",
       "    .dataframe tbody tr th:only-of-type {\n",
       "        vertical-align: middle;\n",
       "    }\n",
       "\n",
       "    .dataframe tbody tr th {\n",
       "        vertical-align: top;\n",
       "    }\n",
       "\n",
       "    .dataframe thead th {\n",
       "        text-align: right;\n",
       "    }\n",
       "</style>\n",
       "<table border=\"1\" class=\"dataframe\">\n",
       "  <thead>\n",
       "    <tr style=\"text-align: right;\">\n",
       "      <th></th>\n",
       "      <th>SCAPN</th>\n",
       "      <th>SCSitus_NumNam_x</th>\n",
       "      <th>PropID</th>\n",
       "      <th>Star_rating</th>\n",
       "      <th>City</th>\n",
       "      <th>State</th>\n",
       "      <th>Zip</th>\n",
       "      <th>County</th>\n",
       "      <th>For_sale_price</th>\n",
       "      <th>For_sale_status</th>\n",
       "      <th>...</th>\n",
       "      <th>Total_value</th>\n",
       "      <th>Assessed_yr</th>\n",
       "      <th>Floor_area_ratio</th>\n",
       "      <th>Num_floors</th>\n",
       "      <th>Price_per_sqft</th>\n",
       "      <th>Land_price_per_AC</th>\n",
       "      <th>Sale_date</th>\n",
       "      <th>Sale_price</th>\n",
       "      <th>Listing_broker_company</th>\n",
       "      <th>10_yr_treasury_rate</th>\n",
       "    </tr>\n",
       "  </thead>\n",
       "  <tbody>\n",
       "    <tr>\n",
       "      <th>0</th>\n",
       "      <td>FL Pinellas 34-29-15-50256-001-0010</td>\n",
       "      <td>FL Pinellas600 Bay Dr</td>\n",
       "      <td>P2828</td>\n",
       "      <td>4</td>\n",
       "      <td>Largo</td>\n",
       "      <td>FL</td>\n",
       "      <td>337703328</td>\n",
       "      <td>Pinellas</td>\n",
       "      <td>NaN</td>\n",
       "      <td>NaN</td>\n",
       "      <td>...</td>\n",
       "      <td>NaN</td>\n",
       "      <td>NaN</td>\n",
       "      <td>NaN</td>\n",
       "      <td>NaN</td>\n",
       "      <td>NaN</td>\n",
       "      <td>NaN</td>\n",
       "      <td>NaT</td>\n",
       "      <td>NaN</td>\n",
       "      <td>NaN</td>\n",
       "      <td>NaN</td>\n",
       "    </tr>\n",
       "    <tr>\n",
       "      <th>1</th>\n",
       "      <td>FL Pinellas 24-31-16-29718-013-0150</td>\n",
       "      <td>FL Pinellas1601 Central Ave</td>\n",
       "      <td>P2829</td>\n",
       "      <td>4</td>\n",
       "      <td>Saint Petersburg</td>\n",
       "      <td>FL</td>\n",
       "      <td>337138934</td>\n",
       "      <td>Pinellas</td>\n",
       "      <td>NaN</td>\n",
       "      <td>NaN</td>\n",
       "      <td>...</td>\n",
       "      <td>NaN</td>\n",
       "      <td>NaN</td>\n",
       "      <td>NaN</td>\n",
       "      <td>NaN</td>\n",
       "      <td>NaN</td>\n",
       "      <td>NaN</td>\n",
       "      <td>NaT</td>\n",
       "      <td>NaN</td>\n",
       "      <td>NaN</td>\n",
       "      <td>NaN</td>\n",
       "    </tr>\n",
       "    <tr>\n",
       "      <th>2</th>\n",
       "      <td>FL Hillsborough A-24-29-18-4ZI-000017-00002.1</td>\n",
       "      <td>FL Hillsborough915 Franklin St</td>\n",
       "      <td>P2830</td>\n",
       "      <td>4</td>\n",
       "      <td>Tampa</td>\n",
       "      <td>FL</td>\n",
       "      <td>336023809</td>\n",
       "      <td>Hillsborough</td>\n",
       "      <td>NaN</td>\n",
       "      <td>NaN</td>\n",
       "      <td>...</td>\n",
       "      <td>NaN</td>\n",
       "      <td>NaN</td>\n",
       "      <td>NaN</td>\n",
       "      <td>NaN</td>\n",
       "      <td>NaN</td>\n",
       "      <td>NaN</td>\n",
       "      <td>NaT</td>\n",
       "      <td>NaN</td>\n",
       "      <td>NaN</td>\n",
       "      <td>NaN</td>\n",
       "    </tr>\n",
       "    <tr>\n",
       "      <th>3</th>\n",
       "      <td>FL Hillsborough A-19-29-19-4X2-000010-00001.0</td>\n",
       "      <td>FL Hillsborough1211 Kennedy Blvd</td>\n",
       "      <td>P2831</td>\n",
       "      <td>4</td>\n",
       "      <td>Tampa</td>\n",
       "      <td>FL</td>\n",
       "      <td>336023513</td>\n",
       "      <td>Hillsborough</td>\n",
       "      <td>NaN</td>\n",
       "      <td>NaN</td>\n",
       "      <td>...</td>\n",
       "      <td>NaN</td>\n",
       "      <td>NaN</td>\n",
       "      <td>NaN</td>\n",
       "      <td>NaN</td>\n",
       "      <td>NaN</td>\n",
       "      <td>NaN</td>\n",
       "      <td>NaT</td>\n",
       "      <td>NaN</td>\n",
       "      <td>NaN</td>\n",
       "      <td>NaN</td>\n",
       "    </tr>\n",
       "    <tr>\n",
       "      <th>4</th>\n",
       "      <td>FL Pinellas 19-31-17-74466-021-0141</td>\n",
       "      <td>FL Pinellas297 1st Ave</td>\n",
       "      <td>P2832</td>\n",
       "      <td>4</td>\n",
       "      <td>Saint Petersburg</td>\n",
       "      <td>FL</td>\n",
       "      <td>337013308</td>\n",
       "      <td>Pinellas</td>\n",
       "      <td>NaN</td>\n",
       "      <td>NaN</td>\n",
       "      <td>...</td>\n",
       "      <td>NaN</td>\n",
       "      <td>NaN</td>\n",
       "      <td>NaN</td>\n",
       "      <td>NaN</td>\n",
       "      <td>NaN</td>\n",
       "      <td>NaN</td>\n",
       "      <td>NaT</td>\n",
       "      <td>NaN</td>\n",
       "      <td>NaN</td>\n",
       "      <td>NaN</td>\n",
       "    </tr>\n",
       "  </tbody>\n",
       "</table>\n",
       "<p>5 rows × 73 columns</p>\n",
       "</div>"
      ],
      "text/plain": [
       "                                           SCAPN  \\\n",
       "0            FL Pinellas 34-29-15-50256-001-0010   \n",
       "1            FL Pinellas 24-31-16-29718-013-0150   \n",
       "2  FL Hillsborough A-24-29-18-4ZI-000017-00002.1   \n",
       "3  FL Hillsborough A-19-29-19-4X2-000010-00001.0   \n",
       "4            FL Pinellas 19-31-17-74466-021-0141   \n",
       "\n",
       "                   SCSitus_NumNam_x PropID  Star_rating              City  \\\n",
       "0             FL Pinellas600 Bay Dr  P2828            4             Largo   \n",
       "1       FL Pinellas1601 Central Ave  P2829            4  Saint Petersburg   \n",
       "2    FL Hillsborough915 Franklin St  P2830            4             Tampa   \n",
       "3  FL Hillsborough1211 Kennedy Blvd  P2831            4             Tampa   \n",
       "4            FL Pinellas297 1st Ave  P2832            4  Saint Petersburg   \n",
       "\n",
       "  State        Zip        County For_sale_price For_sale_status  ...  \\\n",
       "0    FL  337703328      Pinellas            NaN             NaN  ...   \n",
       "1    FL  337138934      Pinellas            NaN             NaN  ...   \n",
       "2    FL  336023809  Hillsborough            NaN             NaN  ...   \n",
       "3    FL  336023513  Hillsborough            NaN             NaN  ...   \n",
       "4    FL  337013308      Pinellas            NaN             NaN  ...   \n",
       "\n",
       "   Total_value  Assessed_yr  Floor_area_ratio  Num_floors  Price_per_sqft  \\\n",
       "0          NaN          NaN               NaN         NaN             NaN   \n",
       "1          NaN          NaN               NaN         NaN             NaN   \n",
       "2          NaN          NaN               NaN         NaN             NaN   \n",
       "3          NaN          NaN               NaN         NaN             NaN   \n",
       "4          NaN          NaN               NaN         NaN             NaN   \n",
       "\n",
       "   Land_price_per_AC  Sale_date  Sale_price Listing_broker_company  \\\n",
       "0                NaN        NaT         NaN                    NaN   \n",
       "1                NaN        NaT         NaN                    NaN   \n",
       "2                NaN        NaT         NaN                    NaN   \n",
       "3                NaN        NaT         NaN                    NaN   \n",
       "4                NaN        NaT         NaN                    NaN   \n",
       "\n",
       "   10_yr_treasury_rate  \n",
       "0                  NaN  \n",
       "1                  NaN  \n",
       "2                  NaN  \n",
       "3                  NaN  \n",
       "4                  NaN  \n",
       "\n",
       "[5 rows x 73 columns]"
      ]
     },
     "execution_count": 13,
     "metadata": {},
     "output_type": "execute_result"
    }
   ],
   "source": [
    "florida_merge.head()"
   ]
  },
  {
   "cell_type": "code",
   "execution_count": 14,
   "metadata": {},
   "outputs": [
    {
     "data": {
      "text/plain": [
       "(6597, 73)"
      ]
     },
     "execution_count": 14,
     "metadata": {},
     "output_type": "execute_result"
    }
   ],
   "source": [
    "florida_merge.shape"
   ]
  },
  {
   "cell_type": "code",
   "execution_count": 15,
   "metadata": {},
   "outputs": [],
   "source": [
    "florida_merge.to_csv(\"Florida_all_data.csv\")"
   ]
  },
  {
   "cell_type": "markdown",
   "metadata": {},
   "source": [
    "## Georgia"
   ]
  },
  {
   "cell_type": "code",
   "execution_count": 16,
   "metadata": {},
   "outputs": [],
   "source": [
    "# Merge Georgia data\n",
    "georgia = pd.read_csv(\"Property_GA.csv\")"
   ]
  },
  {
   "cell_type": "code",
   "execution_count": 17,
   "metadata": {},
   "outputs": [],
   "source": [
    "georgia_merge = pd.merge(georgia, sales, how = \"left\", on = [\"SCAPN\"])"
   ]
  },
  {
   "cell_type": "code",
   "execution_count": 18,
   "metadata": {},
   "outputs": [
    {
     "name": "stdout",
     "output_type": "stream",
     "text": [
      "(3620, 73)\n",
      "(2827, 57)\n"
     ]
    }
   ],
   "source": [
    "print(georgia_merge.shape)\n",
    "print(georgia.shape)"
   ]
  },
  {
   "cell_type": "code",
   "execution_count": 19,
   "metadata": {},
   "outputs": [],
   "source": [
    "georgia_merge[\"Sale_date\"] = pd.to_datetime(georgia_merge[\"Sale_date\"])"
   ]
  },
  {
   "cell_type": "code",
   "execution_count": 20,
   "metadata": {},
   "outputs": [],
   "source": [
    "georgia_merge = pd.merge(georgia_merge, rate, how = \"left\", on = \"Sale_date\")"
   ]
  },
  {
   "cell_type": "code",
   "execution_count": 21,
   "metadata": {},
   "outputs": [
    {
     "data": {
      "text/plain": [
       "(3620, 74)"
      ]
     },
     "execution_count": 21,
     "metadata": {},
     "output_type": "execute_result"
    }
   ],
   "source": [
    "georgia_merge.shape"
   ]
  },
  {
   "cell_type": "code",
   "execution_count": 22,
   "metadata": {},
   "outputs": [],
   "source": [
    "georgia_merge.to_csv(\"Georgia_all_data.csv\")"
   ]
  },
  {
   "cell_type": "markdown",
   "metadata": {},
   "source": [
    "## North Carolina"
   ]
  },
  {
   "cell_type": "code",
   "execution_count": 23,
   "metadata": {},
   "outputs": [],
   "source": [
    "# Merge North Carolina data\n",
    "n_carolina = pd.read_csv(\"Property_NC.csv\")"
   ]
  },
  {
   "cell_type": "code",
   "execution_count": 24,
   "metadata": {},
   "outputs": [],
   "source": [
    "n_carolina_merge = pd.merge(n_carolina, sales, how = \"left\", on = [\"SCAPN\"])"
   ]
  },
  {
   "cell_type": "code",
   "execution_count": 25,
   "metadata": {},
   "outputs": [
    {
     "name": "stdout",
     "output_type": "stream",
     "text": [
      "(2871, 73)\n",
      "(2426, 57)\n"
     ]
    }
   ],
   "source": [
    "print(n_carolina_merge.shape)\n",
    "print(n_carolina.shape)"
   ]
  },
  {
   "cell_type": "code",
   "execution_count": 26,
   "metadata": {},
   "outputs": [],
   "source": [
    "n_carolina_merge[\"Sale_date\"] = pd.to_datetime(n_carolina_merge[\"Sale_date\"])"
   ]
  },
  {
   "cell_type": "code",
   "execution_count": 27,
   "metadata": {},
   "outputs": [],
   "source": [
    "n_carolina_merge = pd.merge(n_carolina_merge, rate, how = \"left\", on = \"Sale_date\")"
   ]
  },
  {
   "cell_type": "code",
   "execution_count": 28,
   "metadata": {},
   "outputs": [
    {
     "data": {
      "text/plain": [
       "(2871, 74)"
      ]
     },
     "execution_count": 28,
     "metadata": {},
     "output_type": "execute_result"
    }
   ],
   "source": [
    "n_carolina_merge.shape"
   ]
  },
  {
   "cell_type": "code",
   "execution_count": 29,
   "metadata": {},
   "outputs": [],
   "source": [
    "n_carolina_merge.to_csv(\"North_Carolina_all_data.csv\")"
   ]
  },
  {
   "cell_type": "markdown",
   "metadata": {},
   "source": [
    "## Texas"
   ]
  },
  {
   "cell_type": "code",
   "execution_count": 30,
   "metadata": {},
   "outputs": [],
   "source": [
    "# Merge Texas data\n",
    "texas = pd.read_csv(\"Property_TX.csv\")"
   ]
  },
  {
   "cell_type": "code",
   "execution_count": 31,
   "metadata": {},
   "outputs": [],
   "source": [
    "texas_merge = pd.merge(texas, sales, how = \"left\", on = [\"SCAPN\"])"
   ]
  },
  {
   "cell_type": "code",
   "execution_count": 32,
   "metadata": {},
   "outputs": [
    {
     "name": "stdout",
     "output_type": "stream",
     "text": [
      "(11658, 73)\n",
      "(9795, 57)\n"
     ]
    }
   ],
   "source": [
    "print(texas_merge.shape)\n",
    "print(texas.shape)"
   ]
  },
  {
   "cell_type": "code",
   "execution_count": 33,
   "metadata": {},
   "outputs": [],
   "source": [
    "texas_merge[\"Sale_date\"] = pd.to_datetime(texas_merge[\"Sale_date\"])"
   ]
  },
  {
   "cell_type": "code",
   "execution_count": 34,
   "metadata": {},
   "outputs": [],
   "source": [
    "texas_merge = pd.merge(texas_merge, rate, how = \"left\", on = \"Sale_date\")"
   ]
  },
  {
   "cell_type": "code",
   "execution_count": 35,
   "metadata": {},
   "outputs": [
    {
     "data": {
      "text/plain": [
       "(11658, 74)"
      ]
     },
     "execution_count": 35,
     "metadata": {},
     "output_type": "execute_result"
    }
   ],
   "source": [
    "texas_merge.shape"
   ]
  },
  {
   "cell_type": "code",
   "execution_count": 36,
   "metadata": {},
   "outputs": [],
   "source": [
    "texas_merge.to_csv(\"Texas_all_data.csv\")"
   ]
  }
 ],
 "metadata": {
  "kernelspec": {
   "display_name": "Python 3",
   "language": "python",
   "name": "python3"
  },
  "language_info": {
   "codemirror_mode": {
    "name": "ipython",
    "version": 3
   },
   "file_extension": ".py",
   "mimetype": "text/x-python",
   "name": "python",
   "nbconvert_exporter": "python",
   "pygments_lexer": "ipython3",
   "version": "3.7.3"
  }
 },
 "nbformat": 4,
 "nbformat_minor": 2
}
