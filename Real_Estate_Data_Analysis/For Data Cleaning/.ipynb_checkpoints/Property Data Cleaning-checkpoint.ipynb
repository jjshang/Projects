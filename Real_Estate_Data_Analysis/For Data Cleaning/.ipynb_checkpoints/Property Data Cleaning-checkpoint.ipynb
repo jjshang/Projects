{
 "cells": [
  {
   "cell_type": "code",
   "execution_count": 1,
   "metadata": {},
   "outputs": [],
   "source": [
    "import pandas as pd\n",
    "import numpy as np\n",
    "import matplotlib.pyplot as plt\n",
    "import seaborn as sns"
   ]
  },
  {
   "cell_type": "code",
   "execution_count": 2,
   "metadata": {},
   "outputs": [
    {
     "name": "stderr",
     "output_type": "stream",
     "text": [
      "/Users/jennyshang/anaconda3/lib/python3.7/site-packages/IPython/core/interactiveshell.py:3057: DtypeWarning: Columns (13,15,114) have mixed types. Specify dtype option on import or set low_memory=False.\n",
      "  interactivity=interactivity, compiler=compiler, result=result)\n"
     ]
    },
    {
     "data": {
      "text/html": [
       "<div>\n",
       "<style scoped>\n",
       "    .dataframe tbody tr th:only-of-type {\n",
       "        vertical-align: middle;\n",
       "    }\n",
       "\n",
       "    .dataframe tbody tr th {\n",
       "        vertical-align: top;\n",
       "    }\n",
       "\n",
       "    .dataframe thead th {\n",
       "        text-align: right;\n",
       "    }\n",
       "</style>\n",
       "<table border=\"1\" class=\"dataframe\">\n",
       "  <thead>\n",
       "    <tr style=\"text-align: right;\">\n",
       "      <th></th>\n",
       "      <th>Row</th>\n",
       "      <th>PropID</th>\n",
       "      <th>Property Address</th>\n",
       "      <th>Property Name</th>\n",
       "      <th>Star Rating</th>\n",
       "      <th>Energy Star</th>\n",
       "      <th>LEED Certified</th>\n",
       "      <th>Building Status</th>\n",
       "      <th>Secondary Type</th>\n",
       "      <th>Market Name</th>\n",
       "      <th>...</th>\n",
       "      <th>2024 Pop Age 75-79(1m)</th>\n",
       "      <th>2024 Pop Age 80-84(1m)</th>\n",
       "      <th>2024 Pop Age 85+(1m)</th>\n",
       "      <th>Situs_Num</th>\n",
       "      <th>Situs_Num_Remainder</th>\n",
       "      <th>SITUS_DIR</th>\n",
       "      <th>SITUS_NAM</th>\n",
       "      <th>SCP</th>\n",
       "      <th>SCSitus_NumNam</th>\n",
       "      <th>SCAPN</th>\n",
       "    </tr>\n",
       "  </thead>\n",
       "  <tbody>\n",
       "    <tr>\n",
       "      <th>0</th>\n",
       "      <td>1</td>\n",
       "      <td>P1</td>\n",
       "      <td>6215 Johns Creek Cmn</td>\n",
       "      <td>The Reserve at Johns Creek Walk</td>\n",
       "      <td>4</td>\n",
       "      <td>NaN</td>\n",
       "      <td>NaN</td>\n",
       "      <td>Existing</td>\n",
       "      <td>Apartments</td>\n",
       "      <td>Atlanta</td>\n",
       "      <td>...</td>\n",
       "      <td>344.0</td>\n",
       "      <td>176.0</td>\n",
       "      <td>134.0</td>\n",
       "      <td>6215.0</td>\n",
       "      <td>Johns Creek Cmn</td>\n",
       "      <td>NaN</td>\n",
       "      <td>Johns Creek Cmn</td>\n",
       "      <td>GA Fulton The Reserve at Johns Creek Walk</td>\n",
       "      <td>GA Fulton6215 Johns Creek Cmn</td>\n",
       "      <td>GA Fulton 11-1000-0359-034</td>\n",
       "    </tr>\n",
       "    <tr>\n",
       "      <th>1</th>\n",
       "      <td>2</td>\n",
       "      <td>P2</td>\n",
       "      <td>927 3rd St NW</td>\n",
       "      <td>8West</td>\n",
       "      <td>4</td>\n",
       "      <td>NaN</td>\n",
       "      <td>NaN</td>\n",
       "      <td>Under Construction</td>\n",
       "      <td>Apartments</td>\n",
       "      <td>Atlanta</td>\n",
       "      <td>...</td>\n",
       "      <td>184.0</td>\n",
       "      <td>102.0</td>\n",
       "      <td>85.0</td>\n",
       "      <td>927.0</td>\n",
       "      <td>3rd St NW</td>\n",
       "      <td>NaN</td>\n",
       "      <td>3rd St</td>\n",
       "      <td>GA Fulton 8West</td>\n",
       "      <td>GA Fulton927 3rd St</td>\n",
       "      <td>GA Fulton 14-0112-0003-061-5</td>\n",
       "    </tr>\n",
       "  </tbody>\n",
       "</table>\n",
       "<p>2 rows × 212 columns</p>\n",
       "</div>"
      ],
      "text/plain": [
       "   Row PropID      Property Address                    Property Name  \\\n",
       "0    1     P1  6215 Johns Creek Cmn  The Reserve at Johns Creek Walk   \n",
       "1    2     P2         927 3rd St NW                            8West   \n",
       "\n",
       "   Star Rating Energy Star LEED Certified     Building Status Secondary Type  \\\n",
       "0            4         NaN            NaN            Existing     Apartments   \n",
       "1            4         NaN            NaN  Under Construction     Apartments   \n",
       "\n",
       "  Market Name  ... 2024 Pop Age 75-79(1m) 2024 Pop Age 80-84(1m)  \\\n",
       "0     Atlanta  ...                  344.0                  176.0   \n",
       "1     Atlanta  ...                  184.0                  102.0   \n",
       "\n",
       "  2024 Pop Age 85+(1m) Situs_Num Situs_Num_Remainder SITUS_DIR  \\\n",
       "0                134.0    6215.0     Johns Creek Cmn       NaN   \n",
       "1                 85.0     927.0           3rd St NW       NaN   \n",
       "\n",
       "           SITUS_NAM                                        SCP  \\\n",
       "0  Johns Creek Cmn    GA Fulton The Reserve at Johns Creek Walk   \n",
       "1            3rd St                             GA Fulton 8West   \n",
       "\n",
       "                  SCSitus_NumNam                         SCAPN  \n",
       "0  GA Fulton6215 Johns Creek Cmn    GA Fulton 11-1000-0359-034  \n",
       "1            GA Fulton927 3rd St  GA Fulton 14-0112-0003-061-5  \n",
       "\n",
       "[2 rows x 212 columns]"
      ]
     },
     "execution_count": 2,
     "metadata": {},
     "output_type": "execute_result"
    }
   ],
   "source": [
    "## Load the property file\n",
    "data = pd.read_csv(\"Property_Data.csv\")\n",
    "data.head(2)"
   ]
  },
  {
   "cell_type": "code",
   "execution_count": 3,
   "metadata": {},
   "outputs": [
    {
     "data": {
      "text/plain": [
       "(20363, 212)"
      ]
     },
     "execution_count": 3,
     "metadata": {},
     "output_type": "execute_result"
    }
   ],
   "source": [
    "data.shape"
   ]
  },
  {
   "cell_type": "code",
   "execution_count": 7,
   "metadata": {},
   "outputs": [
    {
     "data": {
      "text/plain": [
       "Index(['Record', 'SID', 'SCP', 'SCSitus_NumNam', 'SCAPN', 'Actual Cap Rate',\n",
       "       'Age', 'Asking Price', 'Assessed Improved', 'Assessed Land',\n",
       "       ...\n",
       "       'Title Company', 'Total Expense Amount', 'Transaction Notes',\n",
       "       'Transfer Tax', 'Two Bedroom Mix', 'Typ Flr (SF)', 'Units Per Acre',\n",
       "       'Vacancy', 'Year Built', 'Zoning'],\n",
       "      dtype='object', length=200)"
      ]
     },
     "execution_count": 7,
     "metadata": {},
     "output_type": "execute_result"
    }
   ],
   "source": [
    "data.columns.unique()"
   ]
  },
  {
   "cell_type": "code",
   "execution_count": 8,
   "metadata": {
    "scrolled": true
   },
   "outputs": [],
   "source": [
    "## Add in necessary columns\n",
    "\n",
    "building = pd.DataFrame()"
   ]
  },
  {
   "cell_type": "code",
   "execution_count": 9,
   "metadata": {},
   "outputs": [],
   "source": [
    "building[\"SCAPN\"] = data.SCAPN\n",
    "building[\"SCSitus_NumNam\"] = data[\"SCSitus_NumNam\"]\n",
    "building[\"PropID\"] = data.PropID\n",
    "building[\"Star_rating\"] = data[\"Star Rating\"]\n",
    "building[\"City\"] = data.City\n",
    "building[\"State\"] = data.State\n",
    "building[\"Zip\"]=data.Zip\n",
    "building[\"County\"] = data[\"County Name\"]\n",
    "building[\"For_sale_price\"] = data[\"For Sale Price\"]\n",
    "building[\"For_sale_status\"] = data[\"For Sale Status\"]\n",
    "building[\"Land_area\"] = data[\"Land Area (AC)\"]\n",
    "building[\"Num_units\"] = data[\"Number Of Units\"]\n",
    "building[\"Cap_rate\"] = data[\"Cap Rate\"]\n",
    "building[\"Vacancy_%\"] = data[\"Vacancy %\"]\n",
    "building[\"Avg_unit_sqft\"] = data[\"Avg Unit SF\"]\n",
    "building[\"Avg_Concession_%\"] = data[\"Avg Concessions %\"]\n",
    "building[\"Parking_per_unit\"] = data[\"Parking Spaces/Unit\"]\n",
    "building[\"Days_on_mkt\"] = data[\"Days On Market\"]\n",
    "building[\"Amenities\"] = data.Amenities\n",
    "building[\"Year_built\"] = data[\"Year Built\"]\n",
    "building[\"Year_reno\"] = data[\"Year Renovated\"]\n",
    "building[\"Last_sale_date\"] = data[\"Last Sale Date\"]\n",
    "building[\"Last_sale_price\"] = data[\"Last Sale Price\"]\n",
    "building[\"Transit_dist_mile\"] = data[\"Closest Transit Stop Dist (mi)\"]\n",
    "building[\"Transit_walk_time_min\"] = data[\"Closest Transit Stop Walk Time (min)\"]\n",
    "building[\"Const_material\"] = data[\"Construction Material\"]\n",
    "\n",
    "building[\"Num_studio\"] = data[\"Number Of Studios\"]\n",
    "building[\"Studio_rent_sqft\"] = data[\"Studio Asking Rent/SF\"]\n",
    "building[\"Studio_avg_sqft\"] = data[\"Studio Avg SF\"]\n",
    "building[\"Studio_concession_%\"] = data[\"Studio Concessions %\"]\n",
    "building[\"Studio_vacancy_%\"] = data[\"Studio Vacancy %\"]\n",
    "\n",
    "building[\"Num_1_bed\"] = data[\"Number Of 1 Bedrooms\"]\n",
    "building[\"1_bed_rent_sqft\"] = data[\"One Bedroom Asking Rent/SF\"]\n",
    "building[\"1_bed_avg_sqft\"] = data[\"One Bedroom Avg SF\"]\n",
    "building[\"1_bed_concession_%\"] = data[\"One Bedroom Concessions %\"]\n",
    "building[\"1_bed_vacancy_%\"] = data[\"One Bedroom Vacancy %\"]\n",
    "\n",
    "building[\"Num_2_bed\"] = data[\"Number Of 2 Bedrooms\"]\n",
    "building[\"2_bed_rent_sqft\"] = data[\"Two Bedroom Asking Rent/SF\"]\n",
    "building[\"2_bed_avg_sqft\"] = data[\"Two Bedroom Avg SF\"]\n",
    "building[\"2_bed_concession_%\"] = data[\"Two Bedroom Concessions %\"]\n",
    "building[\"2_bed_vacancy_%\"] = data[\"Two Bedroom Vacancy %\"]\n",
    "\n",
    "building[\"Num_3_bed\"] = data[\"Number Of 3 Bedrooms\"]\n",
    "building[\"3_bed_rent_sqft\"] = data[\"Three Bedroom Asking Rent/SF\"]\n",
    "building[\"3_bed_avg_sqft\"] = data[\"Three Bedroom Avg SF\"]\n",
    "building[\"3_bed_concession_%\"] = data[\"Three Bedroom Concessions %\"]\n",
    "building[\"3_bed_vacancy_%\"] = data[\"Three Bedroom Vacancy %\"]\n",
    "\n",
    "building[\"Num_4_bed\"] = data[\"Number Of 4 Bedrooms\"]\n",
    "building[\"4_bed_rent_sqft\"] = data[\"Four Bedroom Asking Rent/SF\"]\n",
    "building[\"4_bed_avg_sqft\"] = data[\"Four Bedroom Avg SF\"]\n",
    "building[\"4_bed_concession_%\"] = data[\"Four Bedroom Concessions %\"]\n",
    "building[\"4_bed_vacancy_%\"] = data[\"Four Bedroom Vacancy %\"]\n",
    "\n",
    "building[\"2010_Avg_age\"] = data[\"2010 Avg Age(1m)\"]\n",
    "building[\"2019_Avg_age\"] = data[\"2019 Avg Age(1m)\"]\n",
    "building[\"2019_Pop_25_39\"] = data[\"2019 Pop Age 25-29(1m)\"] + data[\"2019 Pop Age 30-34(1m)\"]+data[\"2019 Pop Age 35-39(1m)\"]\n",
    "building[\"2024_Avg_age\"] = data[\"2024 Avg Age(1m)\"]\n",
    "building[\"2024_Pop_25_39\"] = data[\"2024 Pop Age 25-29(1m)\"] + data[\"2024 Pop Age 30-34(1m)\"]+data[\"2024 Pop Age 35-39(1m)\"]\n",
    "\n"
   ]
  },
  {
   "cell_type": "code",
   "execution_count": 10,
   "metadata": {},
   "outputs": [
    {
     "data": {
      "text/plain": [
       "(20363, 56)"
      ]
     },
     "execution_count": 10,
     "metadata": {},
     "output_type": "execute_result"
    }
   ],
   "source": [
    "building.shape"
   ]
  },
  {
   "cell_type": "code",
   "execution_count": 11,
   "metadata": {},
   "outputs": [
    {
     "data": {
      "text/html": [
       "<div>\n",
       "<style scoped>\n",
       "    .dataframe tbody tr th:only-of-type {\n",
       "        vertical-align: middle;\n",
       "    }\n",
       "\n",
       "    .dataframe tbody tr th {\n",
       "        vertical-align: top;\n",
       "    }\n",
       "\n",
       "    .dataframe thead th {\n",
       "        text-align: right;\n",
       "    }\n",
       "</style>\n",
       "<table border=\"1\" class=\"dataframe\">\n",
       "  <thead>\n",
       "    <tr style=\"text-align: right;\">\n",
       "      <th></th>\n",
       "      <th>SCAPN</th>\n",
       "      <th>SCSitus_NumNam</th>\n",
       "      <th>PropID</th>\n",
       "      <th>Star_rating</th>\n",
       "      <th>City</th>\n",
       "      <th>State</th>\n",
       "      <th>Zip</th>\n",
       "      <th>County</th>\n",
       "      <th>For_sale_price</th>\n",
       "      <th>For_sale_status</th>\n",
       "      <th>...</th>\n",
       "      <th>Num_4_bed</th>\n",
       "      <th>4_bed_rent_sqft</th>\n",
       "      <th>4_bed_avg_sqft</th>\n",
       "      <th>4_bed_concession_%</th>\n",
       "      <th>4_bed_vacancy_%</th>\n",
       "      <th>2010_Avg_age</th>\n",
       "      <th>2019_Avg_age</th>\n",
       "      <th>2019_Pop_25_39</th>\n",
       "      <th>2024_Avg_age</th>\n",
       "      <th>2024_Pop_25_39</th>\n",
       "    </tr>\n",
       "  </thead>\n",
       "  <tbody>\n",
       "    <tr>\n",
       "      <th>0</th>\n",
       "      <td>GA Fulton 11-1000-0359-034</td>\n",
       "      <td>GA Fulton6215 Johns Creek Cmn</td>\n",
       "      <td>P1</td>\n",
       "      <td>4</td>\n",
       "      <td>Johns Creek</td>\n",
       "      <td>GA</td>\n",
       "      <td>300971535</td>\n",
       "      <td>Fulton</td>\n",
       "      <td>NaN</td>\n",
       "      <td>N</td>\n",
       "      <td>...</td>\n",
       "      <td>NaN</td>\n",
       "      <td>NaN</td>\n",
       "      <td>NaN</td>\n",
       "      <td>NaN</td>\n",
       "      <td>NaN</td>\n",
       "      <td>32.4</td>\n",
       "      <td>35.5</td>\n",
       "      <td>2956.0</td>\n",
       "      <td>37.1</td>\n",
       "      <td>3894.0</td>\n",
       "    </tr>\n",
       "    <tr>\n",
       "      <th>1</th>\n",
       "      <td>GA Fulton 14-0112-0003-061-5</td>\n",
       "      <td>GA Fulton927 3rd St</td>\n",
       "      <td>P2</td>\n",
       "      <td>4</td>\n",
       "      <td>Atlanta</td>\n",
       "      <td>GA</td>\n",
       "      <td>30318</td>\n",
       "      <td>Fulton</td>\n",
       "      <td>NaN</td>\n",
       "      <td>N</td>\n",
       "      <td>...</td>\n",
       "      <td>NaN</td>\n",
       "      <td>NaN</td>\n",
       "      <td>NaN</td>\n",
       "      <td>NaN</td>\n",
       "      <td>NaN</td>\n",
       "      <td>27.8</td>\n",
       "      <td>30.6</td>\n",
       "      <td>9959.0</td>\n",
       "      <td>32.6</td>\n",
       "      <td>9412.0</td>\n",
       "    </tr>\n",
       "    <tr>\n",
       "      <th>2</th>\n",
       "      <td>GA Fulton 17-0149-0008-098-2</td>\n",
       "      <td>GA Fulton555 8th St</td>\n",
       "      <td>P3</td>\n",
       "      <td>4</td>\n",
       "      <td>Atlanta</td>\n",
       "      <td>GA</td>\n",
       "      <td>30318</td>\n",
       "      <td>Fulton</td>\n",
       "      <td>NaN</td>\n",
       "      <td>N</td>\n",
       "      <td>...</td>\n",
       "      <td>100.0</td>\n",
       "      <td>NaN</td>\n",
       "      <td>NaN</td>\n",
       "      <td>NaN</td>\n",
       "      <td>5.0</td>\n",
       "      <td>26.4</td>\n",
       "      <td>29.9</td>\n",
       "      <td>12088.0</td>\n",
       "      <td>31.8</td>\n",
       "      <td>11441.0</td>\n",
       "    </tr>\n",
       "  </tbody>\n",
       "</table>\n",
       "<p>3 rows × 56 columns</p>\n",
       "</div>"
      ],
      "text/plain": [
       "                          SCAPN                 SCSitus_NumNam PropID  \\\n",
       "0    GA Fulton 11-1000-0359-034  GA Fulton6215 Johns Creek Cmn     P1   \n",
       "1  GA Fulton 14-0112-0003-061-5            GA Fulton927 3rd St     P2   \n",
       "2  GA Fulton 17-0149-0008-098-2            GA Fulton555 8th St     P3   \n",
       "\n",
       "   Star_rating         City State        Zip  County For_sale_price  \\\n",
       "0            4  Johns Creek    GA  300971535  Fulton            NaN   \n",
       "1            4      Atlanta    GA      30318  Fulton            NaN   \n",
       "2            4      Atlanta    GA      30318  Fulton            NaN   \n",
       "\n",
       "  For_sale_status  ...  Num_4_bed  4_bed_rent_sqft  4_bed_avg_sqft  \\\n",
       "0               N  ...        NaN              NaN             NaN   \n",
       "1               N  ...        NaN              NaN             NaN   \n",
       "2               N  ...      100.0              NaN             NaN   \n",
       "\n",
       "   4_bed_concession_%  4_bed_vacancy_%  2010_Avg_age  2019_Avg_age  \\\n",
       "0                 NaN              NaN          32.4          35.5   \n",
       "1                 NaN              NaN          27.8          30.6   \n",
       "2                 NaN              5.0          26.4          29.9   \n",
       "\n",
       "   2019_Pop_25_39 2024_Avg_age  2024_Pop_25_39  \n",
       "0          2956.0         37.1          3894.0  \n",
       "1          9959.0         32.6          9412.0  \n",
       "2         12088.0         31.8         11441.0  \n",
       "\n",
       "[3 rows x 56 columns]"
      ]
     },
     "execution_count": 11,
     "metadata": {},
     "output_type": "execute_result"
    }
   ],
   "source": [
    "building.head(3)"
   ]
  },
  {
   "cell_type": "markdown",
   "metadata": {},
   "source": [
    "## Filter by State"
   ]
  },
  {
   "cell_type": "code",
   "execution_count": 12,
   "metadata": {},
   "outputs": [
    {
     "data": {
      "text/plain": [
       "array(['GA', 'FL', 'Fl', 'NC', 'NC ', 'TX'], dtype=object)"
      ]
     },
     "execution_count": 12,
     "metadata": {},
     "output_type": "execute_result"
    }
   ],
   "source": [
    "building.State.unique()"
   ]
  },
  {
   "cell_type": "code",
   "execution_count": 13,
   "metadata": {},
   "outputs": [],
   "source": [
    "### For Florida:\n",
    "\n",
    "florida = building[building.State.isin([\"FL\",\"Fl\"])]"
   ]
  },
  {
   "cell_type": "code",
   "execution_count": 14,
   "metadata": {},
   "outputs": [],
   "source": [
    "florida.reset_index(inplace = True)"
   ]
  },
  {
   "cell_type": "code",
   "execution_count": 88,
   "metadata": {},
   "outputs": [
    {
     "data": {
      "text/html": [
       "<div>\n",
       "<style scoped>\n",
       "    .dataframe tbody tr th:only-of-type {\n",
       "        vertical-align: middle;\n",
       "    }\n",
       "\n",
       "    .dataframe tbody tr th {\n",
       "        vertical-align: top;\n",
       "    }\n",
       "\n",
       "    .dataframe thead th {\n",
       "        text-align: right;\n",
       "    }\n",
       "</style>\n",
       "<table border=\"1\" class=\"dataframe\">\n",
       "  <thead>\n",
       "    <tr style=\"text-align: right;\">\n",
       "      <th></th>\n",
       "      <th>index</th>\n",
       "      <th>SCAPN</th>\n",
       "      <th>SCSitus_NumNam</th>\n",
       "      <th>PropID</th>\n",
       "      <th>Star_rating</th>\n",
       "      <th>City</th>\n",
       "      <th>State</th>\n",
       "      <th>Zip</th>\n",
       "      <th>County</th>\n",
       "      <th>For_sale_price</th>\n",
       "      <th>...</th>\n",
       "      <th>Num_4_bed</th>\n",
       "      <th>4_bed_rent_sqft</th>\n",
       "      <th>4_bed_avg_sqft</th>\n",
       "      <th>4_bed_concession_%</th>\n",
       "      <th>4_bed_vacancy_%</th>\n",
       "      <th>2010_Avg_age</th>\n",
       "      <th>2019_Avg_age</th>\n",
       "      <th>2019_Pop_25_39</th>\n",
       "      <th>2024_Avg_age</th>\n",
       "      <th>2024_Pop_25_39</th>\n",
       "    </tr>\n",
       "  </thead>\n",
       "  <tbody>\n",
       "    <tr>\n",
       "      <th>0</th>\n",
       "      <td>2827</td>\n",
       "      <td>FL Pinellas 34-29-15-50256-001-0010</td>\n",
       "      <td>FL Pinellas600 Bay Dr</td>\n",
       "      <td>P2828</td>\n",
       "      <td>4</td>\n",
       "      <td>Largo</td>\n",
       "      <td>FL</td>\n",
       "      <td>337703328</td>\n",
       "      <td>Pinellas</td>\n",
       "      <td>NaN</td>\n",
       "      <td>...</td>\n",
       "      <td>NaN</td>\n",
       "      <td>NaN</td>\n",
       "      <td>NaN</td>\n",
       "      <td>NaN</td>\n",
       "      <td>NaN</td>\n",
       "      <td>44.8</td>\n",
       "      <td>44.5</td>\n",
       "      <td>3406.0</td>\n",
       "      <td>44.5</td>\n",
       "      <td>3475.0</td>\n",
       "    </tr>\n",
       "    <tr>\n",
       "      <th>1</th>\n",
       "      <td>2828</td>\n",
       "      <td>FL Pinellas 24-31-16-29718-013-0150</td>\n",
       "      <td>FL Pinellas1601 Central Ave</td>\n",
       "      <td>P2829</td>\n",
       "      <td>4</td>\n",
       "      <td>Saint Petersburg</td>\n",
       "      <td>FL</td>\n",
       "      <td>337138934</td>\n",
       "      <td>Pinellas</td>\n",
       "      <td>NaN</td>\n",
       "      <td>...</td>\n",
       "      <td>NaN</td>\n",
       "      <td>NaN</td>\n",
       "      <td>NaN</td>\n",
       "      <td>NaN</td>\n",
       "      <td>NaN</td>\n",
       "      <td>39.8</td>\n",
       "      <td>41.7</td>\n",
       "      <td>4022.0</td>\n",
       "      <td>42.4</td>\n",
       "      <td>3831.0</td>\n",
       "    </tr>\n",
       "    <tr>\n",
       "      <th>2</th>\n",
       "      <td>2829</td>\n",
       "      <td>FL Hillsborough A-24-29-18-4ZI-000017-00002.1</td>\n",
       "      <td>FL Hillsborough915 Franklin St</td>\n",
       "      <td>P2830</td>\n",
       "      <td>4</td>\n",
       "      <td>Tampa</td>\n",
       "      <td>FL</td>\n",
       "      <td>336023809</td>\n",
       "      <td>Hillsborough</td>\n",
       "      <td>NaN</td>\n",
       "      <td>...</td>\n",
       "      <td>NaN</td>\n",
       "      <td>NaN</td>\n",
       "      <td>NaN</td>\n",
       "      <td>NaN</td>\n",
       "      <td>NaN</td>\n",
       "      <td>31.2</td>\n",
       "      <td>35.0</td>\n",
       "      <td>7773.0</td>\n",
       "      <td>36.3</td>\n",
       "      <td>7043.0</td>\n",
       "    </tr>\n",
       "  </tbody>\n",
       "</table>\n",
       "<p>3 rows × 57 columns</p>\n",
       "</div>"
      ],
      "text/plain": [
       "   index                                          SCAPN  \\\n",
       "0   2827            FL Pinellas 34-29-15-50256-001-0010   \n",
       "1   2828            FL Pinellas 24-31-16-29718-013-0150   \n",
       "2   2829  FL Hillsborough A-24-29-18-4ZI-000017-00002.1   \n",
       "\n",
       "                   SCSitus_NumNam PropID  Star_rating              City State  \\\n",
       "0           FL Pinellas600 Bay Dr  P2828            4             Largo    FL   \n",
       "1     FL Pinellas1601 Central Ave  P2829            4  Saint Petersburg    FL   \n",
       "2  FL Hillsborough915 Franklin St  P2830            4             Tampa    FL   \n",
       "\n",
       "         Zip        County For_sale_price  ... Num_4_bed  4_bed_rent_sqft  \\\n",
       "0  337703328      Pinellas            NaN  ...       NaN              NaN   \n",
       "1  337138934      Pinellas            NaN  ...       NaN              NaN   \n",
       "2  336023809  Hillsborough            NaN  ...       NaN              NaN   \n",
       "\n",
       "   4_bed_avg_sqft  4_bed_concession_%  4_bed_vacancy_%  2010_Avg_age  \\\n",
       "0             NaN                 NaN              NaN          44.8   \n",
       "1             NaN                 NaN              NaN          39.8   \n",
       "2             NaN                 NaN              NaN          31.2   \n",
       "\n",
       "   2019_Avg_age  2019_Pop_25_39  2024_Avg_age 2024_Pop_25_39  \n",
       "0          44.5          3406.0          44.5         3475.0  \n",
       "1          41.7          4022.0          42.4         3831.0  \n",
       "2          35.0          7773.0          36.3         7043.0  \n",
       "\n",
       "[3 rows x 57 columns]"
      ]
     },
     "execution_count": 88,
     "metadata": {},
     "output_type": "execute_result"
    }
   ],
   "source": [
    "florida.head(3)"
   ]
  },
  {
   "cell_type": "code",
   "execution_count": 89,
   "metadata": {},
   "outputs": [],
   "source": [
    "florida = florida.drop(florida.columns[0], axis = 1)"
   ]
  },
  {
   "cell_type": "code",
   "execution_count": 100,
   "metadata": {},
   "outputs": [],
   "source": [
    "# Make all state value FL\n",
    "florida.State = \"FL\""
   ]
  },
  {
   "cell_type": "code",
   "execution_count": 90,
   "metadata": {},
   "outputs": [
    {
     "data": {
      "text/plain": [
       "(5315, 56)"
      ]
     },
     "execution_count": 90,
     "metadata": {},
     "output_type": "execute_result"
    }
   ],
   "source": [
    "florida.shape"
   ]
  },
  {
   "cell_type": "code",
   "execution_count": 39,
   "metadata": {},
   "outputs": [],
   "source": [
    "### For Georgia\n",
    "\n",
    "georgia = building[building.State == \"GA\"].reset_index()"
   ]
  },
  {
   "cell_type": "code",
   "execution_count": 40,
   "metadata": {},
   "outputs": [
    {
     "data": {
      "text/html": [
       "<div>\n",
       "<style scoped>\n",
       "    .dataframe tbody tr th:only-of-type {\n",
       "        vertical-align: middle;\n",
       "    }\n",
       "\n",
       "    .dataframe tbody tr th {\n",
       "        vertical-align: top;\n",
       "    }\n",
       "\n",
       "    .dataframe thead th {\n",
       "        text-align: right;\n",
       "    }\n",
       "</style>\n",
       "<table border=\"1\" class=\"dataframe\">\n",
       "  <thead>\n",
       "    <tr style=\"text-align: right;\">\n",
       "      <th></th>\n",
       "      <th>index</th>\n",
       "      <th>SCAPN</th>\n",
       "      <th>SCSitus_NumNam</th>\n",
       "      <th>PropID</th>\n",
       "      <th>Star_rating</th>\n",
       "      <th>City</th>\n",
       "      <th>State</th>\n",
       "      <th>Zip</th>\n",
       "      <th>County</th>\n",
       "      <th>For_sale_price</th>\n",
       "      <th>...</th>\n",
       "      <th>Num_4_bed</th>\n",
       "      <th>4_bed_rent_sqft</th>\n",
       "      <th>4_bed_avg_sqft</th>\n",
       "      <th>4_bed_concession_%</th>\n",
       "      <th>4_bed_vacancy_%</th>\n",
       "      <th>2010_Avg_age</th>\n",
       "      <th>2019_Avg_age</th>\n",
       "      <th>2019_Pop_25_39</th>\n",
       "      <th>2024_Avg_age</th>\n",
       "      <th>2024_Pop_25_39</th>\n",
       "    </tr>\n",
       "  </thead>\n",
       "  <tbody>\n",
       "    <tr>\n",
       "      <th>0</th>\n",
       "      <td>0</td>\n",
       "      <td>GA Fulton 11-1000-0359-034</td>\n",
       "      <td>GA Fulton6215 Johns Creek Cmn</td>\n",
       "      <td>P1</td>\n",
       "      <td>4</td>\n",
       "      <td>Johns Creek</td>\n",
       "      <td>GA</td>\n",
       "      <td>300971535</td>\n",
       "      <td>Fulton</td>\n",
       "      <td>NaN</td>\n",
       "      <td>...</td>\n",
       "      <td>NaN</td>\n",
       "      <td>NaN</td>\n",
       "      <td>NaN</td>\n",
       "      <td>NaN</td>\n",
       "      <td>NaN</td>\n",
       "      <td>32.4</td>\n",
       "      <td>35.5</td>\n",
       "      <td>2956.0</td>\n",
       "      <td>37.1</td>\n",
       "      <td>3894.0</td>\n",
       "    </tr>\n",
       "    <tr>\n",
       "      <th>1</th>\n",
       "      <td>1</td>\n",
       "      <td>GA Fulton 14-0112-0003-061-5</td>\n",
       "      <td>GA Fulton927 3rd St</td>\n",
       "      <td>P2</td>\n",
       "      <td>4</td>\n",
       "      <td>Atlanta</td>\n",
       "      <td>GA</td>\n",
       "      <td>30318</td>\n",
       "      <td>Fulton</td>\n",
       "      <td>NaN</td>\n",
       "      <td>...</td>\n",
       "      <td>NaN</td>\n",
       "      <td>NaN</td>\n",
       "      <td>NaN</td>\n",
       "      <td>NaN</td>\n",
       "      <td>NaN</td>\n",
       "      <td>27.8</td>\n",
       "      <td>30.6</td>\n",
       "      <td>9959.0</td>\n",
       "      <td>32.6</td>\n",
       "      <td>9412.0</td>\n",
       "    </tr>\n",
       "    <tr>\n",
       "      <th>2</th>\n",
       "      <td>2</td>\n",
       "      <td>GA Fulton 17-0149-0008-098-2</td>\n",
       "      <td>GA Fulton555 8th St</td>\n",
       "      <td>P3</td>\n",
       "      <td>4</td>\n",
       "      <td>Atlanta</td>\n",
       "      <td>GA</td>\n",
       "      <td>30318</td>\n",
       "      <td>Fulton</td>\n",
       "      <td>NaN</td>\n",
       "      <td>...</td>\n",
       "      <td>100.0</td>\n",
       "      <td>NaN</td>\n",
       "      <td>NaN</td>\n",
       "      <td>NaN</td>\n",
       "      <td>5.0</td>\n",
       "      <td>26.4</td>\n",
       "      <td>29.9</td>\n",
       "      <td>12088.0</td>\n",
       "      <td>31.8</td>\n",
       "      <td>11441.0</td>\n",
       "    </tr>\n",
       "  </tbody>\n",
       "</table>\n",
       "<p>3 rows × 57 columns</p>\n",
       "</div>"
      ],
      "text/plain": [
       "   index                         SCAPN                 SCSitus_NumNam PropID  \\\n",
       "0      0    GA Fulton 11-1000-0359-034  GA Fulton6215 Johns Creek Cmn     P1   \n",
       "1      1  GA Fulton 14-0112-0003-061-5            GA Fulton927 3rd St     P2   \n",
       "2      2  GA Fulton 17-0149-0008-098-2            GA Fulton555 8th St     P3   \n",
       "\n",
       "   Star_rating         City State        Zip  County For_sale_price  ...  \\\n",
       "0            4  Johns Creek    GA  300971535  Fulton            NaN  ...   \n",
       "1            4      Atlanta    GA      30318  Fulton            NaN  ...   \n",
       "2            4      Atlanta    GA      30318  Fulton            NaN  ...   \n",
       "\n",
       "  Num_4_bed  4_bed_rent_sqft  4_bed_avg_sqft  4_bed_concession_%  \\\n",
       "0       NaN              NaN             NaN                 NaN   \n",
       "1       NaN              NaN             NaN                 NaN   \n",
       "2     100.0              NaN             NaN                 NaN   \n",
       "\n",
       "   4_bed_vacancy_%  2010_Avg_age  2019_Avg_age  2019_Pop_25_39  2024_Avg_age  \\\n",
       "0              NaN          32.4          35.5          2956.0          37.1   \n",
       "1              NaN          27.8          30.6          9959.0          32.6   \n",
       "2              5.0          26.4          29.9         12088.0          31.8   \n",
       "\n",
       "  2024_Pop_25_39  \n",
       "0         3894.0  \n",
       "1         9412.0  \n",
       "2        11441.0  \n",
       "\n",
       "[3 rows x 57 columns]"
      ]
     },
     "execution_count": 40,
     "metadata": {},
     "output_type": "execute_result"
    }
   ],
   "source": [
    "georgia.head(3)"
   ]
  },
  {
   "cell_type": "code",
   "execution_count": 41,
   "metadata": {},
   "outputs": [],
   "source": [
    "georgia = georgia.drop(georgia.columns[0], axis = 1)"
   ]
  },
  {
   "cell_type": "code",
   "execution_count": 42,
   "metadata": {},
   "outputs": [
    {
     "data": {
      "text/plain": [
       "(2827, 56)"
      ]
     },
     "execution_count": 42,
     "metadata": {},
     "output_type": "execute_result"
    }
   ],
   "source": [
    "georgia.shape"
   ]
  },
  {
   "cell_type": "code",
   "execution_count": 103,
   "metadata": {},
   "outputs": [],
   "source": [
    "### North Carolina\n",
    "\n",
    "n_carolina = building[building.State.isin([\"NC\",\"NC \"])].reset_index()"
   ]
  },
  {
   "cell_type": "code",
   "execution_count": 104,
   "metadata": {},
   "outputs": [],
   "source": [
    "n_carolina = n_carolina.drop(n_carolina.columns[0], axis = 1)"
   ]
  },
  {
   "cell_type": "code",
   "execution_count": 105,
   "metadata": {},
   "outputs": [],
   "source": [
    "# Make all state value NC\n",
    "n_carolina.State = \"NC\""
   ]
  },
  {
   "cell_type": "code",
   "execution_count": 106,
   "metadata": {},
   "outputs": [
    {
     "data": {
      "text/plain": [
       "(2426, 56)"
      ]
     },
     "execution_count": 106,
     "metadata": {},
     "output_type": "execute_result"
    }
   ],
   "source": [
    "n_carolina.shape"
   ]
  },
  {
   "cell_type": "code",
   "execution_count": 97,
   "metadata": {},
   "outputs": [],
   "source": [
    "### Texas\n",
    "\n",
    "texas = building[building.State == \"TX\"].reset_index()"
   ]
  },
  {
   "cell_type": "code",
   "execution_count": 98,
   "metadata": {},
   "outputs": [],
   "source": [
    "texas = texas.drop(texas.columns[0], axis = 1)"
   ]
  },
  {
   "cell_type": "code",
   "execution_count": 99,
   "metadata": {},
   "outputs": [
    {
     "data": {
      "text/plain": [
       "(9795, 56)"
      ]
     },
     "execution_count": 99,
     "metadata": {},
     "output_type": "execute_result"
    }
   ],
   "source": [
    "texas.shape"
   ]
  },
  {
   "cell_type": "markdown",
   "metadata": {},
   "source": [
    "## Export Data into CSV"
   ]
  },
  {
   "cell_type": "code",
   "execution_count": 107,
   "metadata": {},
   "outputs": [],
   "source": [
    "florida.to_csv(\"Property_FL.csv\")"
   ]
  },
  {
   "cell_type": "code",
   "execution_count": 109,
   "metadata": {},
   "outputs": [],
   "source": [
    "georgia.to_csv(\"Property_GA.csv\")"
   ]
  },
  {
   "cell_type": "code",
   "execution_count": 110,
   "metadata": {},
   "outputs": [],
   "source": [
    "n_carolina.to_csv(\"Property_NC.csv\")"
   ]
  },
  {
   "cell_type": "code",
   "execution_count": 111,
   "metadata": {},
   "outputs": [],
   "source": [
    "texas.to_csv(\"Property_TX.csv\")"
   ]
  },
  {
   "cell_type": "markdown",
   "metadata": {},
   "source": [
    "## Clean the Sales Data File"
   ]
  },
  {
   "cell_type": "code",
   "execution_count": 4,
   "metadata": {},
   "outputs": [
    {
     "name": "stderr",
     "output_type": "stream",
     "text": [
      "/Users/jennyshang/anaconda3/lib/python3.7/site-packages/IPython/core/interactiveshell.py:3057: DtypeWarning: Columns (46,84,87,97,116,117,119,137,143,145,146,150) have mixed types. Specify dtype option on import or set low_memory=False.\n",
      "  interactivity=interactivity, compiler=compiler, result=result)\n"
     ]
    },
    {
     "data": {
      "text/html": [
       "<div>\n",
       "<style scoped>\n",
       "    .dataframe tbody tr th:only-of-type {\n",
       "        vertical-align: middle;\n",
       "    }\n",
       "\n",
       "    .dataframe tbody tr th {\n",
       "        vertical-align: top;\n",
       "    }\n",
       "\n",
       "    .dataframe thead th {\n",
       "        text-align: right;\n",
       "    }\n",
       "</style>\n",
       "<table border=\"1\" class=\"dataframe\">\n",
       "  <thead>\n",
       "    <tr style=\"text-align: right;\">\n",
       "      <th></th>\n",
       "      <th>Record</th>\n",
       "      <th>SID</th>\n",
       "      <th>SCP</th>\n",
       "      <th>SCSitus_NumNam</th>\n",
       "      <th>SCAPN</th>\n",
       "      <th>Actual Cap Rate</th>\n",
       "      <th>Age</th>\n",
       "      <th>Asking Price</th>\n",
       "      <th>Assessed Improved</th>\n",
       "      <th>Assessed Land</th>\n",
       "      <th>...</th>\n",
       "      <th>Title Company</th>\n",
       "      <th>Total Expense Amount</th>\n",
       "      <th>Transaction Notes</th>\n",
       "      <th>Transfer Tax</th>\n",
       "      <th>Two Bedroom Mix</th>\n",
       "      <th>Typ Flr (SF)</th>\n",
       "      <th>Units Per Acre</th>\n",
       "      <th>Vacancy</th>\n",
       "      <th>Year Built</th>\n",
       "      <th>Zoning</th>\n",
       "    </tr>\n",
       "  </thead>\n",
       "  <tbody>\n",
       "    <tr>\n",
       "      <th>0</th>\n",
       "      <td>1</td>\n",
       "      <td>S1</td>\n",
       "      <td>FL Hillsborough Discovery Village At Tampa Palms</td>\n",
       "      <td>FL Hillsborough 17470 Brookside Trace Ct</td>\n",
       "      <td>FL Hillsborough S1</td>\n",
       "      <td>NaN</td>\n",
       "      <td>2.0</td>\n",
       "      <td>NaN</td>\n",
       "      <td>NaN</td>\n",
       "      <td>NaN</td>\n",
       "      <td>...</td>\n",
       "      <td>NaN</td>\n",
       "      <td>NaN</td>\n",
       "      <td>On April 1st, 2019, this 1,242 Unit Senior Liv...</td>\n",
       "      <td>NaN</td>\n",
       "      <td>15(2 + 2)</td>\n",
       "      <td>NaN</td>\n",
       "      <td>NaN</td>\n",
       "      <td>21.9</td>\n",
       "      <td>2017.0</td>\n",
       "      <td>PD-A</td>\n",
       "    </tr>\n",
       "    <tr>\n",
       "      <th>1</th>\n",
       "      <td>2</td>\n",
       "      <td>S2</td>\n",
       "      <td>FL Leon Stadium Centre - The Edge</td>\n",
       "      <td>FL Leon 705 Madison St</td>\n",
       "      <td>FL Leon 21-36-90-118-955.0</td>\n",
       "      <td>NaN</td>\n",
       "      <td>1.0</td>\n",
       "      <td>42600000.0</td>\n",
       "      <td>0.0</td>\n",
       "      <td>1646565.0</td>\n",
       "      <td>...</td>\n",
       "      <td>Attorney Only</td>\n",
       "      <td>NaN</td>\n",
       "      <td>On or around August 2, 2018, Bee Cave, TX-base...</td>\n",
       "      <td>276500.0</td>\n",
       "      <td>17(2 + 2)</td>\n",
       "      <td>48465.0</td>\n",
       "      <td>NaN</td>\n",
       "      <td>NaN</td>\n",
       "      <td>2018.0</td>\n",
       "      <td>NaN</td>\n",
       "    </tr>\n",
       "  </tbody>\n",
       "</table>\n",
       "<p>2 rows × 200 columns</p>\n",
       "</div>"
      ],
      "text/plain": [
       "   Record SID                                               SCP  \\\n",
       "0       1  S1  FL Hillsborough Discovery Village At Tampa Palms   \n",
       "1       2  S2                 FL Leon Stadium Centre - The Edge   \n",
       "\n",
       "                             SCSitus_NumNam                       SCAPN  \\\n",
       "0  FL Hillsborough 17470 Brookside Trace Ct          FL Hillsborough S1   \n",
       "1                    FL Leon 705 Madison St  FL Leon 21-36-90-118-955.0   \n",
       "\n",
       "   Actual Cap Rate  Age  Asking Price  Assessed Improved  Assessed Land  ...  \\\n",
       "0              NaN  2.0           NaN                NaN            NaN  ...   \n",
       "1              NaN  1.0    42600000.0                0.0      1646565.0  ...   \n",
       "\n",
       "   Title Company  Total Expense Amount  \\\n",
       "0            NaN                   NaN   \n",
       "1  Attorney Only                   NaN   \n",
       "\n",
       "                                   Transaction Notes Transfer Tax  \\\n",
       "0  On April 1st, 2019, this 1,242 Unit Senior Liv...          NaN   \n",
       "1  On or around August 2, 2018, Bee Cave, TX-base...     276500.0   \n",
       "\n",
       "  Two Bedroom Mix Typ Flr (SF) Units Per Acre Vacancy Year Built Zoning  \n",
       "0       15(2 + 2)          NaN            NaN    21.9     2017.0   PD-A  \n",
       "1       17(2 + 2)      48465.0            NaN     NaN     2018.0    NaN  \n",
       "\n",
       "[2 rows x 200 columns]"
      ]
     },
     "execution_count": 4,
     "metadata": {},
     "output_type": "execute_result"
    }
   ],
   "source": [
    "data = pd.read_csv(\"Sales_Data.csv\")\n",
    "data.head(2)"
   ]
  },
  {
   "cell_type": "code",
   "execution_count": 5,
   "metadata": {},
   "outputs": [
    {
     "data": {
      "text/plain": [
       "(24527, 200)"
      ]
     },
     "execution_count": 5,
     "metadata": {},
     "output_type": "execute_result"
    }
   ],
   "source": [
    "data.shape"
   ]
  },
  {
   "cell_type": "code",
   "execution_count": 8,
   "metadata": {},
   "outputs": [],
   "source": [
    "## Add in necessary columns\n",
    "sales = pd.DataFrame()"
   ]
  },
  {
   "cell_type": "code",
   "execution_count": 9,
   "metadata": {},
   "outputs": [],
   "source": [
    "sales[\"SID\"] = data.SID\n",
    "sales[\"SCAPN\"] = data.SCAPN\n",
    "sales[\"SCSitus_NumNam\"] = data[\"SCSitus_NumNam\"]\n",
    "sales[\"Building_age\"] = data.Age\n",
    "sales[\"Cap_rate_pro_forma\"] = data[\"Pro Forma Cap Rate\"]\n",
    "sales[\"Cap_rate_actual\"] = data[\"Actual Cap Rate\"]\n",
    "\n",
    "sales[\"Land_value\"] = data[\"Assessed Land\"]\n",
    "sales[\"Total_value\"] = data[\"Assessed Value\"]\n",
    "sales[\"Assessed_yr\"] = data[\"Assessed Year\"]\n",
    "sales[\"Floor_area_ratio\"] = data[\"Floor Area Ratio\"]\n",
    "sales[\"Num_floors\"] = data[\"Number Of Floors\"]\n",
    "sales[\"Price_per_sqft\"] = data[\"Price Per SF\"]\n",
    "sales[\"Land_price_per_AC\"] = data[\"Price Per AC Land\"]\n",
    "\n",
    "sales[\"Sale_date\"] = data[\"Sale Date\"]\n",
    "sales[\"Sale_price\"] = data[\"Sale Price\"]\n",
    "sales[\"Listing_broker_company\"] = data[\"Listing Broker Company\"]\n"
   ]
  },
  {
   "cell_type": "code",
   "execution_count": 10,
   "metadata": {},
   "outputs": [
    {
     "data": {
      "text/html": [
       "<div>\n",
       "<style scoped>\n",
       "    .dataframe tbody tr th:only-of-type {\n",
       "        vertical-align: middle;\n",
       "    }\n",
       "\n",
       "    .dataframe tbody tr th {\n",
       "        vertical-align: top;\n",
       "    }\n",
       "\n",
       "    .dataframe thead th {\n",
       "        text-align: right;\n",
       "    }\n",
       "</style>\n",
       "<table border=\"1\" class=\"dataframe\">\n",
       "  <thead>\n",
       "    <tr style=\"text-align: right;\">\n",
       "      <th></th>\n",
       "      <th>SID</th>\n",
       "      <th>SCAPN</th>\n",
       "      <th>SCSitus_NumNam</th>\n",
       "      <th>Building_age</th>\n",
       "      <th>Cap_rate_pro_forma</th>\n",
       "      <th>Cap_rate_actual</th>\n",
       "      <th>Land_value</th>\n",
       "      <th>Total_value</th>\n",
       "      <th>Assessed_yr</th>\n",
       "      <th>Floor_area_ratio</th>\n",
       "      <th>Num_floors</th>\n",
       "      <th>Price_per_sqft</th>\n",
       "      <th>Land_price_per_AC</th>\n",
       "      <th>Sale_date</th>\n",
       "      <th>Sale_price</th>\n",
       "      <th>Listing_broker_company</th>\n",
       "    </tr>\n",
       "  </thead>\n",
       "  <tbody>\n",
       "    <tr>\n",
       "      <th>0</th>\n",
       "      <td>S1</td>\n",
       "      <td>FL Hillsborough S1</td>\n",
       "      <td>FL Hillsborough 17470 Brookside Trace Ct</td>\n",
       "      <td>2.0</td>\n",
       "      <td>NaN</td>\n",
       "      <td>NaN</td>\n",
       "      <td>NaN</td>\n",
       "      <td>NaN</td>\n",
       "      <td>NaN</td>\n",
       "      <td>1.049861</td>\n",
       "      <td>NaN</td>\n",
       "      <td>332.02</td>\n",
       "      <td>15183761.28</td>\n",
       "      <td>4/1/19</td>\n",
       "      <td>49802737.0</td>\n",
       "      <td>Newmark Knight Frank</td>\n",
       "    </tr>\n",
       "    <tr>\n",
       "      <th>1</th>\n",
       "      <td>S2</td>\n",
       "      <td>FL Leon 21-36-90-118-955.0</td>\n",
       "      <td>FL Leon 705 Madison St</td>\n",
       "      <td>1.0</td>\n",
       "      <td>NaN</td>\n",
       "      <td>NaN</td>\n",
       "      <td>1646565.0</td>\n",
       "      <td>1646565.0</td>\n",
       "      <td>2017.0</td>\n",
       "      <td>2.981571</td>\n",
       "      <td>5.0</td>\n",
       "      <td>120.69</td>\n",
       "      <td>15674603.17</td>\n",
       "      <td>8/1/18</td>\n",
       "      <td>39500000.0</td>\n",
       "      <td>NaN</td>\n",
       "    </tr>\n",
       "  </tbody>\n",
       "</table>\n",
       "</div>"
      ],
      "text/plain": [
       "  SID                       SCAPN                            SCSitus_NumNam  \\\n",
       "0  S1          FL Hillsborough S1  FL Hillsborough 17470 Brookside Trace Ct   \n",
       "1  S2  FL Leon 21-36-90-118-955.0                    FL Leon 705 Madison St   \n",
       "\n",
       "   Building_age  Cap_rate_pro_forma  Cap_rate_actual  Land_value  Total_value  \\\n",
       "0           2.0                 NaN              NaN         NaN          NaN   \n",
       "1           1.0                 NaN              NaN   1646565.0    1646565.0   \n",
       "\n",
       "   Assessed_yr  Floor_area_ratio  Num_floors  Price_per_sqft  \\\n",
       "0          NaN          1.049861         NaN          332.02   \n",
       "1       2017.0          2.981571         5.0          120.69   \n",
       "\n",
       "   Land_price_per_AC Sale_date  Sale_price Listing_broker_company  \n",
       "0        15183761.28    4/1/19  49802737.0   Newmark Knight Frank  \n",
       "1        15674603.17    8/1/18  39500000.0                    NaN  "
      ]
     },
     "execution_count": 10,
     "metadata": {},
     "output_type": "execute_result"
    }
   ],
   "source": [
    "sales.head(2)"
   ]
  },
  {
   "cell_type": "code",
   "execution_count": 11,
   "metadata": {},
   "outputs": [
    {
     "data": {
      "text/plain": [
       "(24527, 16)"
      ]
     },
     "execution_count": 11,
     "metadata": {},
     "output_type": "execute_result"
    }
   ],
   "source": [
    "sales.shape"
   ]
  },
  {
   "cell_type": "code",
   "execution_count": 7,
   "metadata": {},
   "outputs": [],
   "source": [
    "sales.to_csv(\"Sales_data_cleaned.csv\")"
   ]
  }
 ],
 "metadata": {
  "kernelspec": {
   "display_name": "Python 3",
   "language": "python",
   "name": "python3"
  },
  "language_info": {
   "codemirror_mode": {
    "name": "ipython",
    "version": 3
   },
   "file_extension": ".py",
   "mimetype": "text/x-python",
   "name": "python",
   "nbconvert_exporter": "python",
   "pygments_lexer": "ipython3",
   "version": "3.7.3"
  }
 },
 "nbformat": 4,
 "nbformat_minor": 2
}
