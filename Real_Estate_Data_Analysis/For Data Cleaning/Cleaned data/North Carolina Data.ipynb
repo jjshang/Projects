{
 "cells": [
  {
   "cell_type": "code",
   "execution_count": 14,
   "metadata": {},
   "outputs": [],
   "source": [
    "import numpy as np\n",
    "import pandas as pd\n",
    "import matplotlib.pyplot as plt\n",
    "import seaborn as sns"
   ]
  },
  {
   "cell_type": "code",
   "execution_count": 15,
   "metadata": {},
   "outputs": [],
   "source": [
    "carolina = pd.read_csv(\"North_Carolina_all_data.csv\", index_col = 0)"
   ]
  },
  {
   "cell_type": "code",
   "execution_count": 16,
   "metadata": {},
   "outputs": [
    {
     "data": {
      "text/plain": [
       "(2871, 72)"
      ]
     },
     "execution_count": 16,
     "metadata": {},
     "output_type": "execute_result"
    }
   ],
   "source": [
    "carolina.shape"
   ]
  },
  {
   "cell_type": "code",
   "execution_count": 17,
   "metadata": {},
   "outputs": [
    {
     "data": {
      "text/plain": [
       "Index(['Unnamed: 0_x', 'SCAPN', 'SCSitus_NumNam_x', 'PropID', 'Star_rating',\n",
       "       'City', 'State', 'Zip', 'County', 'For_sale_price', 'For_sale_status',\n",
       "       'Land_area', 'Num_units', 'Cap_rate', 'Vacancy_%', 'Avg_unit_sqft',\n",
       "       'Avg_Concession_%', 'Parking_per_unit', 'Days_on_mkt', 'Amenities',\n",
       "       'Year_built', 'Year_reno', 'Last_sale_date', 'Last_sale_price',\n",
       "       'Transit_dist_mile', 'Transit_walk_time_min', 'Const_material',\n",
       "       'Num_studio', 'Studio_rent_sqft', 'Studio_avg_sqft',\n",
       "       'Studio_concession_%', 'Studio_vacancy_%', 'Num_1_bed',\n",
       "       '1_bed_rent_sqft', '1_bed_avg_sqft', '1_bed_concession_%',\n",
       "       '1_bed_vacancy_%', 'Num_2_bed', '2_bed_rent_sqft', '2_bed_avg_sqft',\n",
       "       '2_bed_concession_%', '2_bed_vacancy_%', 'Num_3_bed', '3_bed_rent_sqft',\n",
       "       '3_bed_avg_sqft', '3_bed_concession_%', '3_bed_vacancy_%', 'Num_4_bed',\n",
       "       '4_bed_rent_sqft', '4_bed_avg_sqft', '4_bed_concession_%',\n",
       "       '4_bed_vacancy_%', '2010_Avg_age', '2019_Avg_age', '2019_Pop_25_39',\n",
       "       '2024_Avg_age', '2024_Pop_25_39', 'Unnamed: 0_y', 'SID',\n",
       "       'SCSitus_NumNam_y', 'Building_age', 'Cap_rate_pro_forma',\n",
       "       'Cap_rate_actual', 'Land_value', 'Total_value', 'Assessed_yr',\n",
       "       'Floor_area_ratio', 'Num_floors', 'Price_per_sqft', 'Land_price_per_AC',\n",
       "       'Sale_date', 'Sale_price'],\n",
       "      dtype='object')"
      ]
     },
     "execution_count": 17,
     "metadata": {},
     "output_type": "execute_result"
    }
   ],
   "source": [
    "carolina.columns.unique()"
   ]
  },
  {
   "cell_type": "code",
   "execution_count": 18,
   "metadata": {},
   "outputs": [],
   "source": [
    "## Convert columns to proper format\n",
    "carolina.Last_sale_date = pd.to_datetime(carolina.Last_sale_date)\n",
    "carolina.Sale_date = pd.to_datetime(carolina.Sale_date)\n",
    "carolina['Vacancy_%'] = carolina['Vacancy_%']/100\n",
    "carolina.Cap_rate = carolina.Cap_rate / 100\n",
    "carolina[\"Avg_Concession_%\"] =carolina[\"Avg_Concession_%\"]/100\n",
    "carolina[\"Cap_rate_pro_forma\"] = carolina[\"Cap_rate_pro_forma\"]/100\n",
    "carolina[\"Cap_rate_actual\"] = carolina[\"Cap_rate_actual\"]/100\n",
    "carolina[\"Last_sale_price\"] = carolina[\"Last_sale_price\"].str.replace(\",\", \"\")\n",
    "\n",
    "\n",
    "carolina[\"Studio_concession_%\"] = carolina[\"Studio_concession_%\"]/100\n",
    "carolina[\"Studio_vacancy_%\"] = carolina[\"Studio_vacancy_%\"]/100\n",
    "carolina[\"1_bed_concession_%\"] = carolina[\"1_bed_concession_%\"]/100\n",
    "carolina[\"1_bed_vacancy_%\"] = carolina[\"1_bed_vacancy_%\"]/100\n",
    "carolina[\"2_bed_concession_%\"] = carolina[\"2_bed_concession_%\"]/100\n",
    "carolina[\"2_bed_vacancy_%\"] = carolina[\"2_bed_vacancy_%\"]/100\n",
    "carolina[\"3_bed_concession_%\"] = carolina[\"3_bed_concession_%\"]/100\n",
    "carolina[\"3_bed_vacancy_%\"] = carolina[\"3_bed_vacancy_%\"]/100\n",
    "carolina[\"4_bed_concession_%\"] = carolina[\"4_bed_concession_%\"]/100\n",
    "carolina[\"4_bed_vacancy_%\"] = carolina[\"4_bed_vacancy_%\"]/100"
   ]
  },
  {
   "cell_type": "markdown",
   "metadata": {},
   "source": [
    "## To Calculate NOI, we need Sales Price, Cap rate, Land value, Concession, Vacancy%"
   ]
  },
  {
   "cell_type": "code",
   "execution_count": 19,
   "metadata": {},
   "outputs": [],
   "source": [
    "## Create a final Price column\n",
    "carolina[\"Price\"] = carolina.Sale_price"
   ]
  },
  {
   "cell_type": "code",
   "execution_count": 20,
   "metadata": {},
   "outputs": [],
   "source": [
    "### Fill in the null value with approximates\n",
    "carolina[\"Price\"].fillna(carolina[\"Last_sale_price\"], inplace = True)\n",
    "carolina.Price.fillna((carolina[\"Total_value\"]), inplace = True)"
   ]
  },
  {
   "cell_type": "code",
   "execution_count": 21,
   "metadata": {},
   "outputs": [],
   "source": [
    "## Remove entries with null sales price\n",
    "carolina = carolina.dropna(subset = [\"Price\"]).reset_index()"
   ]
  },
  {
   "cell_type": "code",
   "execution_count": 22,
   "metadata": {},
   "outputs": [
    {
     "data": {
      "text/html": [
       "<div>\n",
       "<style scoped>\n",
       "    .dataframe tbody tr th:only-of-type {\n",
       "        vertical-align: middle;\n",
       "    }\n",
       "\n",
       "    .dataframe tbody tr th {\n",
       "        vertical-align: top;\n",
       "    }\n",
       "\n",
       "    .dataframe thead th {\n",
       "        text-align: right;\n",
       "    }\n",
       "</style>\n",
       "<table border=\"1\" class=\"dataframe\">\n",
       "  <thead>\n",
       "    <tr style=\"text-align: right;\">\n",
       "      <th></th>\n",
       "      <th>Unnamed: 0_x</th>\n",
       "      <th>SCAPN</th>\n",
       "      <th>SCSitus_NumNam_x</th>\n",
       "      <th>PropID</th>\n",
       "      <th>Star_rating</th>\n",
       "      <th>City</th>\n",
       "      <th>State</th>\n",
       "      <th>Zip</th>\n",
       "      <th>County</th>\n",
       "      <th>For_sale_price</th>\n",
       "      <th>...</th>\n",
       "      <th>Land_value</th>\n",
       "      <th>Total_value</th>\n",
       "      <th>Assessed_yr</th>\n",
       "      <th>Floor_area_ratio</th>\n",
       "      <th>Num_floors</th>\n",
       "      <th>Price_per_sqft</th>\n",
       "      <th>Land_price_per_AC</th>\n",
       "      <th>Sale_date</th>\n",
       "      <th>Sale_price</th>\n",
       "      <th>Price</th>\n",
       "    </tr>\n",
       "  </thead>\n",
       "  <tbody>\n",
       "    <tr>\n",
       "      <th>0</th>\n",
       "      <td>2</td>\n",
       "      <td>NC Forsyth 6835-56-7348</td>\n",
       "      <td>NC Forsyth980 2nd St</td>\n",
       "      <td>P8145</td>\n",
       "      <td>2</td>\n",
       "      <td>Winston Salem</td>\n",
       "      <td>NC</td>\n",
       "      <td>271014416</td>\n",
       "      <td>Forsyth</td>\n",
       "      <td>NaN</td>\n",
       "      <td>...</td>\n",
       "      <td>282900.0</td>\n",
       "      <td>2744900.0</td>\n",
       "      <td>2019.0</td>\n",
       "      <td>0.175243</td>\n",
       "      <td>2.0</td>\n",
       "      <td>44.18</td>\n",
       "      <td>337265.79</td>\n",
       "      <td>1970-01-01 00:00:00.000043644</td>\n",
       "      <td>4860000.0</td>\n",
       "      <td>4.86e+06</td>\n",
       "    </tr>\n",
       "    <tr>\n",
       "      <th>1</th>\n",
       "      <td>6</td>\n",
       "      <td>NC Mecklenburg 078-062-01</td>\n",
       "      <td>NC Mecklenburg517 8th St</td>\n",
       "      <td>P8149</td>\n",
       "      <td>3</td>\n",
       "      <td>Charlotte</td>\n",
       "      <td>NC</td>\n",
       "      <td>28202</td>\n",
       "      <td>Mecklenburg</td>\n",
       "      <td>NaN</td>\n",
       "      <td>...</td>\n",
       "      <td>9374983.0</td>\n",
       "      <td>11160000.0</td>\n",
       "      <td>2013.0</td>\n",
       "      <td>0.725003</td>\n",
       "      <td>3.0</td>\n",
       "      <td>182.58</td>\n",
       "      <td>5766016.71</td>\n",
       "      <td>1970-01-01 00:00:00.000042034</td>\n",
       "      <td>20700000.0</td>\n",
       "      <td>2.07e+07</td>\n",
       "    </tr>\n",
       "    <tr>\n",
       "      <th>2</th>\n",
       "      <td>6</td>\n",
       "      <td>NC Mecklenburg 078-062-01</td>\n",
       "      <td>NC Mecklenburg517 8th St</td>\n",
       "      <td>P8149</td>\n",
       "      <td>3</td>\n",
       "      <td>Charlotte</td>\n",
       "      <td>NC</td>\n",
       "      <td>28202</td>\n",
       "      <td>Mecklenburg</td>\n",
       "      <td>NaN</td>\n",
       "      <td>...</td>\n",
       "      <td>0.0</td>\n",
       "      <td>16946200.0</td>\n",
       "      <td>2011.0</td>\n",
       "      <td>0.725003</td>\n",
       "      <td>3.0</td>\n",
       "      <td>142.45</td>\n",
       "      <td>4498607.24</td>\n",
       "      <td>1970-01-01 00:00:00.000041060</td>\n",
       "      <td>16150000.0</td>\n",
       "      <td>1.615e+07</td>\n",
       "    </tr>\n",
       "    <tr>\n",
       "      <th>3</th>\n",
       "      <td>9</td>\n",
       "      <td>NC Catawba 2793129644110000</td>\n",
       "      <td>NC Catawba1227 10th Street Blvd</td>\n",
       "      <td>P8152</td>\n",
       "      <td>3</td>\n",
       "      <td>Hickory</td>\n",
       "      <td>NC</td>\n",
       "      <td>286012367</td>\n",
       "      <td>Catawba</td>\n",
       "      <td>NaN</td>\n",
       "      <td>...</td>\n",
       "      <td>534000.0</td>\n",
       "      <td>4985900.0</td>\n",
       "      <td>2007.0</td>\n",
       "      <td>0.271709</td>\n",
       "      <td>3.0</td>\n",
       "      <td>56.45</td>\n",
       "      <td>668080.59</td>\n",
       "      <td>1970-01-01 00:00:00.000039595</td>\n",
       "      <td>6300000.0</td>\n",
       "      <td>6.3e+06</td>\n",
       "    </tr>\n",
       "    <tr>\n",
       "      <th>4</th>\n",
       "      <td>9</td>\n",
       "      <td>NC Catawba 2793129644110000</td>\n",
       "      <td>NC Catawba1227 10th Street Blvd</td>\n",
       "      <td>P8152</td>\n",
       "      <td>3</td>\n",
       "      <td>Hickory</td>\n",
       "      <td>NC</td>\n",
       "      <td>286012367</td>\n",
       "      <td>Catawba</td>\n",
       "      <td>NaN</td>\n",
       "      <td>...</td>\n",
       "      <td>0.0</td>\n",
       "      <td>5117100.0</td>\n",
       "      <td>2011.0</td>\n",
       "      <td>0.271709</td>\n",
       "      <td>3.0</td>\n",
       "      <td>53.13</td>\n",
       "      <td>628844.11</td>\n",
       "      <td>1970-01-01 00:00:00.000041099</td>\n",
       "      <td>5930000.0</td>\n",
       "      <td>5.93e+06</td>\n",
       "    </tr>\n",
       "  </tbody>\n",
       "</table>\n",
       "<p>5 rows × 73 columns</p>\n",
       "</div>"
      ],
      "text/plain": [
       "   Unnamed: 0_x                        SCAPN                 SCSitus_NumNam_x  \\\n",
       "0             2      NC Forsyth 6835-56-7348             NC Forsyth980 2nd St   \n",
       "1             6    NC Mecklenburg 078-062-01         NC Mecklenburg517 8th St   \n",
       "2             6    NC Mecklenburg 078-062-01         NC Mecklenburg517 8th St   \n",
       "3             9  NC Catawba 2793129644110000  NC Catawba1227 10th Street Blvd   \n",
       "4             9  NC Catawba 2793129644110000  NC Catawba1227 10th Street Blvd   \n",
       "\n",
       "  PropID  Star_rating           City State        Zip       County  \\\n",
       "0  P8145            2  Winston Salem    NC  271014416      Forsyth   \n",
       "1  P8149            3      Charlotte    NC      28202  Mecklenburg   \n",
       "2  P8149            3      Charlotte    NC      28202  Mecklenburg   \n",
       "3  P8152            3        Hickory    NC  286012367      Catawba   \n",
       "4  P8152            3        Hickory    NC  286012367      Catawba   \n",
       "\n",
       "   For_sale_price  ... Land_value  Total_value  Assessed_yr  Floor_area_ratio  \\\n",
       "0             NaN  ...   282900.0    2744900.0       2019.0          0.175243   \n",
       "1             NaN  ...  9374983.0   11160000.0       2013.0          0.725003   \n",
       "2             NaN  ...        0.0   16946200.0       2011.0          0.725003   \n",
       "3             NaN  ...   534000.0    4985900.0       2007.0          0.271709   \n",
       "4             NaN  ...        0.0    5117100.0       2011.0          0.271709   \n",
       "\n",
       "   Num_floors  Price_per_sqft  Land_price_per_AC  \\\n",
       "0         2.0           44.18          337265.79   \n",
       "1         3.0          182.58         5766016.71   \n",
       "2         3.0          142.45         4498607.24   \n",
       "3         3.0           56.45          668080.59   \n",
       "4         3.0           53.13          628844.11   \n",
       "\n",
       "                      Sale_date  Sale_price      Price  \n",
       "0 1970-01-01 00:00:00.000043644   4860000.0   4.86e+06  \n",
       "1 1970-01-01 00:00:00.000042034  20700000.0   2.07e+07  \n",
       "2 1970-01-01 00:00:00.000041060  16150000.0  1.615e+07  \n",
       "3 1970-01-01 00:00:00.000039595   6300000.0    6.3e+06  \n",
       "4 1970-01-01 00:00:00.000041099   5930000.0   5.93e+06  \n",
       "\n",
       "[5 rows x 73 columns]"
      ]
     },
     "execution_count": 22,
     "metadata": {},
     "output_type": "execute_result"
    }
   ],
   "source": [
    "carolina = carolina.drop(carolina.columns[0], axis = 1)\n",
    "carolina.head()"
   ]
  },
  {
   "cell_type": "code",
   "execution_count": 23,
   "metadata": {
    "scrolled": true
   },
   "outputs": [
    {
     "data": {
      "text/plain": [
       "(1595, 73)"
      ]
     },
     "execution_count": 23,
     "metadata": {},
     "output_type": "execute_result"
    }
   ],
   "source": [
    "carolina.shape"
   ]
  },
  {
   "cell_type": "code",
   "execution_count": 24,
   "metadata": {},
   "outputs": [],
   "source": [
    "### In the case of no approximates, use average cap rate for city\n",
    "\n",
    "avg_cap_rate = carolina.groupby(\"State\")[\"Cap_rate\"].mean()"
   ]
  },
  {
   "cell_type": "code",
   "execution_count": 25,
   "metadata": {},
   "outputs": [
    {
     "data": {
      "text/plain": [
       "State\n",
       "NC   NaN\n",
       "Name: Cap_rate, dtype: float64"
      ]
     },
     "execution_count": 25,
     "metadata": {},
     "output_type": "execute_result"
    }
   ],
   "source": [
    "avg_cap_rate"
   ]
  },
  {
   "cell_type": "code",
   "execution_count": 27,
   "metadata": {},
   "outputs": [],
   "source": [
    "## Create general cap rate column and fill in the null value with approximates\n",
    "\n",
    "carolina.Cap_rate.fillna(carolina[\"Cap_rate_actual\"], inplace = True)\n",
    "carolina.Cap_rate.fillna(carolina[\"Cap_rate_pro_forma\"], inplace = True)"
   ]
  },
  {
   "cell_type": "code",
   "execution_count": 28,
   "metadata": {},
   "outputs": [],
   "source": [
    "avg_cap_rate = carolina.groupby(\"State\")[\"Cap_rate\"].mean()"
   ]
  },
  {
   "cell_type": "code",
   "execution_count": 29,
   "metadata": {},
   "outputs": [
    {
     "data": {
      "text/plain": [
       "State\n",
       "NC    0.061366\n",
       "Name: Cap_rate, dtype: float64"
      ]
     },
     "execution_count": 29,
     "metadata": {},
     "output_type": "execute_result"
    }
   ],
   "source": [
    "avg_cap_rate"
   ]
  },
  {
   "cell_type": "code",
   "execution_count": 30,
   "metadata": {},
   "outputs": [],
   "source": [
    "carolina.Cap_rate.fillna(avg_cap_rate[0], inplace = True)"
   ]
  },
  {
   "cell_type": "code",
   "execution_count": 31,
   "metadata": {},
   "outputs": [],
   "source": [
    "## Remove entry with null cap rate\n",
    "carolina = carolina.dropna(subset = [\"Cap_rate\"])"
   ]
  },
  {
   "cell_type": "code",
   "execution_count": 33,
   "metadata": {},
   "outputs": [
    {
     "data": {
      "text/plain": [
       "(1595, 73)"
      ]
     },
     "execution_count": 33,
     "metadata": {},
     "output_type": "execute_result"
    }
   ],
   "source": [
    "carolina.shape"
   ]
  },
  {
   "cell_type": "code",
   "execution_count": 34,
   "metadata": {},
   "outputs": [
    {
     "data": {
      "text/plain": [
       "County\n",
       "Alamance       1.318339e+06\n",
       "Brunswick      1.630720e+06\n",
       "Buncombe       2.360315e+06\n",
       "Burke                   NaN\n",
       "Cabarrus       1.171208e+06\n",
       "Carteret       4.870680e+06\n",
       "Catawba        6.615214e+05\n",
       "Cleveland      1.026590e+05\n",
       "Craven                  NaN\n",
       "Cumberland     1.016375e+06\n",
       "Davidson       4.516483e+05\n",
       "Durham         2.847550e+06\n",
       "Edgecombe      2.889000e+05\n",
       "Forsyth        9.313697e+05\n",
       "Gaston         7.118383e+05\n",
       "Guilford       1.024492e+06\n",
       "Harnett        1.228000e+05\n",
       "Henderson      1.233250e+06\n",
       "Hoke           6.359400e+05\n",
       "Iredell        9.892283e+05\n",
       "Jackson        1.763910e+06\n",
       "Johnston                NaN\n",
       "Lee            6.348667e+05\n",
       "Lenoir                  NaN\n",
       "Lincoln        6.072300e+05\n",
       "Mecklenburg    2.072367e+06\n",
       "Moore          8.310000e+05\n",
       "Nash           1.197750e+06\n",
       "New Hanover    5.150739e+06\n",
       "Onslow         2.322979e+06\n",
       "Orange         2.971829e+06\n",
       "Pasquotank     0.000000e+00\n",
       "Pitt           9.450920e+05\n",
       "Randolph       9.298200e+05\n",
       "Robeson        1.207233e+06\n",
       "Rockingham     1.676250e+05\n",
       "Rowan          3.966625e+05\n",
       "Scotland                NaN\n",
       "Union          1.276967e+06\n",
       "Wake           2.894699e+06\n",
       "Watauga        1.630240e+06\n",
       "Wayne          4.276000e+05\n",
       "Wilson         1.850580e+05\n",
       "Name: Land_value, dtype: float64"
      ]
     },
     "execution_count": 34,
     "metadata": {},
     "output_type": "execute_result"
    }
   ],
   "source": [
    "## Generate general Land value \n",
    "avg_land_value = carolina.groupby(\"County\")[\"Land_value\"].mean()\n",
    "avg_land_value"
   ]
  },
  {
   "cell_type": "code",
   "execution_count": 35,
   "metadata": {},
   "outputs": [
    {
     "data": {
      "text/plain": [
       "array(['Forsyth', 'Mecklenburg', 'Catawba', 'Durham', 'Lincoln',\n",
       "       'Harnett', 'Lee', 'Davidson', 'Cumberland', 'Guilford', 'Alamance',\n",
       "       'Wayne', 'Gaston', 'Brunswick', 'Wake', 'Union', 'Onslow',\n",
       "       'Buncombe', 'Pitt', 'Cabarrus', 'Orange', 'Cleveland', 'Henderson',\n",
       "       'Robeson', 'Scotland', 'Burke', 'Randolph', 'New Hanover',\n",
       "       'Watauga', 'Iredell', 'Wilson', 'Rowan', 'Craven', 'Moore',\n",
       "       'Rockingham', 'Edgecombe', 'Lenoir', 'Johnston', 'Nash',\n",
       "       'Pasquotank', 'Jackson', 'Carteret', 'Hoke'], dtype=object)"
      ]
     },
     "execution_count": 35,
     "metadata": {},
     "output_type": "execute_result"
    }
   ],
   "source": [
    "county = carolina.County.unique()\n",
    "county"
   ]
  },
  {
   "cell_type": "code",
   "execution_count": 36,
   "metadata": {},
   "outputs": [],
   "source": [
    "for i in county:\n",
    "    carolina.loc[carolina['Land_value'].isnull() & (carolina.County == i), 'Land_value'] = avg_land_value[i]\n",
    "    carolina.loc[(carolina['Land_value'] == 0) & (carolina.County == i), 'Land_value'] = avg_land_value[i]\n",
    "\n",
    "carolina.loc[carolina['Land_value'].isnull() & (carolina.County == \"Burke\"), 'Land_value'] = avg_land_value.mean()\n",
    "carolina.loc[carolina['Land_value'].isnull() & (carolina.County == \"Craven\"), 'Land_value'] = avg_land_value.mean()\n",
    "carolina.loc[carolina['Land_value'].isnull() & (carolina.County == \"Johnston\"), 'Land_value'] = avg_land_value.mean()\n",
    "carolina.loc[carolina['Land_value'].isnull() & (carolina.County == \"Lenoir\"), 'Land_value'] = avg_land_value.mean()\n",
    "carolina.loc[carolina['Land_value'].isnull() & (carolina.County == \"Scotland\"), 'Land_value'] = avg_land_value.mean()"
   ]
  },
  {
   "cell_type": "code",
   "execution_count": 37,
   "metadata": {},
   "outputs": [
    {
     "data": {
      "image/png": "[encoded data removed]",
      "text/plain": [
       "<Figure size 432x288 with 1 Axes>"
      ]
     },
     "metadata": {
      "needs_background": "light"
     },
     "output_type": "display_data"
    }
   ],
   "source": [
    "plt.figure()\n",
    "\n",
    "plt.boxplot(carolina[\"Land_value\"])\n",
    "\n",
    "plt.show()"
   ]
  },
  {
   "cell_type": "code",
   "execution_count": 38,
   "metadata": {
    "scrolled": true
   },
   "outputs": [],
   "source": [
    "## Concession % - Assuming it's a percentage of sales price\n",
    "\n",
    "a = []\n",
    "\n",
    "for i in range(len(carolina)):\n",
    "    a.append(float(carolina.Price[i])*carolina[\"Avg_Concession_%\"][i])"
   ]
  },
  {
   "cell_type": "code",
   "execution_count": 40,
   "metadata": {},
   "outputs": [],
   "source": [
    "carolina[\"Concession_value\"] = a"
   ]
  },
  {
   "cell_type": "code",
   "execution_count": 41,
   "metadata": {},
   "outputs": [
    {
     "data": {
      "text/html": [
       "<div>\n",
       "<style scoped>\n",
       "    .dataframe tbody tr th:only-of-type {\n",
       "        vertical-align: middle;\n",
       "    }\n",
       "\n",
       "    .dataframe tbody tr th {\n",
       "        vertical-align: top;\n",
       "    }\n",
       "\n",
       "    .dataframe thead th {\n",
       "        text-align: right;\n",
       "    }\n",
       "</style>\n",
       "<table border=\"1\" class=\"dataframe\">\n",
       "  <thead>\n",
       "    <tr style=\"text-align: right;\">\n",
       "      <th></th>\n",
       "      <th>Unnamed: 0_x</th>\n",
       "      <th>SCAPN</th>\n",
       "      <th>SCSitus_NumNam_x</th>\n",
       "      <th>PropID</th>\n",
       "      <th>Star_rating</th>\n",
       "      <th>City</th>\n",
       "      <th>State</th>\n",
       "      <th>Zip</th>\n",
       "      <th>County</th>\n",
       "      <th>For_sale_price</th>\n",
       "      <th>...</th>\n",
       "      <th>Total_value</th>\n",
       "      <th>Assessed_yr</th>\n",
       "      <th>Floor_area_ratio</th>\n",
       "      <th>Num_floors</th>\n",
       "      <th>Price_per_sqft</th>\n",
       "      <th>Land_price_per_AC</th>\n",
       "      <th>Sale_date</th>\n",
       "      <th>Sale_price</th>\n",
       "      <th>Price</th>\n",
       "      <th>Concession_value</th>\n",
       "    </tr>\n",
       "  </thead>\n",
       "  <tbody>\n",
       "    <tr>\n",
       "      <th>0</th>\n",
       "      <td>2</td>\n",
       "      <td>NC Forsyth 6835-56-7348</td>\n",
       "      <td>NC Forsyth980 2nd St</td>\n",
       "      <td>P8145</td>\n",
       "      <td>2</td>\n",
       "      <td>Winston Salem</td>\n",
       "      <td>NC</td>\n",
       "      <td>271014416</td>\n",
       "      <td>Forsyth</td>\n",
       "      <td>NaN</td>\n",
       "      <td>...</td>\n",
       "      <td>2744900.0</td>\n",
       "      <td>2019.0</td>\n",
       "      <td>0.175243</td>\n",
       "      <td>2.0</td>\n",
       "      <td>44.18</td>\n",
       "      <td>337265.79</td>\n",
       "      <td>1970-01-01 00:00:00.000043644</td>\n",
       "      <td>4860000.0</td>\n",
       "      <td>4.86e+06</td>\n",
       "      <td>29160.0</td>\n",
       "    </tr>\n",
       "    <tr>\n",
       "      <th>1</th>\n",
       "      <td>6</td>\n",
       "      <td>NC Mecklenburg 078-062-01</td>\n",
       "      <td>NC Mecklenburg517 8th St</td>\n",
       "      <td>P8149</td>\n",
       "      <td>3</td>\n",
       "      <td>Charlotte</td>\n",
       "      <td>NC</td>\n",
       "      <td>28202</td>\n",
       "      <td>Mecklenburg</td>\n",
       "      <td>NaN</td>\n",
       "      <td>...</td>\n",
       "      <td>11160000.0</td>\n",
       "      <td>2013.0</td>\n",
       "      <td>0.725003</td>\n",
       "      <td>3.0</td>\n",
       "      <td>182.58</td>\n",
       "      <td>5766016.71</td>\n",
       "      <td>1970-01-01 00:00:00.000042034</td>\n",
       "      <td>20700000.0</td>\n",
       "      <td>2.07e+07</td>\n",
       "      <td>103500.0</td>\n",
       "    </tr>\n",
       "    <tr>\n",
       "      <th>2</th>\n",
       "      <td>6</td>\n",
       "      <td>NC Mecklenburg 078-062-01</td>\n",
       "      <td>NC Mecklenburg517 8th St</td>\n",
       "      <td>P8149</td>\n",
       "      <td>3</td>\n",
       "      <td>Charlotte</td>\n",
       "      <td>NC</td>\n",
       "      <td>28202</td>\n",
       "      <td>Mecklenburg</td>\n",
       "      <td>NaN</td>\n",
       "      <td>...</td>\n",
       "      <td>16946200.0</td>\n",
       "      <td>2011.0</td>\n",
       "      <td>0.725003</td>\n",
       "      <td>3.0</td>\n",
       "      <td>142.45</td>\n",
       "      <td>4498607.24</td>\n",
       "      <td>1970-01-01 00:00:00.000041060</td>\n",
       "      <td>16150000.0</td>\n",
       "      <td>1.615e+07</td>\n",
       "      <td>80750.0</td>\n",
       "    </tr>\n",
       "    <tr>\n",
       "      <th>3</th>\n",
       "      <td>9</td>\n",
       "      <td>NC Catawba 2793129644110000</td>\n",
       "      <td>NC Catawba1227 10th Street Blvd</td>\n",
       "      <td>P8152</td>\n",
       "      <td>3</td>\n",
       "      <td>Hickory</td>\n",
       "      <td>NC</td>\n",
       "      <td>286012367</td>\n",
       "      <td>Catawba</td>\n",
       "      <td>NaN</td>\n",
       "      <td>...</td>\n",
       "      <td>4985900.0</td>\n",
       "      <td>2007.0</td>\n",
       "      <td>0.271709</td>\n",
       "      <td>3.0</td>\n",
       "      <td>56.45</td>\n",
       "      <td>668080.59</td>\n",
       "      <td>1970-01-01 00:00:00.000039595</td>\n",
       "      <td>6300000.0</td>\n",
       "      <td>6.3e+06</td>\n",
       "      <td>0.0</td>\n",
       "    </tr>\n",
       "    <tr>\n",
       "      <th>4</th>\n",
       "      <td>9</td>\n",
       "      <td>NC Catawba 2793129644110000</td>\n",
       "      <td>NC Catawba1227 10th Street Blvd</td>\n",
       "      <td>P8152</td>\n",
       "      <td>3</td>\n",
       "      <td>Hickory</td>\n",
       "      <td>NC</td>\n",
       "      <td>286012367</td>\n",
       "      <td>Catawba</td>\n",
       "      <td>NaN</td>\n",
       "      <td>...</td>\n",
       "      <td>5117100.0</td>\n",
       "      <td>2011.0</td>\n",
       "      <td>0.271709</td>\n",
       "      <td>3.0</td>\n",
       "      <td>53.13</td>\n",
       "      <td>628844.11</td>\n",
       "      <td>1970-01-01 00:00:00.000041099</td>\n",
       "      <td>5930000.0</td>\n",
       "      <td>5.93e+06</td>\n",
       "      <td>0.0</td>\n",
       "    </tr>\n",
       "  </tbody>\n",
       "</table>\n",
       "<p>5 rows × 74 columns</p>\n",
       "</div>"
      ],
      "text/plain": [
       "   Unnamed: 0_x                        SCAPN                 SCSitus_NumNam_x  \\\n",
       "0             2      NC Forsyth 6835-56-7348             NC Forsyth980 2nd St   \n",
       "1             6    NC Mecklenburg 078-062-01         NC Mecklenburg517 8th St   \n",
       "2             6    NC Mecklenburg 078-062-01         NC Mecklenburg517 8th St   \n",
       "3             9  NC Catawba 2793129644110000  NC Catawba1227 10th Street Blvd   \n",
       "4             9  NC Catawba 2793129644110000  NC Catawba1227 10th Street Blvd   \n",
       "\n",
       "  PropID  Star_rating           City State        Zip       County  \\\n",
       "0  P8145            2  Winston Salem    NC  271014416      Forsyth   \n",
       "1  P8149            3      Charlotte    NC      28202  Mecklenburg   \n",
       "2  P8149            3      Charlotte    NC      28202  Mecklenburg   \n",
       "3  P8152            3        Hickory    NC  286012367      Catawba   \n",
       "4  P8152            3        Hickory    NC  286012367      Catawba   \n",
       "\n",
       "   For_sale_price  ... Total_value  Assessed_yr  Floor_area_ratio  Num_floors  \\\n",
       "0             NaN  ...   2744900.0       2019.0          0.175243         2.0   \n",
       "1             NaN  ...  11160000.0       2013.0          0.725003         3.0   \n",
       "2             NaN  ...  16946200.0       2011.0          0.725003         3.0   \n",
       "3             NaN  ...   4985900.0       2007.0          0.271709         3.0   \n",
       "4             NaN  ...   5117100.0       2011.0          0.271709         3.0   \n",
       "\n",
       "   Price_per_sqft  Land_price_per_AC                     Sale_date  \\\n",
       "0           44.18          337265.79 1970-01-01 00:00:00.000043644   \n",
       "1          182.58         5766016.71 1970-01-01 00:00:00.000042034   \n",
       "2          142.45         4498607.24 1970-01-01 00:00:00.000041060   \n",
       "3           56.45          668080.59 1970-01-01 00:00:00.000039595   \n",
       "4           53.13          628844.11 1970-01-01 00:00:00.000041099   \n",
       "\n",
       "   Sale_price      Price Concession_value  \n",
       "0   4860000.0   4.86e+06          29160.0  \n",
       "1  20700000.0   2.07e+07         103500.0  \n",
       "2  16150000.0  1.615e+07          80750.0  \n",
       "3   6300000.0    6.3e+06              0.0  \n",
       "4   5930000.0   5.93e+06              0.0  \n",
       "\n",
       "[5 rows x 74 columns]"
      ]
     },
     "execution_count": 41,
     "metadata": {},
     "output_type": "execute_result"
    }
   ],
   "source": [
    "carolina.head()"
   ]
  },
  {
   "cell_type": "code",
   "execution_count": 42,
   "metadata": {},
   "outputs": [],
   "source": [
    "## Create Column for NOI\n",
    "\n",
    "b = []\n",
    "\n",
    "for i in range(len(carolina)):\n",
    "    b.append((float(carolina.Price[i]) - carolina[\"Land_value\"][i] + carolina[\"Concession_value\"][i])\\\n",
    "             *carolina[\"Cap_rate\"][i]/(1-carolina[\"Vacancy_%\"][i]))"
   ]
  },
  {
   "cell_type": "code",
   "execution_count": 43,
   "metadata": {},
   "outputs": [],
   "source": [
    "carolina[\"NOI\"] = b"
   ]
  },
  {
   "cell_type": "code",
   "execution_count": 44,
   "metadata": {},
   "outputs": [
    {
     "data": {
      "text/html": [
       "<div>\n",
       "<style scoped>\n",
       "    .dataframe tbody tr th:only-of-type {\n",
       "        vertical-align: middle;\n",
       "    }\n",
       "\n",
       "    .dataframe tbody tr th {\n",
       "        vertical-align: top;\n",
       "    }\n",
       "\n",
       "    .dataframe thead th {\n",
       "        text-align: right;\n",
       "    }\n",
       "</style>\n",
       "<table border=\"1\" class=\"dataframe\">\n",
       "  <thead>\n",
       "    <tr style=\"text-align: right;\">\n",
       "      <th></th>\n",
       "      <th>Unnamed: 0_x</th>\n",
       "      <th>SCAPN</th>\n",
       "      <th>SCSitus_NumNam_x</th>\n",
       "      <th>PropID</th>\n",
       "      <th>Star_rating</th>\n",
       "      <th>City</th>\n",
       "      <th>State</th>\n",
       "      <th>Zip</th>\n",
       "      <th>County</th>\n",
       "      <th>For_sale_price</th>\n",
       "      <th>...</th>\n",
       "      <th>Assessed_yr</th>\n",
       "      <th>Floor_area_ratio</th>\n",
       "      <th>Num_floors</th>\n",
       "      <th>Price_per_sqft</th>\n",
       "      <th>Land_price_per_AC</th>\n",
       "      <th>Sale_date</th>\n",
       "      <th>Sale_price</th>\n",
       "      <th>Price</th>\n",
       "      <th>Concession_value</th>\n",
       "      <th>NOI</th>\n",
       "    </tr>\n",
       "  </thead>\n",
       "  <tbody>\n",
       "    <tr>\n",
       "      <th>0</th>\n",
       "      <td>2</td>\n",
       "      <td>NC Forsyth 6835-56-7348</td>\n",
       "      <td>NC Forsyth980 2nd St</td>\n",
       "      <td>P8145</td>\n",
       "      <td>2</td>\n",
       "      <td>Winston Salem</td>\n",
       "      <td>NC</td>\n",
       "      <td>271014416</td>\n",
       "      <td>Forsyth</td>\n",
       "      <td>NaN</td>\n",
       "      <td>...</td>\n",
       "      <td>2019.0</td>\n",
       "      <td>0.175243</td>\n",
       "      <td>2.0</td>\n",
       "      <td>44.18</td>\n",
       "      <td>337265.79</td>\n",
       "      <td>1970-01-01 00:00:00.000043644</td>\n",
       "      <td>4860000.0</td>\n",
       "      <td>4.86e+06</td>\n",
       "      <td>29160.0</td>\n",
       "      <td>243872.299873</td>\n",
       "    </tr>\n",
       "    <tr>\n",
       "      <th>1</th>\n",
       "      <td>6</td>\n",
       "      <td>NC Mecklenburg 078-062-01</td>\n",
       "      <td>NC Mecklenburg517 8th St</td>\n",
       "      <td>P8149</td>\n",
       "      <td>3</td>\n",
       "      <td>Charlotte</td>\n",
       "      <td>NC</td>\n",
       "      <td>28202</td>\n",
       "      <td>Mecklenburg</td>\n",
       "      <td>NaN</td>\n",
       "      <td>...</td>\n",
       "      <td>2013.0</td>\n",
       "      <td>0.725003</td>\n",
       "      <td>3.0</td>\n",
       "      <td>182.58</td>\n",
       "      <td>5766016.71</td>\n",
       "      <td>1970-01-01 00:00:00.000042034</td>\n",
       "      <td>20700000.0</td>\n",
       "      <td>2.07e+07</td>\n",
       "      <td>103500.0</td>\n",
       "      <td>556825.437778</td>\n",
       "    </tr>\n",
       "    <tr>\n",
       "      <th>2</th>\n",
       "      <td>6</td>\n",
       "      <td>NC Mecklenburg 078-062-01</td>\n",
       "      <td>NC Mecklenburg517 8th St</td>\n",
       "      <td>P8149</td>\n",
       "      <td>3</td>\n",
       "      <td>Charlotte</td>\n",
       "      <td>NC</td>\n",
       "      <td>28202</td>\n",
       "      <td>Mecklenburg</td>\n",
       "      <td>NaN</td>\n",
       "      <td>...</td>\n",
       "      <td>2011.0</td>\n",
       "      <td>0.725003</td>\n",
       "      <td>3.0</td>\n",
       "      <td>142.45</td>\n",
       "      <td>4498607.24</td>\n",
       "      <td>1970-01-01 00:00:00.000041060</td>\n",
       "      <td>16150000.0</td>\n",
       "      <td>1.615e+07</td>\n",
       "      <td>80750.0</td>\n",
       "      <td>757203.259266</td>\n",
       "    </tr>\n",
       "    <tr>\n",
       "      <th>3</th>\n",
       "      <td>9</td>\n",
       "      <td>NC Catawba 2793129644110000</td>\n",
       "      <td>NC Catawba1227 10th Street Blvd</td>\n",
       "      <td>P8152</td>\n",
       "      <td>3</td>\n",
       "      <td>Hickory</td>\n",
       "      <td>NC</td>\n",
       "      <td>286012367</td>\n",
       "      <td>Catawba</td>\n",
       "      <td>NaN</td>\n",
       "      <td>...</td>\n",
       "      <td>2007.0</td>\n",
       "      <td>0.271709</td>\n",
       "      <td>3.0</td>\n",
       "      <td>56.45</td>\n",
       "      <td>668080.59</td>\n",
       "      <td>1970-01-01 00:00:00.000039595</td>\n",
       "      <td>6300000.0</td>\n",
       "      <td>6.3e+06</td>\n",
       "      <td>0.0</td>\n",
       "      <td>422933.985330</td>\n",
       "    </tr>\n",
       "    <tr>\n",
       "      <th>4</th>\n",
       "      <td>9</td>\n",
       "      <td>NC Catawba 2793129644110000</td>\n",
       "      <td>NC Catawba1227 10th Street Blvd</td>\n",
       "      <td>P8152</td>\n",
       "      <td>3</td>\n",
       "      <td>Hickory</td>\n",
       "      <td>NC</td>\n",
       "      <td>286012367</td>\n",
       "      <td>Catawba</td>\n",
       "      <td>NaN</td>\n",
       "      <td>...</td>\n",
       "      <td>2011.0</td>\n",
       "      <td>0.271709</td>\n",
       "      <td>3.0</td>\n",
       "      <td>53.13</td>\n",
       "      <td>628844.11</td>\n",
       "      <td>1970-01-01 00:00:00.000041099</td>\n",
       "      <td>5930000.0</td>\n",
       "      <td>5.93e+06</td>\n",
       "      <td>0.0</td>\n",
       "      <td>434046.018163</td>\n",
       "    </tr>\n",
       "  </tbody>\n",
       "</table>\n",
       "<p>5 rows × 75 columns</p>\n",
       "</div>"
      ],
      "text/plain": [
       "   Unnamed: 0_x                        SCAPN                 SCSitus_NumNam_x  \\\n",
       "0             2      NC Forsyth 6835-56-7348             NC Forsyth980 2nd St   \n",
       "1             6    NC Mecklenburg 078-062-01         NC Mecklenburg517 8th St   \n",
       "2             6    NC Mecklenburg 078-062-01         NC Mecklenburg517 8th St   \n",
       "3             9  NC Catawba 2793129644110000  NC Catawba1227 10th Street Blvd   \n",
       "4             9  NC Catawba 2793129644110000  NC Catawba1227 10th Street Blvd   \n",
       "\n",
       "  PropID  Star_rating           City State        Zip       County  \\\n",
       "0  P8145            2  Winston Salem    NC  271014416      Forsyth   \n",
       "1  P8149            3      Charlotte    NC      28202  Mecklenburg   \n",
       "2  P8149            3      Charlotte    NC      28202  Mecklenburg   \n",
       "3  P8152            3        Hickory    NC  286012367      Catawba   \n",
       "4  P8152            3        Hickory    NC  286012367      Catawba   \n",
       "\n",
       "   For_sale_price  ... Assessed_yr  Floor_area_ratio  Num_floors  \\\n",
       "0             NaN  ...      2019.0          0.175243         2.0   \n",
       "1             NaN  ...      2013.0          0.725003         3.0   \n",
       "2             NaN  ...      2011.0          0.725003         3.0   \n",
       "3             NaN  ...      2007.0          0.271709         3.0   \n",
       "4             NaN  ...      2011.0          0.271709         3.0   \n",
       "\n",
       "   Price_per_sqft  Land_price_per_AC                     Sale_date  \\\n",
       "0           44.18          337265.79 1970-01-01 00:00:00.000043644   \n",
       "1          182.58         5766016.71 1970-01-01 00:00:00.000042034   \n",
       "2          142.45         4498607.24 1970-01-01 00:00:00.000041060   \n",
       "3           56.45          668080.59 1970-01-01 00:00:00.000039595   \n",
       "4           53.13          628844.11 1970-01-01 00:00:00.000041099   \n",
       "\n",
       "   Sale_price      Price  Concession_value            NOI  \n",
       "0   4860000.0   4.86e+06           29160.0  243872.299873  \n",
       "1  20700000.0   2.07e+07          103500.0  556825.437778  \n",
       "2  16150000.0  1.615e+07           80750.0  757203.259266  \n",
       "3   6300000.0    6.3e+06               0.0  422933.985330  \n",
       "4   5930000.0   5.93e+06               0.0  434046.018163  \n",
       "\n",
       "[5 rows x 75 columns]"
      ]
     },
     "execution_count": 44,
     "metadata": {},
     "output_type": "execute_result"
    }
   ],
   "source": [
    "carolina.head()"
   ]
  },
  {
   "cell_type": "code",
   "execution_count": 45,
   "metadata": {},
   "outputs": [],
   "source": [
    "carolina = carolina.drop(carolina[carolina.NOI<0].index, axis = 0)"
   ]
  },
  {
   "cell_type": "code",
   "execution_count": 46,
   "metadata": {},
   "outputs": [
    {
     "data": {
      "text/plain": [
       "(1566, 75)"
      ]
     },
     "execution_count": 46,
     "metadata": {},
     "output_type": "execute_result"
    }
   ],
   "source": [
    "carolina.shape"
   ]
  },
  {
   "cell_type": "code",
   "execution_count": 48,
   "metadata": {},
   "outputs": [],
   "source": [
    "carolina.to_csv(\"NC_NOI.csv\")"
   ]
  },
  {
   "cell_type": "code",
   "execution_count": 50,
   "metadata": {},
   "outputs": [
    {
     "data": {
      "image/png": "[encoded data removed]",
      "text/plain": [
       "<Figure size 432x288 with 1 Axes>"
      ]
     },
     "metadata": {
      "needs_background": "light"
     },
     "output_type": "display_data"
    }
   ],
   "source": [
    "plt.figure()\n",
    "\n",
    "plt.scatter(carolina.Year_built, carolina.NOI)\n",
    "\n",
    "\n",
    "plt.show()"
   ]
  },
  {
   "cell_type": "code",
   "execution_count": null,
   "metadata": {},
   "outputs": [],
   "source": []
  },
  {
   "cell_type": "code",
   "execution_count": null,
   "metadata": {},
   "outputs": [],
   "source": []
  }
 ],
 "metadata": {
  "kernelspec": {
   "display_name": "Python 3",
   "language": "python",
   "name": "python3"
  },
  "language_info": {
   "codemirror_mode": {
    "name": "ipython",
    "version": 3
   },
   "file_extension": ".py",
   "mimetype": "text/x-python",
   "name": "python",
   "nbconvert_exporter": "python",
   "pygments_lexer": "ipython3",
   "version": "3.7.3"
  }
 },
 "nbformat": 4,
 "nbformat_minor": 2
}
