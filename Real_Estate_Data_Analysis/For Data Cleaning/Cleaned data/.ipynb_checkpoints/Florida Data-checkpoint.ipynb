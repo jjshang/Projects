{
 "cells": [
  {
   "cell_type": "code",
   "execution_count": 1,
   "metadata": {},
   "outputs": [],
   "source": [
    "import numpy as np\n",
    "import pandas as pd\n",
    "import matplotlib.pyplot as plt\n",
    "import seaborn as sns"
   ]
  },
  {
   "cell_type": "code",
   "execution_count": 2,
   "metadata": {},
   "outputs": [],
   "source": [
    "florida = pd.read_csv(\"Florida_all_data.csv\", index_col = 0)"
   ]
  },
  {
   "cell_type": "code",
   "execution_count": 3,
   "metadata": {},
   "outputs": [
    {
     "data": {
      "text/html": [
       "<div>\n",
       "<style scoped>\n",
       "    .dataframe tbody tr th:only-of-type {\n",
       "        vertical-align: middle;\n",
       "    }\n",
       "\n",
       "    .dataframe tbody tr th {\n",
       "        vertical-align: top;\n",
       "    }\n",
       "\n",
       "    .dataframe thead th {\n",
       "        text-align: right;\n",
       "    }\n",
       "</style>\n",
       "<table border=\"1\" class=\"dataframe\">\n",
       "  <thead>\n",
       "    <tr style=\"text-align: right;\">\n",
       "      <th></th>\n",
       "      <th>SCAPN</th>\n",
       "      <th>SCSitus_NumNam_x</th>\n",
       "      <th>PropID</th>\n",
       "      <th>Star_rating</th>\n",
       "      <th>City</th>\n",
       "      <th>State</th>\n",
       "      <th>Zip</th>\n",
       "      <th>County</th>\n",
       "      <th>For_sale_price</th>\n",
       "      <th>For_sale_status</th>\n",
       "      <th>...</th>\n",
       "      <th>Cap_rate_actual</th>\n",
       "      <th>Land_value</th>\n",
       "      <th>Total_value</th>\n",
       "      <th>Assessed_yr</th>\n",
       "      <th>Floor_area_ratio</th>\n",
       "      <th>Num_floors</th>\n",
       "      <th>Price_per_sqft</th>\n",
       "      <th>Land_price_per_AC</th>\n",
       "      <th>Sale_date</th>\n",
       "      <th>Sale_price</th>\n",
       "    </tr>\n",
       "  </thead>\n",
       "  <tbody>\n",
       "    <tr>\n",
       "      <th>0</th>\n",
       "      <td>FL Pinellas 34-29-15-50256-001-0010</td>\n",
       "      <td>FL Pinellas600 Bay Dr</td>\n",
       "      <td>P2828</td>\n",
       "      <td>4</td>\n",
       "      <td>Largo</td>\n",
       "      <td>FL</td>\n",
       "      <td>337703328</td>\n",
       "      <td>Pinellas</td>\n",
       "      <td>NaN</td>\n",
       "      <td>NaN</td>\n",
       "      <td>...</td>\n",
       "      <td>NaN</td>\n",
       "      <td>NaN</td>\n",
       "      <td>NaN</td>\n",
       "      <td>NaN</td>\n",
       "      <td>NaN</td>\n",
       "      <td>NaN</td>\n",
       "      <td>NaN</td>\n",
       "      <td>NaN</td>\n",
       "      <td>NaN</td>\n",
       "      <td>NaN</td>\n",
       "    </tr>\n",
       "    <tr>\n",
       "      <th>1</th>\n",
       "      <td>FL Pinellas 24-31-16-29718-013-0150</td>\n",
       "      <td>FL Pinellas1601 Central Ave</td>\n",
       "      <td>P2829</td>\n",
       "      <td>4</td>\n",
       "      <td>Saint Petersburg</td>\n",
       "      <td>FL</td>\n",
       "      <td>337138934</td>\n",
       "      <td>Pinellas</td>\n",
       "      <td>NaN</td>\n",
       "      <td>NaN</td>\n",
       "      <td>...</td>\n",
       "      <td>NaN</td>\n",
       "      <td>NaN</td>\n",
       "      <td>NaN</td>\n",
       "      <td>NaN</td>\n",
       "      <td>NaN</td>\n",
       "      <td>NaN</td>\n",
       "      <td>NaN</td>\n",
       "      <td>NaN</td>\n",
       "      <td>NaN</td>\n",
       "      <td>NaN</td>\n",
       "    </tr>\n",
       "  </tbody>\n",
       "</table>\n",
       "<p>2 rows × 71 columns</p>\n",
       "</div>"
      ],
      "text/plain": [
       "                                 SCAPN             SCSitus_NumNam_x PropID  \\\n",
       "0  FL Pinellas 34-29-15-50256-001-0010        FL Pinellas600 Bay Dr  P2828   \n",
       "1  FL Pinellas 24-31-16-29718-013-0150  FL Pinellas1601 Central Ave  P2829   \n",
       "\n",
       "   Star_rating              City State        Zip    County For_sale_price  \\\n",
       "0            4             Largo    FL  337703328  Pinellas            NaN   \n",
       "1            4  Saint Petersburg    FL  337138934  Pinellas            NaN   \n",
       "\n",
       "  For_sale_status  ...  Cap_rate_actual  Land_value  Total_value  Assessed_yr  \\\n",
       "0             NaN  ...              NaN         NaN          NaN          NaN   \n",
       "1             NaN  ...              NaN         NaN          NaN          NaN   \n",
       "\n",
       "   Floor_area_ratio  Num_floors  Price_per_sqft  Land_price_per_AC Sale_date  \\\n",
       "0               NaN         NaN             NaN                NaN       NaN   \n",
       "1               NaN         NaN             NaN                NaN       NaN   \n",
       "\n",
       "   Sale_price  \n",
       "0         NaN  \n",
       "1         NaN  \n",
       "\n",
       "[2 rows x 71 columns]"
      ]
     },
     "execution_count": 3,
     "metadata": {},
     "output_type": "execute_result"
    }
   ],
   "source": [
    "florida.head(2)"
   ]
  },
  {
   "cell_type": "code",
   "execution_count": 4,
   "metadata": {},
   "outputs": [
    {
     "data": {
      "text/plain": [
       "Index(['SCAPN', 'SCSitus_NumNam_x', 'PropID', 'Star_rating', 'City', 'State',\n",
       "       'Zip', 'County', 'For_sale_price', 'For_sale_status', 'Land_area',\n",
       "       'Num_units', 'Cap_rate', 'Vacancy_%', 'Avg_unit_sqft',\n",
       "       'Avg_Concession_%', 'Parking_per_unit', 'Days_on_mkt', 'Amenities',\n",
       "       'Year_built', 'Year_reno', 'Last_sale_date', 'Last_sale_price',\n",
       "       'Transit_dist_mile', 'Transit_walk_time_min', 'Const_material',\n",
       "       'Num_studio', 'Studio_rent_sqft', 'Studio_avg_sqft',\n",
       "       'Studio_concession_%', 'Studio_vacancy_%', 'Num_1_bed',\n",
       "       '1_bed_rent_sqft', '1_bed_avg_sqft', '1_bed_concession_%',\n",
       "       '1_bed_vacancy_%', 'Num_2_bed', '2_bed_rent_sqft', '2_bed_avg_sqft',\n",
       "       '2_bed_concession_%', '2_bed_vacancy_%', 'Num_3_bed', '3_bed_rent_sqft',\n",
       "       '3_bed_avg_sqft', '3_bed_concession_%', '3_bed_vacancy_%', 'Num_4_bed',\n",
       "       '4_bed_rent_sqft', '4_bed_avg_sqft', '4_bed_concession_%',\n",
       "       '4_bed_vacancy_%', '2010_Avg_age', '2019_Avg_age', '2019_Pop_25_39',\n",
       "       '2024_Avg_age', '2024_Pop_25_39', 'Unnamed: 0.1', 'SID',\n",
       "       'SCSitus_NumNam_y', 'Building_age', 'Cap_rate_pro_forma',\n",
       "       'Cap_rate_actual', 'Land_value', 'Total_value', 'Assessed_yr',\n",
       "       'Floor_area_ratio', 'Num_floors', 'Price_per_sqft', 'Land_price_per_AC',\n",
       "       'Sale_date', 'Sale_price'],\n",
       "      dtype='object')"
      ]
     },
     "execution_count": 4,
     "metadata": {},
     "output_type": "execute_result"
    }
   ],
   "source": [
    "florida.columns.unique()"
   ]
  },
  {
   "cell_type": "code",
   "execution_count": 5,
   "metadata": {},
   "outputs": [],
   "source": [
    "## Convert columns to proper format\n",
    "florida.Last_sale_date = pd.to_datetime(florida.Last_sale_date)\n",
    "florida.Sale_date = pd.to_datetime(florida.Sale_date)\n",
    "florida['Vacancy_%'] = florida['Vacancy_%']/100\n",
    "florida.Cap_rate = florida.Cap_rate / 100\n",
    "florida[\"Avg_Concession_%\"] =florida[\"Avg_Concession_%\"]/100\n",
    "florida[\"Cap_rate_pro_forma\"] = florida[\"Cap_rate_pro_forma\"]/100\n",
    "florida[\"Cap_rate_actual\"] = florida[\"Cap_rate_actual\"]/100\n",
    "florida[\"Last_sale_price\"] = florida[\"Last_sale_price\"].str.replace(\",\", \"\")\n",
    "\n",
    "\n",
    "florida[\"Studio_concession_%\"] = florida[\"Studio_concession_%\"]/100\n",
    "florida[\"Studio_vacancy_%\"] = florida[\"Studio_vacancy_%\"]/100\n",
    "florida[\"1_bed_concession_%\"] = florida[\"1_bed_concession_%\"]/100\n",
    "florida[\"1_bed_vacancy_%\"] = florida[\"1_bed_vacancy_%\"]/100\n",
    "florida[\"2_bed_concession_%\"] = florida[\"2_bed_concession_%\"]/100\n",
    "florida[\"2_bed_vacancy_%\"] = florida[\"2_bed_vacancy_%\"]/100\n",
    "florida[\"3_bed_concession_%\"] = florida[\"3_bed_concession_%\"]/100\n",
    "florida[\"3_bed_vacancy_%\"] = florida[\"3_bed_vacancy_%\"]/100\n",
    "florida[\"4_bed_concession_%\"] = florida[\"4_bed_concession_%\"]/100\n",
    "florida[\"4_bed_vacancy_%\"] = florida[\"4_bed_vacancy_%\"]/100"
   ]
  },
  {
   "cell_type": "markdown",
   "metadata": {},
   "source": [
    "## To Calculate NOI, we need Sales Price, Cap rate, Land value, Concession, Vacancy%"
   ]
  },
  {
   "cell_type": "code",
   "execution_count": 6,
   "metadata": {},
   "outputs": [],
   "source": [
    "## Create a final Price column\n",
    "florida[\"Price\"] = florida.Sale_price"
   ]
  },
  {
   "cell_type": "code",
   "execution_count": 7,
   "metadata": {},
   "outputs": [],
   "source": [
    "### Fill in the null value with approximates\n",
    "florida[\"Price\"].fillna(florida[\"Last_sale_price\"], inplace = True)\n",
    "florida.Price.fillna((florida[\"Total_value\"]), inplace = True)"
   ]
  },
  {
   "cell_type": "code",
   "execution_count": 8,
   "metadata": {},
   "outputs": [],
   "source": [
    "## Remove entries with null sales price\n",
    "florida = florida.dropna(subset = [\"Price\"]).reset_index()"
   ]
  },
  {
   "cell_type": "code",
   "execution_count": 9,
   "metadata": {},
   "outputs": [
    {
     "data": {
      "text/html": [
       "<div>\n",
       "<style scoped>\n",
       "    .dataframe tbody tr th:only-of-type {\n",
       "        vertical-align: middle;\n",
       "    }\n",
       "\n",
       "    .dataframe tbody tr th {\n",
       "        vertical-align: top;\n",
       "    }\n",
       "\n",
       "    .dataframe thead th {\n",
       "        text-align: right;\n",
       "    }\n",
       "</style>\n",
       "<table border=\"1\" class=\"dataframe\">\n",
       "  <thead>\n",
       "    <tr style=\"text-align: right;\">\n",
       "      <th></th>\n",
       "      <th>SCAPN</th>\n",
       "      <th>SCSitus_NumNam_x</th>\n",
       "      <th>PropID</th>\n",
       "      <th>Star_rating</th>\n",
       "      <th>City</th>\n",
       "      <th>State</th>\n",
       "      <th>Zip</th>\n",
       "      <th>County</th>\n",
       "      <th>For_sale_price</th>\n",
       "      <th>For_sale_status</th>\n",
       "      <th>...</th>\n",
       "      <th>Land_value</th>\n",
       "      <th>Total_value</th>\n",
       "      <th>Assessed_yr</th>\n",
       "      <th>Floor_area_ratio</th>\n",
       "      <th>Num_floors</th>\n",
       "      <th>Price_per_sqft</th>\n",
       "      <th>Land_price_per_AC</th>\n",
       "      <th>Sale_date</th>\n",
       "      <th>Sale_price</th>\n",
       "      <th>Price</th>\n",
       "    </tr>\n",
       "  </thead>\n",
       "  <tbody>\n",
       "    <tr>\n",
       "      <th>0</th>\n",
       "      <td>FL Pinellas 19-31-17-74466-052-0040</td>\n",
       "      <td>FL Pinellas540 2nd Ave</td>\n",
       "      <td>P2834</td>\n",
       "      <td>2</td>\n",
       "      <td>Saint Petersburg</td>\n",
       "      <td>FL</td>\n",
       "      <td>33701</td>\n",
       "      <td>Pinellas</td>\n",
       "      <td>NaN</td>\n",
       "      <td>NaN</td>\n",
       "      <td>...</td>\n",
       "      <td>NaN</td>\n",
       "      <td>NaN</td>\n",
       "      <td>NaN</td>\n",
       "      <td>NaN</td>\n",
       "      <td>NaN</td>\n",
       "      <td>NaN</td>\n",
       "      <td>NaN</td>\n",
       "      <td>NaT</td>\n",
       "      <td>NaN</td>\n",
       "      <td>10150000</td>\n",
       "    </tr>\n",
       "    <tr>\n",
       "      <th>1</th>\n",
       "      <td>FL Pinellas 19-31-17-74466-011-0090</td>\n",
       "      <td>FL Pinellas235 3rd Ave</td>\n",
       "      <td>P2837</td>\n",
       "      <td>4</td>\n",
       "      <td>Saint Petersburg</td>\n",
       "      <td>FL</td>\n",
       "      <td>337014242</td>\n",
       "      <td>Pinellas</td>\n",
       "      <td>NaN</td>\n",
       "      <td>NaN</td>\n",
       "      <td>...</td>\n",
       "      <td>0.0</td>\n",
       "      <td>46000000.0</td>\n",
       "      <td>2015.0</td>\n",
       "      <td>3.393541</td>\n",
       "      <td>8.0</td>\n",
       "      <td>277.96</td>\n",
       "      <td>41088269.58</td>\n",
       "      <td>2016-12-14</td>\n",
       "      <td>77550000.0</td>\n",
       "      <td>7.755e+07</td>\n",
       "    </tr>\n",
       "    <tr>\n",
       "      <th>2</th>\n",
       "      <td>FL Pinellas 19-31-17-74466-011-0090</td>\n",
       "      <td>FL Pinellas235 3rd Ave</td>\n",
       "      <td>P2837</td>\n",
       "      <td>4</td>\n",
       "      <td>Saint Petersburg</td>\n",
       "      <td>FL</td>\n",
       "      <td>337014242</td>\n",
       "      <td>Pinellas</td>\n",
       "      <td>NaN</td>\n",
       "      <td>NaN</td>\n",
       "      <td>...</td>\n",
       "      <td>4006352.0</td>\n",
       "      <td>66800000.0</td>\n",
       "      <td>2017.0</td>\n",
       "      <td>3.393541</td>\n",
       "      <td>8.0</td>\n",
       "      <td>NaN</td>\n",
       "      <td>NaN</td>\n",
       "      <td>2017-06-20</td>\n",
       "      <td>NaN</td>\n",
       "      <td>6.68e+07</td>\n",
       "    </tr>\n",
       "    <tr>\n",
       "      <th>3</th>\n",
       "      <td>FL Pinellas 19-31-17-78428-002-0010</td>\n",
       "      <td>FL Pinellas430 3rd Ave</td>\n",
       "      <td>P2838</td>\n",
       "      <td>4</td>\n",
       "      <td>Saint Petersburg</td>\n",
       "      <td>FL</td>\n",
       "      <td>337013294</td>\n",
       "      <td>Pinellas</td>\n",
       "      <td>NaN</td>\n",
       "      <td>Active</td>\n",
       "      <td>...</td>\n",
       "      <td>4987800.0</td>\n",
       "      <td>5062770.0</td>\n",
       "      <td>2014.0</td>\n",
       "      <td>2.920778</td>\n",
       "      <td>4.0</td>\n",
       "      <td>152.81</td>\n",
       "      <td>19441376.77</td>\n",
       "      <td>2015-09-16</td>\n",
       "      <td>84500000.0</td>\n",
       "      <td>8.45e+07</td>\n",
       "    </tr>\n",
       "    <tr>\n",
       "      <th>4</th>\n",
       "      <td>FL Pinellas 19-31-17-78428-002-0010</td>\n",
       "      <td>FL Pinellas430 3rd Ave</td>\n",
       "      <td>P2838</td>\n",
       "      <td>4</td>\n",
       "      <td>Saint Petersburg</td>\n",
       "      <td>FL</td>\n",
       "      <td>337013294</td>\n",
       "      <td>Pinellas</td>\n",
       "      <td>NaN</td>\n",
       "      <td>Active</td>\n",
       "      <td>...</td>\n",
       "      <td>4987800.0</td>\n",
       "      <td>5062770.0</td>\n",
       "      <td>2014.0</td>\n",
       "      <td>2.920778</td>\n",
       "      <td>4.0</td>\n",
       "      <td>56.01</td>\n",
       "      <td>7125921.87</td>\n",
       "      <td>2015-09-16</td>\n",
       "      <td>10437600.0</td>\n",
       "      <td>1.04376e+07</td>\n",
       "    </tr>\n",
       "  </tbody>\n",
       "</table>\n",
       "<p>5 rows × 72 columns</p>\n",
       "</div>"
      ],
      "text/plain": [
       "                                 SCAPN        SCSitus_NumNam_x PropID  \\\n",
       "0  FL Pinellas 19-31-17-74466-052-0040  FL Pinellas540 2nd Ave  P2834   \n",
       "1  FL Pinellas 19-31-17-74466-011-0090  FL Pinellas235 3rd Ave  P2837   \n",
       "2  FL Pinellas 19-31-17-74466-011-0090  FL Pinellas235 3rd Ave  P2837   \n",
       "3  FL Pinellas 19-31-17-78428-002-0010  FL Pinellas430 3rd Ave  P2838   \n",
       "4  FL Pinellas 19-31-17-78428-002-0010  FL Pinellas430 3rd Ave  P2838   \n",
       "\n",
       "   Star_rating              City State        Zip    County For_sale_price  \\\n",
       "0            2  Saint Petersburg    FL  33701      Pinellas            NaN   \n",
       "1            4  Saint Petersburg    FL  337014242  Pinellas            NaN   \n",
       "2            4  Saint Petersburg    FL  337014242  Pinellas            NaN   \n",
       "3            4  Saint Petersburg    FL  337013294  Pinellas            NaN   \n",
       "4            4  Saint Petersburg    FL  337013294  Pinellas            NaN   \n",
       "\n",
       "  For_sale_status  ...  Land_value  Total_value  Assessed_yr  \\\n",
       "0             NaN  ...         NaN          NaN          NaN   \n",
       "1             NaN  ...         0.0   46000000.0       2015.0   \n",
       "2             NaN  ...   4006352.0   66800000.0       2017.0   \n",
       "3          Active  ...   4987800.0    5062770.0       2014.0   \n",
       "4          Active  ...   4987800.0    5062770.0       2014.0   \n",
       "\n",
       "   Floor_area_ratio  Num_floors  Price_per_sqft  Land_price_per_AC  Sale_date  \\\n",
       "0               NaN         NaN             NaN                NaN        NaT   \n",
       "1          3.393541         8.0          277.96        41088269.58 2016-12-14   \n",
       "2          3.393541         8.0             NaN                NaN 2017-06-20   \n",
       "3          2.920778         4.0          152.81        19441376.77 2015-09-16   \n",
       "4          2.920778         4.0           56.01         7125921.87 2015-09-16   \n",
       "\n",
       "   Sale_price        Price  \n",
       "0         NaN     10150000  \n",
       "1  77550000.0    7.755e+07  \n",
       "2         NaN     6.68e+07  \n",
       "3  84500000.0     8.45e+07  \n",
       "4  10437600.0  1.04376e+07  \n",
       "\n",
       "[5 rows x 72 columns]"
      ]
     },
     "execution_count": 9,
     "metadata": {},
     "output_type": "execute_result"
    }
   ],
   "source": [
    "florida = florida.drop(florida.columns[0], axis = 1)\n",
    "florida.head()"
   ]
  },
  {
   "cell_type": "code",
   "execution_count": 10,
   "metadata": {
    "scrolled": true
   },
   "outputs": [
    {
     "data": {
      "text/plain": [
       "(4015, 72)"
      ]
     },
     "execution_count": 10,
     "metadata": {},
     "output_type": "execute_result"
    }
   ],
   "source": [
    "florida.shape"
   ]
  },
  {
   "cell_type": "code",
   "execution_count": 11,
   "metadata": {},
   "outputs": [],
   "source": [
    "### In the case of no approximates, use average cap rate for city\n",
    "\n",
    "avg_cap_rate = florida.groupby(\"State\")[\"Cap_rate\"].mean()"
   ]
  },
  {
   "cell_type": "code",
   "execution_count": 12,
   "metadata": {},
   "outputs": [
    {
     "data": {
      "text/plain": [
       "State\n",
       "FL    0.07045\n",
       "Name: Cap_rate, dtype: float64"
      ]
     },
     "execution_count": 12,
     "metadata": {},
     "output_type": "execute_result"
    }
   ],
   "source": [
    "avg_cap_rate"
   ]
  },
  {
   "cell_type": "code",
   "execution_count": 13,
   "metadata": {},
   "outputs": [
    {
     "data": {
      "text/plain": [
       "0.07045000000000001"
      ]
     },
     "execution_count": 13,
     "metadata": {},
     "output_type": "execute_result"
    }
   ],
   "source": [
    "avg_cap_rate[0]"
   ]
  },
  {
   "cell_type": "code",
   "execution_count": 14,
   "metadata": {},
   "outputs": [],
   "source": [
    "## Create general cap rate column and fill in the null value with approximates\n",
    "\n",
    "florida.Cap_rate.fillna(florida[\"Cap_rate_actual\"], inplace = True)\n",
    "florida.Cap_rate.fillna(florida[\"Cap_rate_pro_forma\"], inplace = True)\n",
    "florida.Cap_rate.fillna(avg_cap_rate[0], inplace = True)"
   ]
  },
  {
   "cell_type": "code",
   "execution_count": 15,
   "metadata": {},
   "outputs": [],
   "source": [
    "## Remove entry with null cap rate\n",
    "florida = florida.dropna(subset = [\"Cap_rate\"])"
   ]
  },
  {
   "cell_type": "code",
   "execution_count": 16,
   "metadata": {},
   "outputs": [
    {
     "data": {
      "text/plain": [
       "(4015, 72)"
      ]
     },
     "execution_count": 16,
     "metadata": {},
     "output_type": "execute_result"
    }
   ],
   "source": [
    "florida.shape"
   ]
  },
  {
   "cell_type": "code",
   "execution_count": 17,
   "metadata": {},
   "outputs": [
    {
     "data": {
      "text/plain": [
       "County\n",
       "Alachua         8.056906e+05\n",
       "Bay             1.420052e+06\n",
       "Brevard         6.417167e+05\n",
       "Broward         4.111094e+06\n",
       "Charlotte                NaN\n",
       "Citrus          3.578500e+06\n",
       "Clay            1.147491e+06\n",
       "Collier         1.114730e+06\n",
       "Columbia        8.166700e+04\n",
       "DeSoto          0.000000e+00\n",
       "Duval           2.155815e+06\n",
       "Escambia        5.258011e+05\n",
       "Flagler         1.203720e+05\n",
       "Gadsden         5.385000e+04\n",
       "Hardee          0.000000e+00\n",
       "Hernando        8.782613e+05\n",
       "Highlands       2.585349e+06\n",
       "Hillsborough    2.557829e+06\n",
       "Indian River    8.701410e+05\n",
       "Jackson         0.000000e+00\n",
       "Lake            1.638867e+06\n",
       "Lee             2.261696e+06\n",
       "Leon            1.192591e+06\n",
       "Manatee         1.671204e+06\n",
       "Marion          4.531202e+05\n",
       "Martin          2.318015e+06\n",
       "Miami/Dade      3.023271e+06\n",
       "Monroe          1.102312e+07\n",
       "Nassau          8.746250e+05\n",
       "Okaloosa        1.544546e+06\n",
       "Orange          2.788905e+06\n",
       "Osceola         9.865161e+05\n",
       "Palm Beach      4.637295e+06\n",
       "Pasco           1.839345e+06\n",
       "Pinellas        2.169594e+06\n",
       "Polk            4.680833e+05\n",
       "Putnam          2.110500e+05\n",
       "Santa Rosa      9.683877e+05\n",
       "Sarasota        5.048632e+06\n",
       "Seminole        2.625386e+06\n",
       "St Lucie        1.567467e+06\n",
       "St. Johns       2.302102e+06\n",
       "Sumter          1.341910e+05\n",
       "Taylor          1.350000e+05\n",
       "Volusia         1.539960e+06\n",
       "Walton          0.000000e+00\n",
       "Name: Land_value, dtype: float64"
      ]
     },
     "execution_count": 17,
     "metadata": {},
     "output_type": "execute_result"
    }
   ],
   "source": [
    "## Generate general Land value \n",
    "avg_land_value = florida.groupby(\"County\")[\"Land_value\"].mean()\n",
    "avg_land_value"
   ]
  },
  {
   "cell_type": "code",
   "execution_count": 18,
   "metadata": {},
   "outputs": [
    {
     "data": {
      "text/plain": [
       "array(['Pinellas', 'Hillsborough', 'Hernando', 'Pasco', 'Orange',\n",
       "       'Seminole', 'Lake', 'Osceola', 'Manatee', 'Sarasota', 'Polk',\n",
       "       'Lee', 'Palm Beach', 'Broward', 'Miami/Dade', 'Duval', 'Okaloosa',\n",
       "       'Nassau', 'St. Johns', 'Leon', 'Alachua', 'Escambia', 'Volusia',\n",
       "       'Marion', 'Indian River', 'St Lucie', 'Citrus', 'Collier', 'Bay',\n",
       "       'Sumter', 'Brevard', 'Charlotte', 'Martin', 'Clay', 'Highlands',\n",
       "       'Putnam', 'Jackson', 'Gadsden', 'Santa Rosa', 'Columbia', 'Monroe',\n",
       "       'Walton', 'DeSoto', 'Flagler', 'Hardee', 'Taylor'], dtype=object)"
      ]
     },
     "execution_count": 18,
     "metadata": {},
     "output_type": "execute_result"
    }
   ],
   "source": [
    "county = florida.County.unique()\n",
    "county"
   ]
  },
  {
   "cell_type": "code",
   "execution_count": 19,
   "metadata": {},
   "outputs": [],
   "source": [
    "for i in county:\n",
    "    florida.loc[florida['Land_value'].isnull() & (florida.County == i), 'Land_value'] = avg_land_value[i]\n",
    "    florida.loc[(florida['Land_value'] == 0) & (florida.County == i), 'Land_value'] = avg_land_value[i]\n",
    "\n",
    "florida.loc[florida['Land_value'].isnull() & (florida.County == \"Charlotte\"), 'Land_value'] = avg_land_value.mean()"
   ]
  },
  {
   "cell_type": "code",
   "execution_count": 20,
   "metadata": {},
   "outputs": [
    {
     "data": {
      "image/png": "[encoded data removed]",
      "text/plain": [
       "<Figure size 432x288 with 1 Axes>"
      ]
     },
     "metadata": {
      "needs_background": "light"
     },
     "output_type": "display_data"
    }
   ],
   "source": [
    "plt.figure()\n",
    "\n",
    "plt.boxplot(florida[\"Land_value\"])\n",
    "\n",
    "plt.show()"
   ]
  },
  {
   "cell_type": "code",
   "execution_count": 21,
   "metadata": {
    "scrolled": true
   },
   "outputs": [],
   "source": [
    "## Concession % - Assuming it's a percentage of sales price\n",
    "\n",
    "a = []\n",
    "\n",
    "for i in range(len(florida)):\n",
    "    a.append(float(florida.Price[i])*florida[\"Avg_Concession_%\"][i])"
   ]
  },
  {
   "cell_type": "code",
   "execution_count": 22,
   "metadata": {},
   "outputs": [],
   "source": [
    "florida[\"Concession_value\"] = a"
   ]
  },
  {
   "cell_type": "code",
   "execution_count": 23,
   "metadata": {},
   "outputs": [
    {
     "data": {
      "text/html": [
       "<div>\n",
       "<style scoped>\n",
       "    .dataframe tbody tr th:only-of-type {\n",
       "        vertical-align: middle;\n",
       "    }\n",
       "\n",
       "    .dataframe tbody tr th {\n",
       "        vertical-align: top;\n",
       "    }\n",
       "\n",
       "    .dataframe thead th {\n",
       "        text-align: right;\n",
       "    }\n",
       "</style>\n",
       "<table border=\"1\" class=\"dataframe\">\n",
       "  <thead>\n",
       "    <tr style=\"text-align: right;\">\n",
       "      <th></th>\n",
       "      <th>SCAPN</th>\n",
       "      <th>SCSitus_NumNam_x</th>\n",
       "      <th>PropID</th>\n",
       "      <th>Star_rating</th>\n",
       "      <th>City</th>\n",
       "      <th>State</th>\n",
       "      <th>Zip</th>\n",
       "      <th>County</th>\n",
       "      <th>For_sale_price</th>\n",
       "      <th>For_sale_status</th>\n",
       "      <th>...</th>\n",
       "      <th>Total_value</th>\n",
       "      <th>Assessed_yr</th>\n",
       "      <th>Floor_area_ratio</th>\n",
       "      <th>Num_floors</th>\n",
       "      <th>Price_per_sqft</th>\n",
       "      <th>Land_price_per_AC</th>\n",
       "      <th>Sale_date</th>\n",
       "      <th>Sale_price</th>\n",
       "      <th>Price</th>\n",
       "      <th>Concession_value</th>\n",
       "    </tr>\n",
       "  </thead>\n",
       "  <tbody>\n",
       "    <tr>\n",
       "      <th>0</th>\n",
       "      <td>FL Pinellas 19-31-17-74466-052-0040</td>\n",
       "      <td>FL Pinellas540 2nd Ave</td>\n",
       "      <td>P2834</td>\n",
       "      <td>2</td>\n",
       "      <td>Saint Petersburg</td>\n",
       "      <td>FL</td>\n",
       "      <td>33701</td>\n",
       "      <td>Pinellas</td>\n",
       "      <td>NaN</td>\n",
       "      <td>NaN</td>\n",
       "      <td>...</td>\n",
       "      <td>NaN</td>\n",
       "      <td>NaN</td>\n",
       "      <td>NaN</td>\n",
       "      <td>NaN</td>\n",
       "      <td>NaN</td>\n",
       "      <td>NaN</td>\n",
       "      <td>NaT</td>\n",
       "      <td>NaN</td>\n",
       "      <td>10150000</td>\n",
       "      <td>71050.0</td>\n",
       "    </tr>\n",
       "    <tr>\n",
       "      <th>1</th>\n",
       "      <td>FL Pinellas 19-31-17-74466-011-0090</td>\n",
       "      <td>FL Pinellas235 3rd Ave</td>\n",
       "      <td>P2837</td>\n",
       "      <td>4</td>\n",
       "      <td>Saint Petersburg</td>\n",
       "      <td>FL</td>\n",
       "      <td>337014242</td>\n",
       "      <td>Pinellas</td>\n",
       "      <td>NaN</td>\n",
       "      <td>NaN</td>\n",
       "      <td>...</td>\n",
       "      <td>46000000.0</td>\n",
       "      <td>2015.0</td>\n",
       "      <td>3.393541</td>\n",
       "      <td>8.0</td>\n",
       "      <td>277.96</td>\n",
       "      <td>41088269.58</td>\n",
       "      <td>2016-12-14</td>\n",
       "      <td>77550000.0</td>\n",
       "      <td>7.755e+07</td>\n",
       "      <td>387750.0</td>\n",
       "    </tr>\n",
       "    <tr>\n",
       "      <th>2</th>\n",
       "      <td>FL Pinellas 19-31-17-74466-011-0090</td>\n",
       "      <td>FL Pinellas235 3rd Ave</td>\n",
       "      <td>P2837</td>\n",
       "      <td>4</td>\n",
       "      <td>Saint Petersburg</td>\n",
       "      <td>FL</td>\n",
       "      <td>337014242</td>\n",
       "      <td>Pinellas</td>\n",
       "      <td>NaN</td>\n",
       "      <td>NaN</td>\n",
       "      <td>...</td>\n",
       "      <td>66800000.0</td>\n",
       "      <td>2017.0</td>\n",
       "      <td>3.393541</td>\n",
       "      <td>8.0</td>\n",
       "      <td>NaN</td>\n",
       "      <td>NaN</td>\n",
       "      <td>2017-06-20</td>\n",
       "      <td>NaN</td>\n",
       "      <td>6.68e+07</td>\n",
       "      <td>334000.0</td>\n",
       "    </tr>\n",
       "    <tr>\n",
       "      <th>3</th>\n",
       "      <td>FL Pinellas 19-31-17-78428-002-0010</td>\n",
       "      <td>FL Pinellas430 3rd Ave</td>\n",
       "      <td>P2838</td>\n",
       "      <td>4</td>\n",
       "      <td>Saint Petersburg</td>\n",
       "      <td>FL</td>\n",
       "      <td>337013294</td>\n",
       "      <td>Pinellas</td>\n",
       "      <td>NaN</td>\n",
       "      <td>Active</td>\n",
       "      <td>...</td>\n",
       "      <td>5062770.0</td>\n",
       "      <td>2014.0</td>\n",
       "      <td>2.920778</td>\n",
       "      <td>4.0</td>\n",
       "      <td>152.81</td>\n",
       "      <td>19441376.77</td>\n",
       "      <td>2015-09-16</td>\n",
       "      <td>84500000.0</td>\n",
       "      <td>8.45e+07</td>\n",
       "      <td>591500.0</td>\n",
       "    </tr>\n",
       "    <tr>\n",
       "      <th>4</th>\n",
       "      <td>FL Pinellas 19-31-17-78428-002-0010</td>\n",
       "      <td>FL Pinellas430 3rd Ave</td>\n",
       "      <td>P2838</td>\n",
       "      <td>4</td>\n",
       "      <td>Saint Petersburg</td>\n",
       "      <td>FL</td>\n",
       "      <td>337013294</td>\n",
       "      <td>Pinellas</td>\n",
       "      <td>NaN</td>\n",
       "      <td>Active</td>\n",
       "      <td>...</td>\n",
       "      <td>5062770.0</td>\n",
       "      <td>2014.0</td>\n",
       "      <td>2.920778</td>\n",
       "      <td>4.0</td>\n",
       "      <td>56.01</td>\n",
       "      <td>7125921.87</td>\n",
       "      <td>2015-09-16</td>\n",
       "      <td>10437600.0</td>\n",
       "      <td>1.04376e+07</td>\n",
       "      <td>73063.2</td>\n",
       "    </tr>\n",
       "  </tbody>\n",
       "</table>\n",
       "<p>5 rows × 73 columns</p>\n",
       "</div>"
      ],
      "text/plain": [
       "                                 SCAPN        SCSitus_NumNam_x PropID  \\\n",
       "0  FL Pinellas 19-31-17-74466-052-0040  FL Pinellas540 2nd Ave  P2834   \n",
       "1  FL Pinellas 19-31-17-74466-011-0090  FL Pinellas235 3rd Ave  P2837   \n",
       "2  FL Pinellas 19-31-17-74466-011-0090  FL Pinellas235 3rd Ave  P2837   \n",
       "3  FL Pinellas 19-31-17-78428-002-0010  FL Pinellas430 3rd Ave  P2838   \n",
       "4  FL Pinellas 19-31-17-78428-002-0010  FL Pinellas430 3rd Ave  P2838   \n",
       "\n",
       "   Star_rating              City State        Zip    County For_sale_price  \\\n",
       "0            2  Saint Petersburg    FL  33701      Pinellas            NaN   \n",
       "1            4  Saint Petersburg    FL  337014242  Pinellas            NaN   \n",
       "2            4  Saint Petersburg    FL  337014242  Pinellas            NaN   \n",
       "3            4  Saint Petersburg    FL  337013294  Pinellas            NaN   \n",
       "4            4  Saint Petersburg    FL  337013294  Pinellas            NaN   \n",
       "\n",
       "  For_sale_status  ...  Total_value  Assessed_yr  Floor_area_ratio  \\\n",
       "0             NaN  ...          NaN          NaN               NaN   \n",
       "1             NaN  ...   46000000.0       2015.0          3.393541   \n",
       "2             NaN  ...   66800000.0       2017.0          3.393541   \n",
       "3          Active  ...    5062770.0       2014.0          2.920778   \n",
       "4          Active  ...    5062770.0       2014.0          2.920778   \n",
       "\n",
       "   Num_floors  Price_per_sqft  Land_price_per_AC  Sale_date  Sale_price  \\\n",
       "0         NaN             NaN                NaN        NaT         NaN   \n",
       "1         8.0          277.96        41088269.58 2016-12-14  77550000.0   \n",
       "2         8.0             NaN                NaN 2017-06-20         NaN   \n",
       "3         4.0          152.81        19441376.77 2015-09-16  84500000.0   \n",
       "4         4.0           56.01         7125921.87 2015-09-16  10437600.0   \n",
       "\n",
       "         Price  Concession_value  \n",
       "0     10150000           71050.0  \n",
       "1    7.755e+07          387750.0  \n",
       "2     6.68e+07          334000.0  \n",
       "3     8.45e+07          591500.0  \n",
       "4  1.04376e+07           73063.2  \n",
       "\n",
       "[5 rows x 73 columns]"
      ]
     },
     "execution_count": 23,
     "metadata": {},
     "output_type": "execute_result"
    }
   ],
   "source": [
    "florida.head()"
   ]
  },
  {
   "cell_type": "code",
   "execution_count": 24,
   "metadata": {},
   "outputs": [],
   "source": [
    "florida.to_csv(\"florida1.csv\")"
   ]
  },
  {
   "cell_type": "code",
   "execution_count": 25,
   "metadata": {},
   "outputs": [],
   "source": [
    "## Create Column for NOI\n",
    "\n",
    "b = []\n",
    "\n",
    "for i in range(len(florida)):\n",
    "    b.append((float(florida.Price[i]) - florida[\"Land_value\"][i] + florida[\"Concession_value\"][i])*florida[\"Cap_rate\"][i]/(1-florida[\"Vacancy_%\"][i]))"
   ]
  },
  {
   "cell_type": "code",
   "execution_count": 26,
   "metadata": {},
   "outputs": [],
   "source": [
    "florida[\"NOI\"] = b"
   ]
  },
  {
   "cell_type": "code",
   "execution_count": 27,
   "metadata": {},
   "outputs": [
    {
     "data": {
      "text/html": [
       "<div>\n",
       "<style scoped>\n",
       "    .dataframe tbody tr th:only-of-type {\n",
       "        vertical-align: middle;\n",
       "    }\n",
       "\n",
       "    .dataframe tbody tr th {\n",
       "        vertical-align: top;\n",
       "    }\n",
       "\n",
       "    .dataframe thead th {\n",
       "        text-align: right;\n",
       "    }\n",
       "</style>\n",
       "<table border=\"1\" class=\"dataframe\">\n",
       "  <thead>\n",
       "    <tr style=\"text-align: right;\">\n",
       "      <th></th>\n",
       "      <th>SCAPN</th>\n",
       "      <th>SCSitus_NumNam_x</th>\n",
       "      <th>PropID</th>\n",
       "      <th>Star_rating</th>\n",
       "      <th>City</th>\n",
       "      <th>State</th>\n",
       "      <th>Zip</th>\n",
       "      <th>County</th>\n",
       "      <th>For_sale_price</th>\n",
       "      <th>For_sale_status</th>\n",
       "      <th>...</th>\n",
       "      <th>Assessed_yr</th>\n",
       "      <th>Floor_area_ratio</th>\n",
       "      <th>Num_floors</th>\n",
       "      <th>Price_per_sqft</th>\n",
       "      <th>Land_price_per_AC</th>\n",
       "      <th>Sale_date</th>\n",
       "      <th>Sale_price</th>\n",
       "      <th>Price</th>\n",
       "      <th>Concession_value</th>\n",
       "      <th>NOI</th>\n",
       "    </tr>\n",
       "  </thead>\n",
       "  <tbody>\n",
       "    <tr>\n",
       "      <th>0</th>\n",
       "      <td>FL Pinellas 19-31-17-74466-052-0040</td>\n",
       "      <td>FL Pinellas540 2nd Ave</td>\n",
       "      <td>P2834</td>\n",
       "      <td>2</td>\n",
       "      <td>Saint Petersburg</td>\n",
       "      <td>FL</td>\n",
       "      <td>33701</td>\n",
       "      <td>Pinellas</td>\n",
       "      <td>NaN</td>\n",
       "      <td>NaN</td>\n",
       "      <td>...</td>\n",
       "      <td>NaN</td>\n",
       "      <td>NaN</td>\n",
       "      <td>NaN</td>\n",
       "      <td>NaN</td>\n",
       "      <td>NaN</td>\n",
       "      <td>NaT</td>\n",
       "      <td>NaN</td>\n",
       "      <td>10150000</td>\n",
       "      <td>71050.0</td>\n",
       "      <td>6.049110e+05</td>\n",
       "    </tr>\n",
       "    <tr>\n",
       "      <th>1</th>\n",
       "      <td>FL Pinellas 19-31-17-74466-011-0090</td>\n",
       "      <td>FL Pinellas235 3rd Ave</td>\n",
       "      <td>P2837</td>\n",
       "      <td>4</td>\n",
       "      <td>Saint Petersburg</td>\n",
       "      <td>FL</td>\n",
       "      <td>337014242</td>\n",
       "      <td>Pinellas</td>\n",
       "      <td>NaN</td>\n",
       "      <td>NaN</td>\n",
       "      <td>...</td>\n",
       "      <td>2015.0</td>\n",
       "      <td>3.393541</td>\n",
       "      <td>8.0</td>\n",
       "      <td>277.96</td>\n",
       "      <td>41088269.58</td>\n",
       "      <td>2016-12-14</td>\n",
       "      <td>77550000.0</td>\n",
       "      <td>7.755e+07</td>\n",
       "      <td>387750.0</td>\n",
       "      <td>5.536632e+06</td>\n",
       "    </tr>\n",
       "    <tr>\n",
       "      <th>2</th>\n",
       "      <td>FL Pinellas 19-31-17-74466-011-0090</td>\n",
       "      <td>FL Pinellas235 3rd Ave</td>\n",
       "      <td>P2837</td>\n",
       "      <td>4</td>\n",
       "      <td>Saint Petersburg</td>\n",
       "      <td>FL</td>\n",
       "      <td>337014242</td>\n",
       "      <td>Pinellas</td>\n",
       "      <td>NaN</td>\n",
       "      <td>NaN</td>\n",
       "      <td>...</td>\n",
       "      <td>2017.0</td>\n",
       "      <td>3.393541</td>\n",
       "      <td>8.0</td>\n",
       "      <td>NaN</td>\n",
       "      <td>NaN</td>\n",
       "      <td>2017-06-20</td>\n",
       "      <td>NaN</td>\n",
       "      <td>6.68e+07</td>\n",
       "      <td>334000.0</td>\n",
       "      <td>4.612948e+06</td>\n",
       "    </tr>\n",
       "    <tr>\n",
       "      <th>3</th>\n",
       "      <td>FL Pinellas 19-31-17-78428-002-0010</td>\n",
       "      <td>FL Pinellas430 3rd Ave</td>\n",
       "      <td>P2838</td>\n",
       "      <td>4</td>\n",
       "      <td>Saint Petersburg</td>\n",
       "      <td>FL</td>\n",
       "      <td>337013294</td>\n",
       "      <td>Pinellas</td>\n",
       "      <td>NaN</td>\n",
       "      <td>Active</td>\n",
       "      <td>...</td>\n",
       "      <td>2014.0</td>\n",
       "      <td>2.920778</td>\n",
       "      <td>4.0</td>\n",
       "      <td>152.81</td>\n",
       "      <td>19441376.77</td>\n",
       "      <td>2015-09-16</td>\n",
       "      <td>84500000.0</td>\n",
       "      <td>8.45e+07</td>\n",
       "      <td>591500.0</td>\n",
       "      <td>3.817694e+06</td>\n",
       "    </tr>\n",
       "    <tr>\n",
       "      <th>4</th>\n",
       "      <td>FL Pinellas 19-31-17-78428-002-0010</td>\n",
       "      <td>FL Pinellas430 3rd Ave</td>\n",
       "      <td>P2838</td>\n",
       "      <td>4</td>\n",
       "      <td>Saint Petersburg</td>\n",
       "      <td>FL</td>\n",
       "      <td>337013294</td>\n",
       "      <td>Pinellas</td>\n",
       "      <td>NaN</td>\n",
       "      <td>Active</td>\n",
       "      <td>...</td>\n",
       "      <td>2014.0</td>\n",
       "      <td>2.920778</td>\n",
       "      <td>4.0</td>\n",
       "      <td>56.01</td>\n",
       "      <td>7125921.87</td>\n",
       "      <td>2015-09-16</td>\n",
       "      <td>10437600.0</td>\n",
       "      <td>1.04376e+07</td>\n",
       "      <td>73063.2</td>\n",
       "      <td>4.120798e+05</td>\n",
       "    </tr>\n",
       "  </tbody>\n",
       "</table>\n",
       "<p>5 rows × 74 columns</p>\n",
       "</div>"
      ],
      "text/plain": [
       "                                 SCAPN        SCSitus_NumNam_x PropID  \\\n",
       "0  FL Pinellas 19-31-17-74466-052-0040  FL Pinellas540 2nd Ave  P2834   \n",
       "1  FL Pinellas 19-31-17-74466-011-0090  FL Pinellas235 3rd Ave  P2837   \n",
       "2  FL Pinellas 19-31-17-74466-011-0090  FL Pinellas235 3rd Ave  P2837   \n",
       "3  FL Pinellas 19-31-17-78428-002-0010  FL Pinellas430 3rd Ave  P2838   \n",
       "4  FL Pinellas 19-31-17-78428-002-0010  FL Pinellas430 3rd Ave  P2838   \n",
       "\n",
       "   Star_rating              City State        Zip    County For_sale_price  \\\n",
       "0            2  Saint Petersburg    FL  33701      Pinellas            NaN   \n",
       "1            4  Saint Petersburg    FL  337014242  Pinellas            NaN   \n",
       "2            4  Saint Petersburg    FL  337014242  Pinellas            NaN   \n",
       "3            4  Saint Petersburg    FL  337013294  Pinellas            NaN   \n",
       "4            4  Saint Petersburg    FL  337013294  Pinellas            NaN   \n",
       "\n",
       "  For_sale_status  ...  Assessed_yr  Floor_area_ratio  Num_floors  \\\n",
       "0             NaN  ...          NaN               NaN         NaN   \n",
       "1             NaN  ...       2015.0          3.393541         8.0   \n",
       "2             NaN  ...       2017.0          3.393541         8.0   \n",
       "3          Active  ...       2014.0          2.920778         4.0   \n",
       "4          Active  ...       2014.0          2.920778         4.0   \n",
       "\n",
       "   Price_per_sqft  Land_price_per_AC  Sale_date  Sale_price        Price  \\\n",
       "0             NaN                NaN        NaT         NaN     10150000   \n",
       "1          277.96        41088269.58 2016-12-14  77550000.0    7.755e+07   \n",
       "2             NaN                NaN 2017-06-20         NaN     6.68e+07   \n",
       "3          152.81        19441376.77 2015-09-16  84500000.0     8.45e+07   \n",
       "4           56.01         7125921.87 2015-09-16  10437600.0  1.04376e+07   \n",
       "\n",
       "  Concession_value           NOI  \n",
       "0          71050.0  6.049110e+05  \n",
       "1         387750.0  5.536632e+06  \n",
       "2         334000.0  4.612948e+06  \n",
       "3         591500.0  3.817694e+06  \n",
       "4          73063.2  4.120798e+05  \n",
       "\n",
       "[5 rows x 74 columns]"
      ]
     },
     "execution_count": 27,
     "metadata": {},
     "output_type": "execute_result"
    }
   ],
   "source": [
    "florida.head()"
   ]
  },
  {
   "cell_type": "code",
   "execution_count": 28,
   "metadata": {},
   "outputs": [],
   "source": [
    "florida = florida.drop(florida[florida.NOI<0].index, axis = 0)"
   ]
  },
  {
   "cell_type": "code",
   "execution_count": 29,
   "metadata": {},
   "outputs": [
    {
     "data": {
      "text/plain": [
       "(3824, 74)"
      ]
     },
     "execution_count": 29,
     "metadata": {},
     "output_type": "execute_result"
    }
   ],
   "source": [
    "florida.shape"
   ]
  },
  {
   "cell_type": "code",
   "execution_count": 30,
   "metadata": {},
   "outputs": [],
   "source": [
    "florida.to_csv(\"FL_NOI.csv\")"
   ]
  },
  {
   "cell_type": "code",
   "execution_count": 31,
   "metadata": {},
   "outputs": [
    {
     "data": {
      "image/png": "[encoded data removed]",
      "text/plain": [
       "<Figure size 432x288 with 1 Axes>"
      ]
     },
     "metadata": {
      "needs_background": "light"
     },
     "output_type": "display_data"
    }
   ],
   "source": [
    "plt.figure()\n",
    "\n",
    "plt.scatter(florida.Year_built, florida.NOI)\n",
    "\n",
    "\n",
    "plt.show()"
   ]
  },
  {
   "cell_type": "code",
   "execution_count": null,
   "metadata": {},
   "outputs": [],
   "source": []
  },
  {
   "cell_type": "code",
   "execution_count": null,
   "metadata": {},
   "outputs": [],
   "source": []
  }
 ],
 "metadata": {
  "kernelspec": {
   "display_name": "Python 3",
   "language": "python",
   "name": "python3"
  },
  "language_info": {
   "codemirror_mode": {
    "name": "ipython",
    "version": 3
   },
   "file_extension": ".py",
   "mimetype": "text/x-python",
   "name": "python",
   "nbconvert_exporter": "python",
   "pygments_lexer": "ipython3",
   "version": "3.7.3"
  }
 },
 "nbformat": 4,
 "nbformat_minor": 2
}
