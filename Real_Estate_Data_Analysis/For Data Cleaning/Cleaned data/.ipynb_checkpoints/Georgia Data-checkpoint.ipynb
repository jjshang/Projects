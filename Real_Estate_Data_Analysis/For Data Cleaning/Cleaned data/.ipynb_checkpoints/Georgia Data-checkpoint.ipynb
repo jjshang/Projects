{
 "cells": [
  {
   "cell_type": "code",
   "execution_count": 1,
   "metadata": {},
   "outputs": [],
   "source": [
    "import numpy as np\n",
    "import pandas as pd\n",
    "import matplotlib.pyplot as plt\n",
    "import seaborn as sns"
   ]
  },
  {
   "cell_type": "code",
   "execution_count": 2,
   "metadata": {},
   "outputs": [],
   "source": [
    "georgia = pd.read_csv(\"Georgia_all_data.csv\")\n"
   ]
  },
  {
   "cell_type": "code",
   "execution_count": 3,
   "metadata": {},
   "outputs": [
    {
     "data": {
      "text/plain": [
       "Index(['Unnamed: 0', 'Unnamed: 0_x', 'SCAPN', 'SCSitus_NumNam_x', 'PropID',\n",
       "       'Star_rating', 'City', 'State', 'Zip', 'County', 'For_sale_price',\n",
       "       'For_sale_status', 'Land_area', 'Num_units', 'Cap_rate', 'Vacancy_%',\n",
       "       'Avg_unit_sqft', 'Avg_Concession_%', 'Parking_per_unit', 'Days_on_mkt',\n",
       "       'Amenities', 'Year_built', 'Year_reno', 'Last_sale_date',\n",
       "       'Last_sale_price', 'Transit_dist_mile', 'Transit_walk_time_min',\n",
       "       'Const_material', 'Num_studio', 'Studio_rent_sqft', 'Studio_avg_sqft',\n",
       "       'Studio_concession_%', 'Studio_vacancy_%', 'Num_1_bed',\n",
       "       '1_bed_rent_sqft', '1_bed_avg_sqft', '1_bed_concession_%',\n",
       "       '1_bed_vacancy_%', 'Num_2_bed', '2_bed_rent_sqft', '2_bed_avg_sqft',\n",
       "       '2_bed_concession_%', '2_bed_vacancy_%', 'Num_3_bed', '3_bed_rent_sqft',\n",
       "       '3_bed_avg_sqft', '3_bed_concession_%', '3_bed_vacancy_%', 'Num_4_bed',\n",
       "       '4_bed_rent_sqft', '4_bed_avg_sqft', '4_bed_concession_%',\n",
       "       '4_bed_vacancy_%', '2010_Avg_age', '2019_Avg_age', '2019_Pop_25_39',\n",
       "       '2024_Avg_age', '2024_Pop_25_39', 'Unnamed: 0_y', 'SID',\n",
       "       'SCSitus_NumNam_y', 'Building_age', 'Cap_rate_pro_forma',\n",
       "       'Cap_rate_actual', 'Land_value', 'Total_value', 'Assessed_yr',\n",
       "       'Floor_area_ratio', 'Num_floors', 'Price_per_sqft', 'Land_price_per_AC',\n",
       "       'Sale_date', 'Sale_price'],\n",
       "      dtype='object')"
      ]
     },
     "execution_count": 3,
     "metadata": {},
     "output_type": "execute_result"
    }
   ],
   "source": [
    "georgia.columns.unique()"
   ]
  },
  {
   "cell_type": "code",
   "execution_count": 4,
   "metadata": {},
   "outputs": [],
   "source": [
    "## Convert columns to proper format\n",
    "georgia.Last_sale_date = pd.to_datetime(georgia.Last_sale_date)\n",
    "georgia.Sale_date = pd.to_datetime(georgia.Sale_date)\n",
    "georgia['Vacancy_%'] = georgia['Vacancy_%']/100\n",
    "georgia.Cap_rate = georgia.Cap_rate / 100\n",
    "georgia[\"Avg_Concession_%\"] =georgia[\"Avg_Concession_%\"]/100\n",
    "georgia[\"Cap_rate_pro_forma\"] = georgia[\"Cap_rate_pro_forma\"]/100\n",
    "georgia[\"Cap_rate_actual\"] = georgia[\"Cap_rate_actual\"]/100\n",
    "georgia[\"Last_sale_price\"] = georgia[\"Last_sale_price\"].str.replace(\",\", \"\")\n",
    "\n",
    "\n",
    "georgia[\"Studio_concession_%\"] = georgia[\"Studio_concession_%\"]/100\n",
    "georgia[\"Studio_vacancy_%\"] = georgia[\"Studio_vacancy_%\"]/100\n",
    "georgia[\"1_bed_concession_%\"] = georgia[\"1_bed_concession_%\"]/100\n",
    "georgia[\"1_bed_vacancy_%\"] = georgia[\"1_bed_vacancy_%\"]/100\n",
    "georgia[\"2_bed_concession_%\"] = georgia[\"2_bed_concession_%\"]/100\n",
    "georgia[\"2_bed_vacancy_%\"] = georgia[\"2_bed_vacancy_%\"]/100\n",
    "georgia[\"3_bed_concession_%\"] = georgia[\"3_bed_concession_%\"]/100\n",
    "georgia[\"3_bed_vacancy_%\"] = georgia[\"3_bed_vacancy_%\"]/100\n",
    "georgia[\"4_bed_concession_%\"] = georgia[\"4_bed_concession_%\"]/100\n",
    "georgia[\"4_bed_vacancy_%\"] = georgia[\"4_bed_vacancy_%\"]/100"
   ]
  },
  {
   "cell_type": "markdown",
   "metadata": {},
   "source": [
    "## To Calculate NOI, we need Sales Price, Cap rate, Land value, Concession, Vacancy%"
   ]
  },
  {
   "cell_type": "code",
   "execution_count": 5,
   "metadata": {},
   "outputs": [],
   "source": [
    "## Create a final Price column\n",
    "georgia[\"Price\"] = georgia.Sale_price"
   ]
  },
  {
   "cell_type": "code",
   "execution_count": 6,
   "metadata": {},
   "outputs": [],
   "source": [
    "### Fill in the null value with approximates\n",
    "georgia[\"Price\"].fillna(georgia[\"Last_sale_price\"], inplace = True)\n",
    "georgia.Price.fillna((georgia[\"Total_value\"]), inplace = True)"
   ]
  },
  {
   "cell_type": "code",
   "execution_count": 7,
   "metadata": {},
   "outputs": [],
   "source": [
    "## Remove entries with null sales price\n",
    "georgia = georgia.dropna(subset = [\"Price\"]).reset_index()\n",
    "georgia = georgia.drop(georgia.columns[0], axis = 1)"
   ]
  },
  {
   "cell_type": "code",
   "execution_count": 8,
   "metadata": {},
   "outputs": [
    {
     "data": {
      "text/plain": [
       "(2535, 74)"
      ]
     },
     "execution_count": 8,
     "metadata": {},
     "output_type": "execute_result"
    }
   ],
   "source": [
    "georgia.shape"
   ]
  },
  {
   "cell_type": "code",
   "execution_count": 9,
   "metadata": {},
   "outputs": [],
   "source": [
    "### In the case of no approximates, use average cap rate for city\n",
    "\n",
    "avg_cap_rate = georgia.groupby(\"State\")[\"Cap_rate\"].mean()"
   ]
  },
  {
   "cell_type": "code",
   "execution_count": 10,
   "metadata": {},
   "outputs": [
    {
     "data": {
      "text/plain": [
       "State\n",
       "GA   NaN\n",
       "Name: Cap_rate, dtype: float64"
      ]
     },
     "execution_count": 10,
     "metadata": {},
     "output_type": "execute_result"
    }
   ],
   "source": [
    "avg_cap_rate"
   ]
  },
  {
   "cell_type": "code",
   "execution_count": 11,
   "metadata": {},
   "outputs": [],
   "source": [
    "## Create general cap rate column and fill in the null value with approximates\n",
    "\n",
    "georgia.Cap_rate.fillna(georgia[\"Cap_rate_actual\"], inplace = True)\n",
    "georgia.Cap_rate.fillna(georgia[\"Cap_rate_pro_forma\"], inplace = True)\n"
   ]
  },
  {
   "cell_type": "code",
   "execution_count": 12,
   "metadata": {},
   "outputs": [],
   "source": [
    "avg_cap_rate = georgia.groupby(\"State\")[\"Cap_rate\"].mean()"
   ]
  },
  {
   "cell_type": "code",
   "execution_count": 13,
   "metadata": {},
   "outputs": [
    {
     "data": {
      "text/plain": [
       "State\n",
       "GA    0.065896\n",
       "Name: Cap_rate, dtype: float64"
      ]
     },
     "execution_count": 13,
     "metadata": {},
     "output_type": "execute_result"
    }
   ],
   "source": [
    "avg_cap_rate"
   ]
  },
  {
   "cell_type": "code",
   "execution_count": 14,
   "metadata": {},
   "outputs": [],
   "source": [
    "georgia.Cap_rate.fillna(avg_cap_rate[0], inplace = True)"
   ]
  },
  {
   "cell_type": "code",
   "execution_count": 15,
   "metadata": {},
   "outputs": [],
   "source": [
    "## Remove entry with null cap rate\n",
    "georgia = georgia.dropna(subset = [\"Cap_rate\"])"
   ]
  },
  {
   "cell_type": "code",
   "execution_count": 16,
   "metadata": {},
   "outputs": [
    {
     "data": {
      "text/plain": [
       "(2535, 74)"
      ]
     },
     "execution_count": 16,
     "metadata": {},
     "output_type": "execute_result"
    }
   ],
   "source": [
    "georgia.shape"
   ]
  },
  {
   "cell_type": "code",
   "execution_count": 17,
   "metadata": {},
   "outputs": [
    {
     "data": {
      "text/plain": [
       "County\n",
       "Baldwin      4.800000e+04\n",
       "Barrow                NaN\n",
       "Bartow       2.765105e+05\n",
       "Bibb         6.469543e+05\n",
       "Bryan        1.548333e+06\n",
       "Bulloch      1.440685e+06\n",
       "Camden       7.073315e+05\n",
       "Carroll      4.533575e+05\n",
       "Catoosa               NaN\n",
       "Chatham      5.272833e+05\n",
       "Cherokee     3.938261e+06\n",
       "Clarke       1.556331e+06\n",
       "Clayton      1.325171e+06\n",
       "Cobb         3.947003e+06\n",
       "Colquitt     2.036280e+05\n",
       "Columbia     5.385404e+05\n",
       "Coweta       2.127261e+06\n",
       "Dawson       3.450000e+06\n",
       "DeKalb       3.822421e+06\n",
       "Dougherty    2.233737e+05\n",
       "Douglas      1.446331e+06\n",
       "Effingham    1.972186e+06\n",
       "Fayette      1.792516e+06\n",
       "Floyd        3.662295e+05\n",
       "Forsyth      5.762600e+06\n",
       "Franklin     8.931000e+04\n",
       "Fulton       6.210750e+06\n",
       "Glynn        4.092538e+05\n",
       "Gordon                NaN\n",
       "Gwinnett     4.354328e+06\n",
       "Hall         7.930960e+05\n",
       "Henry        2.201628e+06\n",
       "Houston      6.419250e+05\n",
       "Jackson      5.484380e+05\n",
       "Laurens      2.814000e+04\n",
       "Liberty      7.370333e+05\n",
       "Lowndes      1.179824e+06\n",
       "Muscogee     9.407285e+05\n",
       "Newton       4.459000e+05\n",
       "Oconee                NaN\n",
       "Paulding              NaN\n",
       "Peach        4.850000e+05\n",
       "Pickens               NaN\n",
       "Putnam       5.983000e+05\n",
       "Richmond     1.550795e+05\n",
       "Rockdale     7.023256e+05\n",
       "Spalding     5.139940e+05\n",
       "Thomas       3.683250e+05\n",
       "Troup        1.008975e+06\n",
       "Walker       9.750000e+04\n",
       "Walton       2.109450e+06\n",
       "Whitfield    3.163734e+05\n",
       "Name: Land_value, dtype: float64"
      ]
     },
     "execution_count": 17,
     "metadata": {},
     "output_type": "execute_result"
    }
   ],
   "source": [
    "## Generate general Land value \n",
    "avg_land_value = georgia.groupby(\"County\")[\"Land_value\"].mean()\n",
    "avg_land_value"
   ]
  },
  {
   "cell_type": "code",
   "execution_count": 18,
   "metadata": {},
   "outputs": [
    {
     "data": {
      "text/plain": [
       "array(['Fulton', 'Muscogee', 'Richmond', 'Pickens', 'Whitfield',\n",
       "       'Rockdale', 'Newton', 'Spalding', 'Thomas', 'Troup', 'Walton',\n",
       "       'Paulding', 'Oconee', 'Putnam', 'Walker', 'Peach', 'Gwinnett',\n",
       "       'Forsyth', 'Glynn', 'Lowndes', 'Liberty', 'Hall', 'Houston',\n",
       "       'Laurens', 'Henry', 'Floyd', 'Jackson', 'Gordon', 'Franklin',\n",
       "       'DeKalb', 'Fayette', 'Douglas', 'Dougherty', 'Effingham',\n",
       "       'Colquitt', 'Cobb', 'Columbia', 'Clayton', 'Coweta', 'Dawson',\n",
       "       'Clarke', 'Chatham', 'Cherokee', 'Bibb', 'Bulloch', 'Carroll',\n",
       "       'Bryan', 'Camden', 'Baldwin', 'Catoosa', 'Barrow', 'Bartow'],\n",
       "      dtype=object)"
      ]
     },
     "execution_count": 18,
     "metadata": {},
     "output_type": "execute_result"
    }
   ],
   "source": [
    "county = georgia.County.unique()\n",
    "county"
   ]
  },
  {
   "cell_type": "code",
   "execution_count": 19,
   "metadata": {},
   "outputs": [],
   "source": [
    "for i in county:\n",
    "    georgia.loc[georgia['Land_value'].isnull() & (georgia.County == i), 'Land_value'] = avg_land_value[i]\n",
    "    georgia.loc[(georgia['Land_value'] == 0) & (georgia.County == i), 'Land_value'] = avg_land_value[i]\n",
    "\n",
    "georgia.loc[georgia['Land_value'].isnull() & (georgia.County == \"Barrow\"), 'Land_value'] = avg_land_value.mean()\n",
    "georgia.loc[georgia['Land_value'].isnull() & (georgia.County == \"Catoosa\"), 'Land_value'] = avg_land_value.mean()\n",
    "georgia.loc[georgia['Land_value'].isnull() & (georgia.County == \"Gordon\"), 'Land_value'] = avg_land_value.mean()\n",
    "georgia.loc[georgia['Land_value'].isnull() & (georgia.County == \"Oconee\"), 'Land_value'] = avg_land_value.mean()\n",
    "georgia.loc[georgia['Land_value'].isnull() & (georgia.County == \"Paulding\"), 'Land_value'] = avg_land_value.mean()\n",
    "georgia.loc[georgia['Land_value'].isnull() & (georgia.County == \"Pickens\"), 'Land_value'] = avg_land_value.mean()"
   ]
  },
  {
   "cell_type": "code",
   "execution_count": 20,
   "metadata": {},
   "outputs": [
    {
     "data": {
      "image/png": "[encoded data removed]",
      "text/plain": [
       "<Figure size 432x288 with 1 Axes>"
      ]
     },
     "metadata": {
      "needs_background": "light"
     },
     "output_type": "display_data"
    }
   ],
   "source": [
    "plt.figure()\n",
    "\n",
    "plt.boxplot(georgia[\"Land_value\"])\n",
    "\n",
    "plt.show()"
   ]
  },
  {
   "cell_type": "code",
   "execution_count": 21,
   "metadata": {},
   "outputs": [],
   "source": [
    "## Concession % - Assuming it's a percentage of sales price\n",
    "\n",
    "a = []\n",
    "\n",
    "for i in range(len(georgia)):\n",
    "    a.append(float(georgia.Price[i])*georgia[\"Avg_Concession_%\"][i])"
   ]
  },
  {
   "cell_type": "code",
   "execution_count": 22,
   "metadata": {},
   "outputs": [],
   "source": [
    "georgia[\"Concession_value\"] = a"
   ]
  },
  {
   "cell_type": "code",
   "execution_count": 23,
   "metadata": {},
   "outputs": [],
   "source": [
    "## Create Column for NOI\n",
    "\n",
    "b = []\n",
    "\n",
    "for i in range(len(georgia)):\n",
    "    b.append((float(georgia.Price[i]) - georgia[\"Land_value\"][i] + georgia[\"Concession_value\"][i])\\\n",
    "             *georgia[\"Cap_rate\"][i]/(1-georgia[\"Vacancy_%\"][i]))"
   ]
  },
  {
   "cell_type": "code",
   "execution_count": 24,
   "metadata": {},
   "outputs": [],
   "source": [
    "georgia[\"NOI\"] = b"
   ]
  },
  {
   "cell_type": "code",
   "execution_count": 25,
   "metadata": {},
   "outputs": [
    {
     "data": {
      "text/html": [
       "<div>\n",
       "<style scoped>\n",
       "    .dataframe tbody tr th:only-of-type {\n",
       "        vertical-align: middle;\n",
       "    }\n",
       "\n",
       "    .dataframe tbody tr th {\n",
       "        vertical-align: top;\n",
       "    }\n",
       "\n",
       "    .dataframe thead th {\n",
       "        text-align: right;\n",
       "    }\n",
       "</style>\n",
       "<table border=\"1\" class=\"dataframe\">\n",
       "  <thead>\n",
       "    <tr style=\"text-align: right;\">\n",
       "      <th></th>\n",
       "      <th>Unnamed: 0</th>\n",
       "      <th>Unnamed: 0_x</th>\n",
       "      <th>SCAPN</th>\n",
       "      <th>SCSitus_NumNam_x</th>\n",
       "      <th>PropID</th>\n",
       "      <th>Star_rating</th>\n",
       "      <th>City</th>\n",
       "      <th>State</th>\n",
       "      <th>Zip</th>\n",
       "      <th>County</th>\n",
       "      <th>...</th>\n",
       "      <th>Assessed_yr</th>\n",
       "      <th>Floor_area_ratio</th>\n",
       "      <th>Num_floors</th>\n",
       "      <th>Price_per_sqft</th>\n",
       "      <th>Land_price_per_AC</th>\n",
       "      <th>Sale_date</th>\n",
       "      <th>Sale_price</th>\n",
       "      <th>Price</th>\n",
       "      <th>Concession_value</th>\n",
       "      <th>NOI</th>\n",
       "    </tr>\n",
       "  </thead>\n",
       "  <tbody>\n",
       "    <tr>\n",
       "      <th>0</th>\n",
       "      <td>0</td>\n",
       "      <td>0</td>\n",
       "      <td>GA Fulton 11-1000-0359-034</td>\n",
       "      <td>GA Fulton6215 Johns Creek Cmn</td>\n",
       "      <td>P1</td>\n",
       "      <td>4</td>\n",
       "      <td>Johns Creek</td>\n",
       "      <td>GA</td>\n",
       "      <td>300971535</td>\n",
       "      <td>Fulton</td>\n",
       "      <td>...</td>\n",
       "      <td>NaN</td>\n",
       "      <td>0.668394</td>\n",
       "      <td>3.0</td>\n",
       "      <td>180.16</td>\n",
       "      <td>5245535.71</td>\n",
       "      <td>2017-08-01</td>\n",
       "      <td>47000000.0</td>\n",
       "      <td>4.7e+07</td>\n",
       "      <td>658000.0</td>\n",
       "      <td>2.165252e+06</td>\n",
       "    </tr>\n",
       "    <tr>\n",
       "      <th>1</th>\n",
       "      <td>1</td>\n",
       "      <td>0</td>\n",
       "      <td>GA Fulton 11-1000-0359-034</td>\n",
       "      <td>GA Fulton6215 Johns Creek Cmn</td>\n",
       "      <td>P1</td>\n",
       "      <td>4</td>\n",
       "      <td>Johns Creek</td>\n",
       "      <td>GA</td>\n",
       "      <td>300971535</td>\n",
       "      <td>Fulton</td>\n",
       "      <td>...</td>\n",
       "      <td>2011.0</td>\n",
       "      <td>0.668394</td>\n",
       "      <td>3.0</td>\n",
       "      <td>142.98</td>\n",
       "      <td>4162946.43</td>\n",
       "      <td>2013-03-30</td>\n",
       "      <td>37300000.0</td>\n",
       "      <td>3.73e+07</td>\n",
       "      <td>522200.0</td>\n",
       "      <td>2.097993e+06</td>\n",
       "    </tr>\n",
       "    <tr>\n",
       "      <th>2</th>\n",
       "      <td>4</td>\n",
       "      <td>3</td>\n",
       "      <td>GA Fulton 17-0106-0009-120-4</td>\n",
       "      <td>GA Fulton250 10th St</td>\n",
       "      <td>P4</td>\n",
       "      <td>4</td>\n",
       "      <td>Atlanta</td>\n",
       "      <td>GA</td>\n",
       "      <td>303093735</td>\n",
       "      <td>Fulton</td>\n",
       "      <td>...</td>\n",
       "      <td>NaN</td>\n",
       "      <td>NaN</td>\n",
       "      <td>NaN</td>\n",
       "      <td>NaN</td>\n",
       "      <td>NaN</td>\n",
       "      <td>NaT</td>\n",
       "      <td>NaN</td>\n",
       "      <td>25347300</td>\n",
       "      <td>152083.8</td>\n",
       "      <td>1.334985e+06</td>\n",
       "    </tr>\n",
       "    <tr>\n",
       "      <th>3</th>\n",
       "      <td>5</td>\n",
       "      <td>4</td>\n",
       "      <td>GA Fulton 17-0107-0006-060-4</td>\n",
       "      <td>GA Fulton100 10th St</td>\n",
       "      <td>P5</td>\n",
       "      <td>3</td>\n",
       "      <td>Atlanta</td>\n",
       "      <td>GA</td>\n",
       "      <td>30309</td>\n",
       "      <td>Fulton</td>\n",
       "      <td>...</td>\n",
       "      <td>NaN</td>\n",
       "      <td>NaN</td>\n",
       "      <td>NaN</td>\n",
       "      <td>NaN</td>\n",
       "      <td>NaN</td>\n",
       "      <td>NaT</td>\n",
       "      <td>NaN</td>\n",
       "      <td>22330000</td>\n",
       "      <td>223300.0</td>\n",
       "      <td>1.210277e+06</td>\n",
       "    </tr>\n",
       "    <tr>\n",
       "      <th>4</th>\n",
       "      <td>7</td>\n",
       "      <td>6</td>\n",
       "      <td>GA Fulton 17-0106-0004-032-6</td>\n",
       "      <td>GA Fulton 48-80 12th St</td>\n",
       "      <td>P7</td>\n",
       "      <td>2</td>\n",
       "      <td>Atlanta</td>\n",
       "      <td>GA</td>\n",
       "      <td>303093948</td>\n",
       "      <td>Fulton</td>\n",
       "      <td>...</td>\n",
       "      <td>NaN</td>\n",
       "      <td>0.948173</td>\n",
       "      <td>2.0</td>\n",
       "      <td>4.62</td>\n",
       "      <td>190814.17</td>\n",
       "      <td>2012-08-29</td>\n",
       "      <td>279600.0</td>\n",
       "      <td>279600</td>\n",
       "      <td>559.2</td>\n",
       "      <td>NaN</td>\n",
       "    </tr>\n",
       "  </tbody>\n",
       "</table>\n",
       "<p>5 rows × 76 columns</p>\n",
       "</div>"
      ],
      "text/plain": [
       "   Unnamed: 0  Unnamed: 0_x                         SCAPN  \\\n",
       "0           0             0    GA Fulton 11-1000-0359-034   \n",
       "1           1             0    GA Fulton 11-1000-0359-034   \n",
       "2           4             3  GA Fulton 17-0106-0009-120-4   \n",
       "3           5             4  GA Fulton 17-0107-0006-060-4   \n",
       "4           7             6  GA Fulton 17-0106-0004-032-6   \n",
       "\n",
       "                SCSitus_NumNam_x PropID  Star_rating         City State  \\\n",
       "0  GA Fulton6215 Johns Creek Cmn     P1            4  Johns Creek    GA   \n",
       "1  GA Fulton6215 Johns Creek Cmn     P1            4  Johns Creek    GA   \n",
       "2           GA Fulton250 10th St     P4            4      Atlanta    GA   \n",
       "3           GA Fulton100 10th St     P5            3      Atlanta    GA   \n",
       "4        GA Fulton 48-80 12th St     P7            2      Atlanta    GA   \n",
       "\n",
       "         Zip  County  ...  Assessed_yr Floor_area_ratio  Num_floors  \\\n",
       "0  300971535  Fulton  ...          NaN         0.668394         3.0   \n",
       "1  300971535  Fulton  ...       2011.0         0.668394         3.0   \n",
       "2  303093735  Fulton  ...          NaN              NaN         NaN   \n",
       "3      30309  Fulton  ...          NaN              NaN         NaN   \n",
       "4  303093948  Fulton  ...          NaN         0.948173         2.0   \n",
       "\n",
       "   Price_per_sqft  Land_price_per_AC  Sale_date  Sale_price     Price  \\\n",
       "0          180.16         5245535.71 2017-08-01  47000000.0   4.7e+07   \n",
       "1          142.98         4162946.43 2013-03-30  37300000.0  3.73e+07   \n",
       "2             NaN                NaN        NaT         NaN  25347300   \n",
       "3             NaN                NaN        NaT         NaN  22330000   \n",
       "4            4.62          190814.17 2012-08-29    279600.0    279600   \n",
       "\n",
       "   Concession_value           NOI  \n",
       "0          658000.0  2.165252e+06  \n",
       "1          522200.0  2.097993e+06  \n",
       "2          152083.8  1.334985e+06  \n",
       "3          223300.0  1.210277e+06  \n",
       "4             559.2           NaN  \n",
       "\n",
       "[5 rows x 76 columns]"
      ]
     },
     "execution_count": 25,
     "metadata": {},
     "output_type": "execute_result"
    }
   ],
   "source": [
    "georgia.head()"
   ]
  },
  {
   "cell_type": "code",
   "execution_count": 26,
   "metadata": {},
   "outputs": [],
   "source": [
    "## Remove negative NOI that doesn't make sense\n",
    "georgia = georgia.drop(georgia[georgia.NOI<0].index, axis = 0)"
   ]
  },
  {
   "cell_type": "code",
   "execution_count": 27,
   "metadata": {},
   "outputs": [],
   "source": [
    "georgia.to_csv(\"GA_NOI.csv\")"
   ]
  },
  {
   "cell_type": "code",
   "execution_count": null,
   "metadata": {},
   "outputs": [],
   "source": []
  }
 ],
 "metadata": {
  "kernelspec": {
   "display_name": "Python 3",
   "language": "python",
   "name": "python3"
  },
  "language_info": {
   "codemirror_mode": {
    "name": "ipython",
    "version": 3
   },
   "file_extension": ".py",
   "mimetype": "text/x-python",
   "name": "python",
   "nbconvert_exporter": "python",
   "pygments_lexer": "ipython3",
   "version": "3.7.3"
  }
 },
 "nbformat": 4,
 "nbformat_minor": 2
}
