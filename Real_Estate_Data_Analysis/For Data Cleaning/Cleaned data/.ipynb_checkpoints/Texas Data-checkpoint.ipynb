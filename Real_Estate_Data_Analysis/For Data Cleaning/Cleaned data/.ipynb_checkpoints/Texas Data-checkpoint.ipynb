{
 "cells": [
  {
   "cell_type": "code",
   "execution_count": 1,
   "metadata": {},
   "outputs": [],
   "source": [
    "import numpy as np\n",
    "import pandas as pd\n",
    "import matplotlib.pyplot as plt\n",
    "import seaborn as sns"
   ]
  },
  {
   "cell_type": "code",
   "execution_count": 2,
   "metadata": {},
   "outputs": [],
   "source": [
    "texas = pd.read_csv(\"Texas_all_data.csv\")\n"
   ]
  },
  {
   "cell_type": "code",
   "execution_count": 3,
   "metadata": {},
   "outputs": [
    {
     "data": {
      "text/plain": [
       "Index(['Unnamed: 0', 'Unnamed: 0_x', 'SCAPN', 'SCSitus_NumNam_x', 'PropID',\n",
       "       'Star_rating', 'City', 'State', 'Zip', 'County', 'For_sale_price',\n",
       "       'For_sale_status', 'Land_area', 'Num_units', 'Cap_rate', 'Vacancy_%',\n",
       "       'Avg_unit_sqft', 'Avg_Concession_%', 'Parking_per_unit', 'Days_on_mkt',\n",
       "       'Amenities', 'Year_built', 'Year_reno', 'Last_sale_date',\n",
       "       'Last_sale_price', 'Transit_dist_mile', 'Transit_walk_time_min',\n",
       "       'Const_material', 'Num_studio', 'Studio_rent_sqft', 'Studio_avg_sqft',\n",
       "       'Studio_concession_%', 'Studio_vacancy_%', 'Num_1_bed',\n",
       "       '1_bed_rent_sqft', '1_bed_avg_sqft', '1_bed_concession_%',\n",
       "       '1_bed_vacancy_%', 'Num_2_bed', '2_bed_rent_sqft', '2_bed_avg_sqft',\n",
       "       '2_bed_concession_%', '2_bed_vacancy_%', 'Num_3_bed', '3_bed_rent_sqft',\n",
       "       '3_bed_avg_sqft', '3_bed_concession_%', '3_bed_vacancy_%', 'Num_4_bed',\n",
       "       '4_bed_rent_sqft', '4_bed_avg_sqft', '4_bed_concession_%',\n",
       "       '4_bed_vacancy_%', '2010_Avg_age', '2019_Avg_age', '2019_Pop_25_39',\n",
       "       '2024_Avg_age', '2024_Pop_25_39', 'Unnamed: 0_y', 'SID',\n",
       "       'SCSitus_NumNam_y', 'Building_age', 'Cap_rate_pro_forma',\n",
       "       'Cap_rate_actual', 'Land_value', 'Total_value', 'Assessed_yr',\n",
       "       'Floor_area_ratio', 'Num_floors', 'Price_per_sqft', 'Land_price_per_AC',\n",
       "       'Sale_date', 'Sale_price'],\n",
       "      dtype='object')"
      ]
     },
     "execution_count": 3,
     "metadata": {},
     "output_type": "execute_result"
    }
   ],
   "source": [
    "texas.columns.unique()"
   ]
  },
  {
   "cell_type": "code",
   "execution_count": 4,
   "metadata": {},
   "outputs": [],
   "source": [
    "## Convert columns to proper format\n",
    "texas.Last_sale_date = pd.to_datetime(texas.Last_sale_date)\n",
    "texas.Sale_date = pd.to_datetime(texas.Sale_date)\n",
    "texas['Vacancy_%'] = texas['Vacancy_%']/100\n",
    "texas.Cap_rate = texas.Cap_rate / 100\n",
    "texas[\"Avg_Concession_%\"] =texas[\"Avg_Concession_%\"]/100\n",
    "texas[\"Cap_rate_pro_forma\"] = texas[\"Cap_rate_pro_forma\"]/100\n",
    "texas[\"Cap_rate_actual\"] = texas[\"Cap_rate_actual\"]/100\n",
    "texas[\"Last_sale_price\"] = texas[\"Last_sale_price\"].str.replace(\",\", \"\")\n",
    "\n",
    "\n",
    "texas[\"Studio_concession_%\"] = texas[\"Studio_concession_%\"]/100\n",
    "texas[\"Studio_vacancy_%\"] = texas[\"Studio_vacancy_%\"]/100\n",
    "texas[\"1_bed_concession_%\"] = texas[\"1_bed_concession_%\"]/100\n",
    "texas[\"1_bed_vacancy_%\"] = texas[\"1_bed_vacancy_%\"]/100\n",
    "texas[\"2_bed_concession_%\"] = texas[\"2_bed_concession_%\"]/100\n",
    "texas[\"2_bed_vacancy_%\"] = texas[\"2_bed_vacancy_%\"]/100\n",
    "texas[\"3_bed_concession_%\"] = texas[\"3_bed_concession_%\"]/100\n",
    "texas[\"3_bed_vacancy_%\"] = texas[\"3_bed_vacancy_%\"]/100\n",
    "texas[\"4_bed_concession_%\"] = texas[\"4_bed_concession_%\"]/100\n",
    "texas[\"4_bed_vacancy_%\"] = texas[\"4_bed_vacancy_%\"]/100"
   ]
  },
  {
   "cell_type": "markdown",
   "metadata": {},
   "source": [
    "## To Calculate NOI, we need Sales Price, Cap rate, Land value, Concession, Vacancy%"
   ]
  },
  {
   "cell_type": "code",
   "execution_count": 5,
   "metadata": {},
   "outputs": [],
   "source": [
    "## Create a final Price column\n",
    "texas[\"Price\"] = texas.Sale_price"
   ]
  },
  {
   "cell_type": "code",
   "execution_count": 6,
   "metadata": {},
   "outputs": [],
   "source": [
    "### Fill in the null value with approximates\n",
    "texas[\"Price\"].fillna(texas[\"Last_sale_price\"], inplace = True)\n",
    "texas.Price.fillna((texas[\"Total_value\"]), inplace = True)"
   ]
  },
  {
   "cell_type": "code",
   "execution_count": 7,
   "metadata": {},
   "outputs": [],
   "source": [
    "## Remove entries with null sales price\n",
    "texas = texas.dropna(subset = [\"Price\"]).reset_index()\n",
    "texas = texas.drop(texas.columns[0], axis = 1)"
   ]
  },
  {
   "cell_type": "code",
   "execution_count": 8,
   "metadata": {},
   "outputs": [
    {
     "data": {
      "text/plain": [
       "(5751, 74)"
      ]
     },
     "execution_count": 8,
     "metadata": {},
     "output_type": "execute_result"
    }
   ],
   "source": [
    "texas.shape"
   ]
  },
  {
   "cell_type": "code",
   "execution_count": 9,
   "metadata": {},
   "outputs": [],
   "source": [
    "### In the case of no approximates, use average cap rate for city\n",
    "\n",
    "avg_cap_rate = texas.groupby(\"State\")[\"Cap_rate\"].mean()"
   ]
  },
  {
   "cell_type": "code",
   "execution_count": 10,
   "metadata": {},
   "outputs": [
    {
     "data": {
      "text/plain": [
       "State\n",
       "TX   NaN\n",
       "Name: Cap_rate, dtype: float64"
      ]
     },
     "execution_count": 10,
     "metadata": {},
     "output_type": "execute_result"
    }
   ],
   "source": [
    "avg_cap_rate"
   ]
  },
  {
   "cell_type": "code",
   "execution_count": 11,
   "metadata": {},
   "outputs": [],
   "source": [
    "## Create general cap rate column and fill in the null value with approximates\n",
    "\n",
    "texas.Cap_rate.fillna(texas[\"Cap_rate_actual\"], inplace = True)\n",
    "texas.Cap_rate.fillna(texas[\"Cap_rate_pro_forma\"], inplace = True)\n"
   ]
  },
  {
   "cell_type": "code",
   "execution_count": 12,
   "metadata": {},
   "outputs": [],
   "source": [
    "avg_cap_rate = texas.groupby(\"State\")[\"Cap_rate\"].mean()"
   ]
  },
  {
   "cell_type": "code",
   "execution_count": 13,
   "metadata": {},
   "outputs": [
    {
     "data": {
      "text/plain": [
       "State\n",
       "TX    0.070101\n",
       "Name: Cap_rate, dtype: float64"
      ]
     },
     "execution_count": 13,
     "metadata": {},
     "output_type": "execute_result"
    }
   ],
   "source": [
    "avg_cap_rate"
   ]
  },
  {
   "cell_type": "code",
   "execution_count": 14,
   "metadata": {},
   "outputs": [],
   "source": [
    "texas.Cap_rate.fillna(avg_cap_rate[0], inplace = True)"
   ]
  },
  {
   "cell_type": "code",
   "execution_count": 15,
   "metadata": {},
   "outputs": [],
   "source": [
    "## Remove entry with null cap rate\n",
    "texas = texas.dropna(subset = [\"Cap_rate\"])"
   ]
  },
  {
   "cell_type": "code",
   "execution_count": 16,
   "metadata": {},
   "outputs": [
    {
     "data": {
      "text/plain": [
       "Int64Index([84, 989, 3440, 4119], dtype='int64')"
      ]
     },
     "execution_count": 16,
     "metadata": {},
     "output_type": "execute_result"
    }
   ],
   "source": [
    "texas.loc[texas[\"Vacancy_%\"] > 0.8].index"
   ]
  },
  {
   "cell_type": "code",
   "execution_count": 17,
   "metadata": {},
   "outputs": [],
   "source": [
    "texas = texas.drop(texas.index[[84,989,3440,4119]]).reset_index()"
   ]
  },
  {
   "cell_type": "code",
   "execution_count": 18,
   "metadata": {},
   "outputs": [
    {
     "data": {
      "text/plain": [
       "(5747, 75)"
      ]
     },
     "execution_count": 18,
     "metadata": {},
     "output_type": "execute_result"
    }
   ],
   "source": [
    "texas.shape"
   ]
  },
  {
   "cell_type": "code",
   "execution_count": 19,
   "metadata": {},
   "outputs": [
    {
     "data": {
      "text/plain": [
       "County\n",
       "Bastrop      NaN\n",
       "Bee          NaN\n",
       "Cherokee     NaN\n",
       "Hutchinson   NaN\n",
       "Washington   NaN\n",
       "Wharton      NaN\n",
       "Name: Land_value, dtype: float64"
      ]
     },
     "execution_count": 19,
     "metadata": {},
     "output_type": "execute_result"
    }
   ],
   "source": [
    "## Generate general Land value \n",
    "avg_land_value = texas.groupby(\"County\")[\"Land_value\"].mean()\n",
    "avg_land_value[avg_land_value.isna()]"
   ]
  },
  {
   "cell_type": "code",
   "execution_count": 20,
   "metadata": {},
   "outputs": [
    {
     "data": {
      "text/plain": [
       "array(['Bexar', 'Travis', 'Brown', 'Lubbock', 'Jefferson', 'Kaufman',\n",
       "       'Nueces', 'Hidalgo', 'Tarrant', 'Dallas', 'Tom Green', 'Harris',\n",
       "       'Williamson', 'Smith', 'Fort Bend', 'Collin', 'Bell', 'Johnson',\n",
       "       'Hays', 'Midland', 'El Paso', 'Cameron', 'Montgomery', 'Brazoria',\n",
       "       'Hunt', 'Cherokee', 'Lamar', 'Franklin', 'Denton', 'Angelina',\n",
       "       'Ector', 'Taylor', 'Victoria', 'Gregg', 'Galveston', 'Comal',\n",
       "       'Randall', 'Hardin', 'Medina', 'Ellis', 'Liberty', 'Hutchinson',\n",
       "       'Chambers', 'Palo Pinto', 'Mclennan', 'Val Verde', 'Parker',\n",
       "       'Wharton', 'Washington', 'Brazos', 'San Patricio', 'Henderson',\n",
       "       'Walker', 'Orange', 'Kendall', 'Matagorda', 'Wichita',\n",
       "       'Nacogdoches', 'Rockwall', 'Polk', 'Kleberg', 'Guadalupe', 'Hood',\n",
       "       'Gillespie', 'Potter', 'Hill', 'Hopkins', 'Wise', 'Bee', 'Hale',\n",
       "       'Grayson', 'Webb', 'Bowie', 'Aransas', 'Erath', 'Bastrop',\n",
       "       'Navarro'], dtype=object)"
      ]
     },
     "execution_count": 20,
     "metadata": {},
     "output_type": "execute_result"
    }
   ],
   "source": [
    "county = texas.County.unique()\n",
    "county"
   ]
  },
  {
   "cell_type": "code",
   "execution_count": 21,
   "metadata": {},
   "outputs": [],
   "source": [
    "for i in county:\n",
    "    texas.loc[texas['Land_value'].isnull() & (texas.County == i), 'Land_value'] = avg_land_value[i]\n",
    "    texas.loc[(texas['Land_value'] == 0) & (texas.County == i), 'Land_value'] = avg_land_value[i]\n",
    "\n",
    "texas.loc[texas['Land_value'].isnull() & (texas.County == \"Bastrop\"), 'Land_value'] = avg_land_value.mean()\n",
    "texas.loc[texas['Land_value'].isnull() & (texas.County == \"Bee\"), 'Land_value'] = avg_land_value.mean()\n",
    "texas.loc[texas['Land_value'].isnull() & (texas.County == \"Cherokee\"), 'Land_value'] = avg_land_value.mean()\n",
    "texas.loc[texas['Land_value'].isnull() & (texas.County == \"Hutchinson\"), 'Land_value'] = avg_land_value.mean()\n",
    "texas.loc[texas['Land_value'].isnull() & (texas.County == \"Washington\"), 'Land_value'] = avg_land_value.mean()\n",
    "texas.loc[texas['Land_value'].isnull() & (texas.County == \"Wharton\"), 'Land_value'] = avg_land_value.mean()"
   ]
  },
  {
   "cell_type": "code",
   "execution_count": 22,
   "metadata": {},
   "outputs": [
    {
     "data": {
      "image/png": "[encoded data removed]",
      "text/plain": [
       "<Figure size 432x288 with 1 Axes>"
      ]
     },
     "metadata": {
      "needs_background": "light"
     },
     "output_type": "display_data"
    }
   ],
   "source": [
    "plt.figure()\n",
    "\n",
    "plt.boxplot(texas[\"Land_value\"])\n",
    "\n",
    "plt.show()"
   ]
  },
  {
   "cell_type": "code",
   "execution_count": 23,
   "metadata": {},
   "outputs": [],
   "source": [
    "## Concession % - Assuming it's a percentage of sales price\n",
    "\n",
    "a = []\n",
    "\n",
    "for i in range(len(texas)):\n",
    "    a.append(float(texas.Price[i])*texas[\"Avg_Concession_%\"][i])"
   ]
  },
  {
   "cell_type": "code",
   "execution_count": 24,
   "metadata": {},
   "outputs": [],
   "source": [
    "texas[\"Concession_value\"] = a"
   ]
  },
  {
   "cell_type": "code",
   "execution_count": 25,
   "metadata": {},
   "outputs": [],
   "source": [
    "## Create Column for NOI\n",
    "\n",
    "b = []\n",
    "\n",
    "for i in range(len(texas)):\n",
    "    b.append((float(texas.Price[i]) - texas[\"Land_value\"][i] + texas[\"Concession_value\"][i])\\\n",
    "             *texas[\"Cap_rate\"][i]/(1-texas[\"Vacancy_%\"][i]))"
   ]
  },
  {
   "cell_type": "code",
   "execution_count": 26,
   "metadata": {},
   "outputs": [],
   "source": [
    "texas[\"NOI\"] = b"
   ]
  },
  {
   "cell_type": "code",
   "execution_count": 27,
   "metadata": {},
   "outputs": [
    {
     "data": {
      "text/html": [
       "<div>\n",
       "<style scoped>\n",
       "    .dataframe tbody tr th:only-of-type {\n",
       "        vertical-align: middle;\n",
       "    }\n",
       "\n",
       "    .dataframe tbody tr th {\n",
       "        vertical-align: top;\n",
       "    }\n",
       "\n",
       "    .dataframe thead th {\n",
       "        text-align: right;\n",
       "    }\n",
       "</style>\n",
       "<table border=\"1\" class=\"dataframe\">\n",
       "  <thead>\n",
       "    <tr style=\"text-align: right;\">\n",
       "      <th></th>\n",
       "      <th>index</th>\n",
       "      <th>Unnamed: 0</th>\n",
       "      <th>Unnamed: 0_x</th>\n",
       "      <th>SCAPN</th>\n",
       "      <th>SCSitus_NumNam_x</th>\n",
       "      <th>PropID</th>\n",
       "      <th>Star_rating</th>\n",
       "      <th>City</th>\n",
       "      <th>State</th>\n",
       "      <th>Zip</th>\n",
       "      <th>...</th>\n",
       "      <th>Assessed_yr</th>\n",
       "      <th>Floor_area_ratio</th>\n",
       "      <th>Num_floors</th>\n",
       "      <th>Price_per_sqft</th>\n",
       "      <th>Land_price_per_AC</th>\n",
       "      <th>Sale_date</th>\n",
       "      <th>Sale_price</th>\n",
       "      <th>Price</th>\n",
       "      <th>Concession_value</th>\n",
       "      <th>NOI</th>\n",
       "    </tr>\n",
       "  </thead>\n",
       "  <tbody>\n",
       "    <tr>\n",
       "      <th>0</th>\n",
       "      <td>0</td>\n",
       "      <td>1</td>\n",
       "      <td>1</td>\n",
       "      <td>TX Bexar 00273-002-0011</td>\n",
       "      <td>TX Bexar939 Frio St</td>\n",
       "      <td>P10570</td>\n",
       "      <td>4</td>\n",
       "      <td>San Antonio</td>\n",
       "      <td>TX</td>\n",
       "      <td>78207</td>\n",
       "      <td>...</td>\n",
       "      <td>2016.0</td>\n",
       "      <td>0.853417</td>\n",
       "      <td>5.0</td>\n",
       "      <td>175.0</td>\n",
       "      <td>6505576.21</td>\n",
       "      <td>1970-01-01 00:00:00.000042719</td>\n",
       "      <td>17500000.0</td>\n",
       "      <td>1.75e+07</td>\n",
       "      <td>105000.000</td>\n",
       "      <td>892926.393270</td>\n",
       "    </tr>\n",
       "    <tr>\n",
       "      <th>1</th>\n",
       "      <td>1</td>\n",
       "      <td>4</td>\n",
       "      <td>4</td>\n",
       "      <td>TX Travis 04120906540000</td>\n",
       "      <td>TX Travis5112 1st St</td>\n",
       "      <td>P10573</td>\n",
       "      <td>3</td>\n",
       "      <td>Austin</td>\n",
       "      <td>TX</td>\n",
       "      <td>787452293</td>\n",
       "      <td>...</td>\n",
       "      <td>NaN</td>\n",
       "      <td>NaN</td>\n",
       "      <td>NaN</td>\n",
       "      <td>NaN</td>\n",
       "      <td>NaN</td>\n",
       "      <td>NaT</td>\n",
       "      <td>NaN</td>\n",
       "      <td>10000000</td>\n",
       "      <td>60000.000</td>\n",
       "      <td>467114.698218</td>\n",
       "    </tr>\n",
       "    <tr>\n",
       "      <th>2</th>\n",
       "      <td>2</td>\n",
       "      <td>5</td>\n",
       "      <td>5</td>\n",
       "      <td>TX Brown 55022</td>\n",
       "      <td>TX Brown2801 4th St</td>\n",
       "      <td>P10574</td>\n",
       "      <td>3</td>\n",
       "      <td>Brownwood</td>\n",
       "      <td>TX</td>\n",
       "      <td>768016161</td>\n",
       "      <td>...</td>\n",
       "      <td>2014.0</td>\n",
       "      <td>0.306697</td>\n",
       "      <td>2.0</td>\n",
       "      <td>NaN</td>\n",
       "      <td>NaN</td>\n",
       "      <td>1970-01-01 00:00:00.000042048</td>\n",
       "      <td>NaN</td>\n",
       "      <td>1.64401e+06</td>\n",
       "      <td>6576.040</td>\n",
       "      <td>115386.377347</td>\n",
       "    </tr>\n",
       "    <tr>\n",
       "      <th>3</th>\n",
       "      <td>3</td>\n",
       "      <td>6</td>\n",
       "      <td>6</td>\n",
       "      <td>TX Lubbock R94203</td>\n",
       "      <td>TX Lubbock5525 4th St</td>\n",
       "      <td>P10575</td>\n",
       "      <td>2</td>\n",
       "      <td>Lubbock</td>\n",
       "      <td>TX</td>\n",
       "      <td>794164230</td>\n",
       "      <td>...</td>\n",
       "      <td>2015.0</td>\n",
       "      <td>0.339285</td>\n",
       "      <td>1.0</td>\n",
       "      <td>NaN</td>\n",
       "      <td>NaN</td>\n",
       "      <td>1970-01-01 00:00:00.000042250</td>\n",
       "      <td>NaN</td>\n",
       "      <td>2.24072e+06</td>\n",
       "      <td>15685.075</td>\n",
       "      <td>134619.352154</td>\n",
       "    </tr>\n",
       "    <tr>\n",
       "      <th>4</th>\n",
       "      <td>4</td>\n",
       "      <td>7</td>\n",
       "      <td>6</td>\n",
       "      <td>TX Lubbock R94203</td>\n",
       "      <td>TX Lubbock5525 4th St</td>\n",
       "      <td>P10575</td>\n",
       "      <td>2</td>\n",
       "      <td>Lubbock</td>\n",
       "      <td>TX</td>\n",
       "      <td>794164230</td>\n",
       "      <td>...</td>\n",
       "      <td>2011.0</td>\n",
       "      <td>0.339285</td>\n",
       "      <td>1.0</td>\n",
       "      <td>NaN</td>\n",
       "      <td>NaN</td>\n",
       "      <td>1970-01-01 00:00:00.000040997</td>\n",
       "      <td>NaN</td>\n",
       "      <td>2.10688e+06</td>\n",
       "      <td>14748.181</td>\n",
       "      <td>124489.406682</td>\n",
       "    </tr>\n",
       "  </tbody>\n",
       "</table>\n",
       "<p>5 rows × 77 columns</p>\n",
       "</div>"
      ],
      "text/plain": [
       "   index  Unnamed: 0  Unnamed: 0_x                     SCAPN  \\\n",
       "0      0           1             1   TX Bexar 00273-002-0011   \n",
       "1      1           4             4  TX Travis 04120906540000   \n",
       "2      2           5             5            TX Brown 55022   \n",
       "3      3           6             6         TX Lubbock R94203   \n",
       "4      4           7             6         TX Lubbock R94203   \n",
       "\n",
       "        SCSitus_NumNam_x  PropID  Star_rating         City State        Zip  \\\n",
       "0    TX Bexar939 Frio St  P10570            4  San Antonio    TX      78207   \n",
       "1   TX Travis5112 1st St  P10573            3       Austin    TX  787452293   \n",
       "2    TX Brown2801 4th St  P10574            3    Brownwood    TX  768016161   \n",
       "3  TX Lubbock5525 4th St  P10575            2      Lubbock    TX  794164230   \n",
       "4  TX Lubbock5525 4th St  P10575            2      Lubbock    TX  794164230   \n",
       "\n",
       "   ... Assessed_yr  Floor_area_ratio Num_floors  Price_per_sqft  \\\n",
       "0  ...      2016.0          0.853417        5.0           175.0   \n",
       "1  ...         NaN               NaN        NaN             NaN   \n",
       "2  ...      2014.0          0.306697        2.0             NaN   \n",
       "3  ...      2015.0          0.339285        1.0             NaN   \n",
       "4  ...      2011.0          0.339285        1.0             NaN   \n",
       "\n",
       "   Land_price_per_AC                     Sale_date  Sale_price        Price  \\\n",
       "0         6505576.21 1970-01-01 00:00:00.000042719  17500000.0     1.75e+07   \n",
       "1                NaN                           NaT         NaN     10000000   \n",
       "2                NaN 1970-01-01 00:00:00.000042048         NaN  1.64401e+06   \n",
       "3                NaN 1970-01-01 00:00:00.000042250         NaN  2.24072e+06   \n",
       "4                NaN 1970-01-01 00:00:00.000040997         NaN  2.10688e+06   \n",
       "\n",
       "   Concession_value            NOI  \n",
       "0        105000.000  892926.393270  \n",
       "1         60000.000  467114.698218  \n",
       "2          6576.040  115386.377347  \n",
       "3         15685.075  134619.352154  \n",
       "4         14748.181  124489.406682  \n",
       "\n",
       "[5 rows x 77 columns]"
      ]
     },
     "execution_count": 27,
     "metadata": {},
     "output_type": "execute_result"
    }
   ],
   "source": [
    "texas.head()"
   ]
  },
  {
   "cell_type": "code",
   "execution_count": 28,
   "metadata": {},
   "outputs": [],
   "source": [
    "## Remove negative NOI that doesn't make sense\n",
    "texas = texas.drop(texas[texas.NOI<0].index, axis = 0)"
   ]
  },
  {
   "cell_type": "code",
   "execution_count": 29,
   "metadata": {},
   "outputs": [],
   "source": [
    "texas.to_csv(\"TX_NOI.csv\")"
   ]
  },
  {
   "cell_type": "code",
   "execution_count": null,
   "metadata": {},
   "outputs": [],
   "source": []
  }
 ],
 "metadata": {
  "kernelspec": {
   "display_name": "Python 3",
   "language": "python",
   "name": "python3"
  },
  "language_info": {
   "codemirror_mode": {
    "name": "ipython",
    "version": 3
   },
   "file_extension": ".py",
   "mimetype": "text/x-python",
   "name": "python",
   "nbconvert_exporter": "python",
   "pygments_lexer": "ipython3",
   "version": "3.7.3"
  }
 },
 "nbformat": 4,
 "nbformat_minor": 2
}
